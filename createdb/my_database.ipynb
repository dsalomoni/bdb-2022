{
 "cells": [
  {
   "cell_type": "markdown",
   "metadata": {},
   "source": [
    "# Biomedical Data Bases, 2020-2021\n",
    "###  Create Your Own Database\n",
    "These are the notes by prof. Davide Salomoni (d.salomoni@unibo.it) for the Biomedical Data Base course at the University of Bologna, academic year 2020-2021.\n",
    "\n",
    "## Reinstall the redis module\n",
    "\n",
    "Remember that you should have already started the Redis _with persistence_."
   ]
  },
  {
   "cell_type": "code",
   "execution_count": 2,
   "metadata": {},
   "outputs": [
    {
     "name": "stdout",
     "output_type": "stream",
     "text": [
      "Collecting redis\n",
      "  Using cached redis-3.5.3-py2.py3-none-any.whl (72 kB)\n",
      "Installing collected packages: redis\n",
      "Successfully installed redis-3.5.3\n"
     ]
    }
   ],
   "source": [
    "! pip install redis"
   ]
  },
  {
   "cell_type": "code",
   "execution_count": 82,
   "metadata": {},
   "outputs": [],
   "source": [
    "import redis\n",
    "r = redis.Redis(host=\"my_redis\")"
   ]
  },
  {
   "cell_type": "markdown",
   "metadata": {},
   "source": [
    "## Verify how to map a Python dictionary to a Redis hash"
   ]
  },
  {
   "cell_type": "code",
   "execution_count": 83,
   "metadata": {},
   "outputs": [
    {
     "name": "stdout",
     "output_type": "stream",
     "text": [
      "{b'one': b'1', b'two': b'2', b'three': b'3', b'four': b'4'}\n"
     ]
    }
   ],
   "source": [
    "# create a test Python dictionary\n",
    "my_dict = {'one': 1, 'two': 2, 'three': 3, 'four': 4}\n",
    "\n",
    "# create the hash \"numbers\" in redis\n",
    "r.hset('numbers', mapping=my_dict)\n",
    "\n",
    "# get the hash back from redis as a python dictionary\n",
    "new_dict = r.hgetall('numbers')\n",
    "print(new_dict)"
   ]
  },
  {
   "cell_type": "code",
   "execution_count": 84,
   "metadata": {},
   "outputs": [
    {
     "name": "stdout",
     "output_type": "stream",
     "text": [
      "[b'numbers']\n"
     ]
    }
   ],
   "source": [
    "# find all keys in the DB matching the expression '*umb*'\n",
    "my_keys = r.keys('*umb*')\n",
    "print(my_keys)"
   ]
  },
  {
   "cell_type": "code",
   "execution_count": 85,
   "metadata": {},
   "outputs": [
    {
     "name": "stdout",
     "output_type": "stream",
     "text": [
      "{}\n"
     ]
    }
   ],
   "source": [
    "# delete the key 'numbers' from Redis\n",
    "r.delete('numbers')\n",
    "\n",
    "# confirm it is now deleted\n",
    "print(r.hgetall('numbers'))"
   ]
  },
  {
   "cell_type": "markdown",
   "metadata": {},
   "source": [
    "## Query PDB, Uniprot and store the results in Redis\n",
    "\n",
    "Refer to the slides for details about the data model."
   ]
  },
  {
   "cell_type": "code",
   "execution_count": 86,
   "metadata": {},
   "outputs": [],
   "source": [
    "import requests\n",
    "pdb_query = '''\n",
    "{\n",
    "  entries(entry_ids: [\"4GYD\", \"1TU2\"]) {\n",
    "    entry {\n",
    "      id\n",
    "    }\n",
    "    rcsb_entry_info {\n",
    "      molecular_weight\n",
    "      deposited_atom_count\n",
    "      deposited_modeled_polymer_monomer_count\n",
    "    }\n",
    "    polymer_entities {\n",
    "      rcsb_entity_source_organism {\n",
    "        ncbi_scientific_name\n",
    "      }\n",
    "      uniprots {\n",
    "        rcsb_uniprot_container_identifiers {\n",
    "          uniprot_id\n",
    "        }\n",
    "        rcsb_uniprot_protein {\n",
    "          name {\n",
    "            value\n",
    "          }\n",
    "        }\n",
    "      }\n",
    "    }\n",
    "  }\n",
    "}\n",
    "'''\n",
    "# get the PDB data with GraphQL\n",
    "p = requests.get('https://data.rcsb.org/graphql?query=%s' % requests.utils.requote_uri(pdb_query))\n",
    "j = p.json()"
   ]
  },
  {
   "cell_type": "code",
   "execution_count": 87,
   "metadata": {},
   "outputs": [
    {
     "data": {
      "text/plain": [
       "{'entries': [{'entry': {'id': '4GYD'},\n",
       "   'rcsb_entry_info': {'molecular_weight': 58.57,\n",
       "    'deposited_atom_count': 4598,\n",
       "    'deposited_modeled_polymer_monomer_count': 516},\n",
       "   'polymer_entities': [{'rcsb_entity_source_organism': [{'ncbi_scientific_name': 'Nostoc sp. PCC 7120 = FACHB-418'}],\n",
       "     'uniprots': [{'rcsb_uniprot_container_identifiers': {'uniprot_id': 'P0A3X7'},\n",
       "       'rcsb_uniprot_protein': {'name': {'value': 'Cytochrome c6'}}}]}]},\n",
       "  {'entry': {'id': '1TU2'},\n",
       "   'rcsb_entry_info': {'molecular_weight': 39.04,\n",
       "    'deposited_atom_count': 2747,\n",
       "    'deposited_modeled_polymer_monomer_count': 359},\n",
       "   'polymer_entities': [{'rcsb_entity_source_organism': [{'ncbi_scientific_name': 'Nostoc sp. PCC 7119'}],\n",
       "     'uniprots': [{'rcsb_uniprot_container_identifiers': {'uniprot_id': 'P46444'},\n",
       "       'rcsb_uniprot_protein': {'name': {'value': 'Plastocyanin'}}}]},\n",
       "    {'rcsb_entity_source_organism': [{'ncbi_scientific_name': 'Nostoc sp. PCC 7119'}],\n",
       "     'uniprots': [{'rcsb_uniprot_container_identifiers': {'uniprot_id': 'Q93SW9'},\n",
       "       'rcsb_uniprot_protein': {'name': {'value': 'Cytochrome f'}}}]}]}]}"
      ]
     },
     "execution_count": 87,
     "metadata": {},
     "output_type": "execute_result"
    }
   ],
   "source": [
    "# explore how the returned data looks like:\n",
    "# it is a set of nested Python data structures\n",
    "# we will need to extract the values we need\n",
    "j['data']"
   ]
  },
  {
   "cell_type": "code",
   "execution_count": 88,
   "metadata": {},
   "outputs": [
    {
     "name": "stdout",
     "output_type": "stream",
     "text": [
      "ID :  4GYD\n",
      "Macromolecule parameters:\n",
      "  molecular weight (kDa);  58.57\n",
      "ID :  1TU2\n",
      "Macromolecule parameters:\n",
      "  molecular weight (kDa);  39.04\n"
     ]
    }
   ],
   "source": [
    "# for example, extract some macromolecule parameters\n",
    "for prot in (j['data']['entries']):\n",
    "    # each entry corresponds to a single PDB ID\n",
    "    print(\"ID : \", prot['entry']['id'])\n",
    "    print(\"Macromolecule parameters:\")\n",
    "    print(\"  molecular weight (kDa); \", prot['rcsb_entry_info']['molecular_weight'])"
   ]
  },
  {
   "cell_type": "code",
   "execution_count": 161,
   "metadata": {},
   "outputs": [
    {
     "name": "stdout",
     "output_type": "stream",
     "text": [
      "PDB: 4GYD\n",
      "Uniprot: P0A3X7 Nostoc sp. PCC 7120 = FACHB-418 Cytochrome c6\n",
      "GO:0031977 C:thylakoid lumen IEA:UniProtKB-SubCell\n",
      "GO:0009055 F:electron transfer activity IEA:UniProtKB-UniRule\n",
      "GO:0020037 F:heme binding IEA:InterPro\n",
      "GO:0005506 F:iron ion binding IEA:InterPro\n",
      "GO:0015979 P:photosynthesis IEA:UniProtKB-UniRule\n",
      "PDB: 1TU2\n",
      "Uniprot: P46444 Nostoc sp. PCC 7119 Plastocyanin\n",
      "GO:0042651 C:thylakoid membrane IEA:UniProtKB-SubCell\n",
      "GO:0005507 F:copper ion binding IEA:UniProtKB-UniRule\n",
      "GO:0009055 F:electron transfer activity IEA:UniProtKB-UniRule\n",
      "Uniprot: Q93SW9 Nostoc sp. PCC 7119 Cytochrome f\n",
      "GO:0031361 C:integral component of thylakoid membrane IEA:InterPro\n",
      "GO:0009055 F:electron transfer activity IEA:UniProtKB-UniRule\n",
      "GO:0020037 F:heme binding IEA:InterPro\n",
      "GO:0005506 F:iron ion binding IEA:InterPro\n",
      "GO:0015979 P:photosynthesis IEA:UniProtKB-UniRule\n"
     ]
    }
   ],
   "source": [
    "# extract data and update the Redis database\n",
    "# let's start with a clean database (WARNING: THIS WILL DELETE ALL EXISTING ENTRIES)\n",
    "r.flushall()\n",
    "# the print() statements below are for explanatory purposes\n",
    "for protein in j['data']['entries']:\n",
    "    # parameters at the individual PDB entry level\n",
    "    pdb_id = protein['entry']['id']\n",
    "    print(\"PDB:\", pdb_id)\n",
    "    weight = protein['rcsb_entry_info']['molecular_weight']\n",
    "    atom_count = protein['rcsb_entry_info']['deposited_atom_count']\n",
    "    residue_count = protein['rcsb_entry_info']['deposited_modeled_polymer_monomer_count']\n",
    "    # store an entry (a hash) with the parameters above in Redis\n",
    "    # the key will be the PDB ID\n",
    "    pdb_dict = {'weight': weight, 'atom_count': atom_count, 'residue_count': residue_count}\n",
    "    r.hset(pdb_id, mapping=pdb_dict)\n",
    "    # update the PDB index\n",
    "    r.sadd('PDB:index', pdb_id)\n",
    "    for polymer in protein['polymer_entities']:\n",
    "        # parameters for the polymers\n",
    "        source_name = polymer['rcsb_entity_source_organism'][0]['ncbi_scientific_name']\n",
    "        for uprot in polymer['uniprots']:\n",
    "            # uniprot-related data\n",
    "            uprot_id = uprot['rcsb_uniprot_container_identifiers']['uniprot_id']\n",
    "            uprot_name = uprot['rcsb_uniprot_protein']['name']['value']\n",
    "            print(\"Uniprot:\", uprot_id, source_name, uprot_name)\n",
    "            # store an entry (a hash) with the source_name and uprot_name in Redis\n",
    "            # the key will be PDB_ID:UNIPROT_ID\n",
    "            key = '%s:%s' % (pdb_id, uprot_id)\n",
    "            r.hset(key, 'organism', source_name)\n",
    "            r.hset(key, 'name', uprot_name)\n",
    "            # update the Uniprot index\n",
    "            r.sadd('UNIPROT:index', uprot_id)\n",
    "            # call the uniprot REST API looking up uprot_id\n",
    "            uniprot_url = 'https://www.ebi.ac.uk/proteins/api/proteins?offset=0&size=10&accession=%s' % uprot_id\n",
    "            u = requests.get(uniprot_url, headers={\"Accept\" : \"application/json\"})\n",
    "            # the Gene Ontology information is stored in the 'dbReferences' structure (see slides)\n",
    "            db_info = u.json()[0]['dbReferences']\n",
    "            for db in db_info:\n",
    "                if db['type'] == 'GO':\n",
    "                    # it is a Gene Ontology entry\n",
    "                    go_id = db['id']\n",
    "                    go_term = db['properties']['term']\n",
    "                    go_source = db['properties']['source']\n",
    "                    print(go_id, go_term, go_source)\n",
    "                    # store an entry (a hash) with GO info in Redis\n",
    "                    # the key will be PDB_ID:UNIPROT_ID:GO_ID\n",
    "                    key = '%s:%s:%s' % (pdb_id, uprot_id, go_id)\n",
    "                    go_dict = {'go_term': go_term, 'go_source': go_source}\n",
    "                    r.hset(key, mapping=go_dict)\n"
   ]
  },
  {
   "cell_type": "code",
   "execution_count": 156,
   "metadata": {},
   "outputs": [
    {
     "data": {
      "text/plain": [
       "{b'weight': b'58.57', b'atom_count': b'4598', b'residue_count': b'516'}"
      ]
     },
     "execution_count": 156,
     "metadata": {},
     "output_type": "execute_result"
    }
   ],
   "source": [
    "# all characteristics of a given PDB ID:\n",
    "r.hgetall('4GYD')"
   ]
  },
  {
   "cell_type": "code",
   "execution_count": 157,
   "metadata": {},
   "outputs": [
    {
     "name": "stdout",
     "output_type": "stream",
     "text": [
      "{b'1TU2', b'4GYD'}\n"
     ]
    }
   ],
   "source": [
    "# all PDB IDs stored in the database:\n",
    "k = r.smembers('PDB:index')\n",
    "print(k)"
   ]
  },
  {
   "cell_type": "code",
   "execution_count": 158,
   "metadata": {},
   "outputs": [
    {
     "name": "stdout",
     "output_type": "stream",
     "text": [
      "{b'Q93SW9', b'P0A3X7', b'P46444'}\n"
     ]
    }
   ],
   "source": [
    "# all Uniprot IDs stored in the database:\n",
    "k = r.smembers('UNIPROT:index')\n",
    "print(k)"
   ]
  },
  {
   "cell_type": "code",
   "execution_count": 159,
   "metadata": {},
   "outputs": [
    {
     "name": "stdout",
     "output_type": "stream",
     "text": [
      "[b'1TU2:Q93SW9:GO:0031361', b'1TU2:Q93SW9:GO:0009055', b'1TU2:Q93SW9:GO:0005506', b'1TU2:Q93SW9:GO:0015979', b'1TU2:Q93SW9:GO:0020037']\n"
     ]
    }
   ],
   "source": [
    "# all GO entries for a certain Uniprot ID:\n",
    "k = r.keys('*:Q93SW9:GO:*')\n",
    "print(k)"
   ]
  },
  {
   "cell_type": "code",
   "execution_count": 162,
   "metadata": {},
   "outputs": [
    {
     "name": "stdout",
     "output_type": "stream",
     "text": [
      "{b'organism': b'Nostoc sp. PCC 7119', b'name': b'Cytochrome f'}\n",
      "b'1TU2:Q93SW9:GO:0031361' {b'go_term': b'C:integral component of thylakoid membrane', b'go_source': b'IEA:InterPro'}\n",
      "b'1TU2:Q93SW9:GO:0009055' {b'go_term': b'F:electron transfer activity', b'go_source': b'IEA:UniProtKB-UniRule'}\n",
      "b'1TU2:Q93SW9:GO:0005506' {b'go_term': b'F:iron ion binding', b'go_source': b'IEA:InterPro'}\n",
      "b'1TU2:Q93SW9:GO:0015979' {b'go_term': b'P:photosynthesis', b'go_source': b'IEA:UniProtKB-UniRule'}\n",
      "b'1TU2:Q93SW9:GO:0020037' {b'go_term': b'F:heme binding', b'go_source': b'IEA:InterPro'}\n"
     ]
    }
   ],
   "source": [
    "# all information about a certain Uniprot ID\n",
    "# and all information about its GO entries\n",
    "print(r.hgetall('1TU2:Q93SW9'))\n",
    "for k in r.keys('1TU2:Q93SW9:*'):\n",
    "    print(k, r.hgetall(k))"
   ]
  },
  {
   "cell_type": "code",
   "execution_count": 180,
   "metadata": {},
   "outputs": [
    {
     "name": "stdout",
     "output_type": "stream",
     "text": [
      "PDB ID: 1TU2\n",
      "  molecular weight (kDa): 39.04\n",
      "  atom count: 2747\n",
      "  residue count: 359\n",
      "PDB ID: 4GYD\n",
      "  molecular weight (kDa): 58.57\n",
      "  atom count: 4598\n",
      "  residue count: 516\n"
     ]
    }
   ],
   "source": [
    "# after a restart of the Redis database, verify that we still have the entries\n",
    "# note that in Redis by default entries are stored as \"bytes\"\n",
    "# so before processing the return values we decode them to string\n",
    "r = redis.Redis(host=\"my_redis\")\n",
    "for pdb in r.smembers('PDB:index'):\n",
    "    values = {k.decode('utf-8'):v.decode('utf-8') for k,v in r.hgetall(pdb).items()}\n",
    "    print(\"PDB ID:\", pdb.decode('utf-8'))\n",
    "    print(\"  molecular weight (kDa):\", values['weight'])\n",
    "    print(\"  atom count:\", values['atom_count'])\n",
    "    print(\"  residue count:\", values['residue_count'])"
   ]
  },
  {
   "cell_type": "code",
   "execution_count": null,
   "metadata": {},
   "outputs": [],
   "source": []
  }
 ],
 "metadata": {
  "kernelspec": {
   "display_name": "Python 3",
   "language": "python",
   "name": "python3"
  },
  "language_info": {
   "codemirror_mode": {
    "name": "ipython",
    "version": 3
   },
   "file_extension": ".py",
   "mimetype": "text/x-python",
   "name": "python",
   "nbconvert_exporter": "python",
   "pygments_lexer": "ipython3",
   "version": "3.8.6"
  }
 },
 "nbformat": 4,
 "nbformat_minor": 4
}
