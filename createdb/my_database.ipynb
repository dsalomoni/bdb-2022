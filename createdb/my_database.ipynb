{
 "cells": [
  {
   "cell_type": "markdown",
   "metadata": {},
   "source": [
    "# Biomedical Data Bases, 2021-2022\n",
    "###  Create Your Own Database\n",
    "These are notes by prof. Davide Salomoni (d.salomoni@unibo.it) for the Biomedical Data Base course at the University of Bologna, academic year 2021-2022.\n",
    "\n",
    "## Install the redis module\n",
    "\n",
    "Remember that you should have already started the Redis _with persistence_."
   ]
  },
  {
   "cell_type": "code",
   "execution_count": null,
   "metadata": {},
   "outputs": [],
   "source": [
    "! pip install redis"
   ]
  },
  {
   "cell_type": "code",
   "execution_count": null,
   "metadata": {},
   "outputs": [],
   "source": [
    "import redis\n",
    "r = redis.Redis(host=\"my_redis\")"
   ]
  },
  {
   "cell_type": "markdown",
   "metadata": {},
   "source": [
    "Is Redis running? Check with the `ping()` function. If Redis is running, it will return `True`. If Redis is _not_ running, `ping()` will raise an exception. Run the following cell when the Redis container is running and also when it is not."
   ]
  },
  {
   "cell_type": "code",
   "execution_count": null,
   "metadata": {},
   "outputs": [],
   "source": [
    "try:\n",
    "    if r.ping():\n",
    "        print('Redis is running')\n",
    "except redis.ConnectionError:\n",
    "    print('Redis is NOT running')"
   ]
  },
  {
   "cell_type": "markdown",
   "metadata": {},
   "source": [
    "## Verify how to map a Python dictionary to a Redis hash"
   ]
  },
  {
   "cell_type": "code",
   "execution_count": null,
   "metadata": {},
   "outputs": [],
   "source": [
    "# create a test Python dictionary\n",
    "my_dict = {'one': 1, 'two': 2, 'three': 3, 'four': 4}\n",
    "print(my_dict)"
   ]
  },
  {
   "cell_type": "code",
   "execution_count": null,
   "metadata": {},
   "outputs": [],
   "source": [
    "# create the hash \"numbers\" in redis\n",
    "r.hset('numbers', mapping=my_dict)\n",
    "\n",
    "# get the hash back from redis as a python dictionary\n",
    "new_dict = r.hgetall('numbers')\n",
    "print(new_dict)"
   ]
  },
  {
   "cell_type": "code",
   "execution_count": null,
   "metadata": {},
   "outputs": [],
   "source": [
    "# find all keys in the DB matching the expression '*umb*'\n",
    "my_keys = r.keys('*umb*')\n",
    "print(my_keys)"
   ]
  },
  {
   "cell_type": "code",
   "execution_count": null,
   "metadata": {},
   "outputs": [],
   "source": [
    "# delete the key 'numbers' from Redis\n",
    "r.delete('numbers')\n",
    "\n",
    "# confirm it is now deleted\n",
    "print(r.hgetall('numbers'))"
   ]
  },
  {
   "cell_type": "markdown",
   "metadata": {},
   "source": [
    "## Query PDB, Uniprot and store the results in Redis\n",
    "\n",
    "Refer to the slides for details about the data model."
   ]
  },
  {
   "cell_type": "code",
   "execution_count": null,
   "metadata": {},
   "outputs": [],
   "source": [
    "import requests\n",
    "pdb_query = '''\n",
    "{\n",
    "  entries(entry_ids: [\"4GYD\", \"1TU2\"]) {\n",
    "    entry {\n",
    "      id\n",
    "    }\n",
    "    rcsb_entry_info {\n",
    "      molecular_weight\n",
    "      deposited_atom_count\n",
    "      deposited_modeled_polymer_monomer_count\n",
    "    }\n",
    "    polymer_entities {\n",
    "      rcsb_entity_source_organism {\n",
    "        ncbi_scientific_name\n",
    "      }\n",
    "      uniprots {\n",
    "        rcsb_uniprot_container_identifiers {\n",
    "          uniprot_id\n",
    "        }\n",
    "        rcsb_uniprot_protein {\n",
    "          name {\n",
    "            value\n",
    "          }\n",
    "        }\n",
    "      }\n",
    "    }\n",
    "  }\n",
    "}\n",
    "'''\n",
    "# get the PDB data with GraphQL\n",
    "p = requests.get('https://data.rcsb.org/graphql?query=%s' % requests.utils.requote_uri(pdb_query))\n",
    "j = p.json()"
   ]
  },
  {
   "cell_type": "code",
   "execution_count": null,
   "metadata": {},
   "outputs": [],
   "source": [
    "# which keys are there?\n",
    "j.keys()"
   ]
  },
  {
   "cell_type": "code",
   "execution_count": null,
   "metadata": {},
   "outputs": [],
   "source": [
    "# explore what the returned data looks like:\n",
    "# it is a set of nested Python data structures;\n",
    "# we will need to extract the values we need\n",
    "j['data']"
   ]
  },
  {
   "cell_type": "code",
   "execution_count": null,
   "metadata": {},
   "outputs": [],
   "source": [
    "# for example, extract some macromolecule parameters\n",
    "for prot in (j['data']['entries']):\n",
    "    # each entry corresponds to a single PDB ID\n",
    "    print(\"ID : \", prot['entry']['id'])\n",
    "    print(\"Macromolecule parameters:\")\n",
    "    print(\"  molecular weight (kDa); \", prot['rcsb_entry_info']['molecular_weight'])"
   ]
  },
  {
   "cell_type": "code",
   "execution_count": null,
   "metadata": {},
   "outputs": [],
   "source": [
    "# extract data and update the Redis database\n",
    "# let's start with a clean database (WARNING: THIS WILL DELETE ALL EXISTING ENTRIES)\n",
    "r.flushall()\n",
    "# the print() statements below are for explanatory purposes\n",
    "for protein in j['data']['entries']:\n",
    "    # parameters at the individual PDB entry level\n",
    "    pdb_id = protein['entry']['id']\n",
    "    print(\"PDB:\", pdb_id)\n",
    "    weight = protein['rcsb_entry_info']['molecular_weight']\n",
    "    atom_count = protein['rcsb_entry_info']['deposited_atom_count']\n",
    "    residue_count = protein['rcsb_entry_info']['deposited_modeled_polymer_monomer_count']\n",
    "    # store an entry (a hash) with the parameters above in Redis\n",
    "    # the key will be the PDB ID\n",
    "    pdb_dict = {'weight': weight, 'atom_count': atom_count, 'residue_count': residue_count}\n",
    "    r.hset(pdb_id, mapping=pdb_dict)\n",
    "    # update the PDB index\n",
    "    r.sadd('PDB:index', pdb_id)\n",
    "    for polymer in protein['polymer_entities']:\n",
    "        # parameters for the polymers\n",
    "        source_name = polymer['rcsb_entity_source_organism'][0]['ncbi_scientific_name']\n",
    "        for uprot in polymer['uniprots']:\n",
    "            # uniprot-related data\n",
    "            uprot_id = uprot['rcsb_uniprot_container_identifiers']['uniprot_id']\n",
    "            uprot_name = uprot['rcsb_uniprot_protein']['name']['value']\n",
    "            print(\"Uniprot:\", uprot_id, source_name, uprot_name)\n",
    "            # store an entry (a hash) with the source_name and uprot_name in Redis\n",
    "            # the key will be PDB_ID:UNIPROT_ID\n",
    "            key = '%s:%s' % (pdb_id, uprot_id)\n",
    "            r.hset(key, 'organism', source_name)\n",
    "            r.hset(key, 'name', uprot_name)\n",
    "            # update the Uniprot index\n",
    "            r.sadd('UNIPROT:index', uprot_id)\n",
    "            # call the uniprot REST API looking up uprot_id\n",
    "            uniprot_url = 'https://www.ebi.ac.uk/proteins/api/proteins?offset=0&size=10&accession=%s' % uprot_id\n",
    "            u = requests.get(uniprot_url, headers={\"Accept\" : \"application/json\"})\n",
    "            # the Gene Ontology information is stored in the 'dbReferences' structure (see slides)\n",
    "            db_info = u.json()[0]['dbReferences']\n",
    "            for db in db_info:\n",
    "                if db['type'] == 'GO':\n",
    "                    # it is a Gene Ontology entry\n",
    "                    go_id = db['id']\n",
    "                    go_term = db['properties']['term']\n",
    "                    go_source = db['properties']['source']\n",
    "                    print(go_id, go_term, go_source)\n",
    "                    # store an entry (a hash) with GO info in Redis\n",
    "                    # the key will be PDB_ID:UNIPROT_ID:GO_ID\n",
    "                    key = '%s:%s:%s' % (pdb_id, uprot_id, go_id)\n",
    "                    go_dict = {'go_term': go_term, 'go_source': go_source}\n",
    "                    r.hset(key, mapping=go_dict)\n"
   ]
  },
  {
   "cell_type": "markdown",
   "metadata": {},
   "source": [
    "### Performing queries on the Redis database\n",
    "\n",
    "We have created keys so that it is easy to perform queries (look this up on the slides). With the code above, we have created the following keys:\n",
    "- keys called _PBD_ID_ mapped to a hash containing weight, atom count and residue count (using _hset_)\n",
    "- keys called _PBD_ID:UNIPROT_ID_, mapped to a hash containing the scientific name and the residue name (using _hset_)\n",
    "- keys called _PBD_ID:UNIPROT_ID:GO_ID_, mapped to a hash containing GO term and GO source (using _hset_)\n",
    "- a single key called PBD:index, mapped to a set with all the PDB IDs (using _sadd_)\n",
    "- a single key called UNIPROT:index, mapped to a set with all the Uniprot IDs (using _sadd_)"
   ]
  },
  {
   "cell_type": "code",
   "execution_count": null,
   "metadata": {},
   "outputs": [],
   "source": [
    "# all characteristics of a given PDB ID:\n",
    "r.hgetall('4GYD')"
   ]
  },
  {
   "cell_type": "code",
   "execution_count": null,
   "metadata": {},
   "outputs": [],
   "source": [
    "# all PDB IDs stored in the database:\n",
    "k = r.smembers('PDB:index')\n",
    "print(k)"
   ]
  },
  {
   "cell_type": "code",
   "execution_count": null,
   "metadata": {},
   "outputs": [],
   "source": [
    "# all Uniprot IDs stored in the database:\n",
    "k = r.smembers('UNIPROT:index')\n",
    "print(k)"
   ]
  },
  {
   "cell_type": "code",
   "execution_count": null,
   "metadata": {},
   "outputs": [],
   "source": [
    "# all GO entries for a certain Uniprot ID:\n",
    "k = r.keys('*:Q93SW9:GO:*')\n",
    "print(k)"
   ]
  },
  {
   "cell_type": "code",
   "execution_count": null,
   "metadata": {},
   "outputs": [],
   "source": [
    "# all information about a certain Uniprot ID\n",
    "# and all information about its GO entries\n",
    "print(r.hgetall('1TU2:Q93SW9'))\n",
    "for k in r.keys('1TU2:Q93SW9:*'):\n",
    "    print(k, r.hgetall(k))"
   ]
  },
  {
   "cell_type": "code",
   "execution_count": null,
   "metadata": {},
   "outputs": [],
   "source": [
    "# after a restart of the Redis database, verify that we still have the entries\n",
    "# note that in Redis by default entries are stored as \"bytes\"\n",
    "# so before processing the return values we decode them to string\n",
    "r = redis.Redis(host=\"my_redis\")\n",
    "for pdb in r.smembers('PDB:index'):\n",
    "    values = {k.decode():v.decode() for k,v in r.hgetall(pdb).items()}\n",
    "    print(\"PDB ID:\", pdb.decode())\n",
    "    print(\"  molecular weight (kDa):\", values['weight'])\n",
    "    print(\"  atom count:\", values['atom_count'])\n",
    "    print(\"  residue count:\", values['residue_count'])"
   ]
  },
  {
   "cell_type": "code",
   "execution_count": null,
   "metadata": {},
   "outputs": [],
   "source": []
  }
 ],
 "metadata": {
  "kernelspec": {
   "display_name": "Python 3 (ipykernel)",
   "language": "python",
   "name": "python3"
  },
  "language_info": {
   "codemirror_mode": {
    "name": "ipython",
    "version": 3
   },
   "file_extension": ".py",
   "mimetype": "text/x-python",
   "name": "python",
   "nbconvert_exporter": "python",
   "pygments_lexer": "ipython3",
   "version": "3.9.7"
  }
 },
 "nbformat": 4,
 "nbformat_minor": 4
}
