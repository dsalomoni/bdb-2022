{
 "cells": [
  {
   "cell_type": "markdown",
   "id": "7fe8587c-5299-42f9-9c9f-af662679d0d8",
   "metadata": {},
   "source": [
    "# Biomedical Data Bases, 2021-2022\n",
    "### Introduction: the minimum Python you should know\n",
    "These are notes by prof. Davide Salomoni (d.salomoni@unibo.it) for the Biomedical Data Base course at the University of Bologna, academic year 2021-2022.\n",
    "\n",
    "In order to properly follow the course, you should at least be familiar with the following Python concepts."
   ]
  },
  {
   "cell_type": "markdown",
   "id": "07eea981-9075-4aff-877c-bdd23deb11c6",
   "metadata": {},
   "source": [
    "### Operating on text and variables"
   ]
  },
  {
   "cell_type": "code",
   "execution_count": null,
   "id": "5dfae77f-307d-48cf-90b9-c4201b36f4ce",
   "metadata": {},
   "outputs": [],
   "source": [
    "a = 10.36\n",
    "print('The sample weighs %d grams' % a)\n",
    "print('The sample weight %.1f grams' % a)"
   ]
  },
  {
   "cell_type": "markdown",
   "id": "9dadf842-8334-4f4e-9cf7-bc277c40a13a",
   "metadata": {},
   "source": [
    "### Executing loops"
   ]
  },
  {
   "cell_type": "code",
   "execution_count": null,
   "id": "f00984a1-b45c-4a18-b2f0-ad81bedc5b59",
   "metadata": {},
   "outputs": [],
   "source": [
    "i = 0\n",
    "while(True):\n",
    "    i += 1\n",
    "    if (i<10):\n",
    "        print(i)\n",
    "    else:\n",
    "        break"
   ]
  },
  {
   "cell_type": "code",
   "execution_count": null,
   "id": "11cf7bca-b46c-4051-8633-2dfee36341f1",
   "metadata": {},
   "outputs": [],
   "source": [
    "for k in range(10):\n",
    "    print(k)"
   ]
  },
  {
   "cell_type": "code",
   "execution_count": null,
   "id": "49870746-3d56-4fdc-b28a-e9eb17099391",
   "metadata": {},
   "outputs": [],
   "source": [
    "for letter in 'bodacious':\n",
    "    print(letter)"
   ]
  },
  {
   "cell_type": "markdown",
   "id": "6d21c67f-ccea-46df-b192-279e22d0548f",
   "metadata": {},
   "source": [
    "### Creating and using functions"
   ]
  },
  {
   "cell_type": "code",
   "execution_count": null,
   "id": "3f9c2ef5-7067-408f-b92c-f9d28e31fb4a",
   "metadata": {},
   "outputs": [],
   "source": [
    "def square(i):\n",
    "    return i*i\n",
    "\n",
    "print(square(-7))"
   ]
  },
  {
   "cell_type": "code",
   "execution_count": null,
   "id": "fe6017c7-cd27-4e73-9b7e-74709daa2c2d",
   "metadata": {},
   "outputs": [],
   "source": [
    "def factorial(x):\n",
    "    if x==1:\n",
    "        return 1\n",
    "    else:\n",
    "        return (x*factorial(x-1))\n",
    "\n",
    "print(factorial(5))"
   ]
  },
  {
   "cell_type": "markdown",
   "id": "8ed80d10-5586-4a1c-abbc-2c2e38cc6c0a",
   "metadata": {},
   "source": [
    "### Operating with lists, sets and dictionaries"
   ]
  },
  {
   "cell_type": "code",
   "execution_count": null,
   "id": "856c132e-2230-4c55-a2e9-26124c37c196",
   "metadata": {},
   "outputs": [],
   "source": [
    "k = [-4, 96, 3, 0]\n",
    "print(k[2:])\n",
    "\n",
    "k.append(2)\n",
    "print(k, k[-1])"
   ]
  },
  {
   "cell_type": "code",
   "execution_count": null,
   "id": "5f404024-0a9e-41be-9d19-fbf508261339",
   "metadata": {},
   "outputs": [],
   "source": [
    "d = dict({'a': 1, 'b': 5, 'z': -6})\n",
    "for k,v in d.items():\n",
    "    print(k,v)"
   ]
  },
  {
   "cell_type": "code",
   "execution_count": null,
   "id": "15d3bde1-ca00-43ac-b3d1-27a8addf80e5",
   "metadata": {},
   "outputs": [],
   "source": [
    "A = {1, 1, 2, 3, 4, 5}\n",
    "B = {4, 5, 6, 7, 8}\n",
    "\n",
    "print(A)     # no duplicates allowed in sets\n",
    "print(A & B) # intersection\n",
    "print(A | B) # union\n",
    "print(A - B) # difference\n",
    "print(A ^ B) # symmetric difference"
   ]
  },
  {
   "cell_type": "markdown",
   "id": "d0e1f8d4-0c90-4c33-91dc-b097d198fc61",
   "metadata": {},
   "source": [
    "### List and set comprehensions"
   ]
  },
  {
   "cell_type": "code",
   "execution_count": null,
   "id": "a28c06c7-5c41-4f1e-bd43-8ed537eadff9",
   "metadata": {},
   "outputs": [],
   "source": [
    "lysozyme = 'KVFGRCELAA AMKRHGLDNY RGYSLGNWVC AAKFESNFNT QATNRNTDGS TDYGILQINS RWWCNDGRTP GSRNLCNIPC SALLSSDITA SVNCAKKIVS DGNGMNAWVA WRNRCKGTDV QAWIRGCRL'\n",
    "\n",
    "sequence_list = [letter for letter in lysozyme if letter != ' ']\n",
    "sequence_set = {letter for letter in lysozyme if letter != ' '}\n",
    "\n",
    "print(sequence_list)\n",
    "print(sequence_set)"
   ]
  }
 ],
 "metadata": {
  "kernelspec": {
   "display_name": "Python 3 (ipykernel)",
   "language": "python",
   "name": "python3"
  },
  "language_info": {
   "codemirror_mode": {
    "name": "ipython",
    "version": 3
   },
   "file_extension": ".py",
   "mimetype": "text/x-python",
   "name": "python",
   "nbconvert_exporter": "python",
   "pygments_lexer": "ipython3",
   "version": "3.9.7"
  }
 },
 "nbformat": 4,
 "nbformat_minor": 5
}
