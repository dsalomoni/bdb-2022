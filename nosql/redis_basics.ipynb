{
 "cells": [
  {
   "cell_type": "markdown",
   "metadata": {},
   "source": [
    "# Biomedical Data Bases, 2020-2021\n",
    "### NoSQL databases\n",
    "These are the notes by prof. Davide Salomoni (d.salomoni@unibo.it) for the Biomedical Data Base course at the University of Bologna, academic year 2020-2021."
   ]
  },
  {
   "cell_type": "markdown",
   "metadata": {},
   "source": [
    "### Install the redis module and try the first commands\n",
    "\n",
    "Remember that __you should have already started the Redis container__. Look up how to do it in the slides or in the main README page of this GitHub."
   ]
  },
  {
   "cell_type": "code",
   "execution_count": 1,
   "metadata": {},
   "outputs": [
    {
     "name": "stdout",
     "output_type": "stream",
     "text": [
      "Requirement already satisfied: redis in /opt/conda/lib/python3.8/site-packages (3.5.3)\r\n"
     ]
    }
   ],
   "source": [
    "! pip install redis"
   ]
  },
  {
   "cell_type": "code",
   "execution_count": 2,
   "metadata": {},
   "outputs": [
    {
     "name": "stdout",
     "output_type": "stream",
     "text": [
      "True\n"
     ]
    }
   ],
   "source": [
    "import redis\n",
    "r = redis.Redis(host=\"my_redis\")\n",
    "print(r.ping())"
   ]
  },
  {
   "cell_type": "code",
   "execution_count": 3,
   "metadata": {},
   "outputs": [
    {
     "data": {
      "text/plain": [
       "True"
      ]
     },
     "execution_count": 3,
     "metadata": {},
     "output_type": "execute_result"
    }
   ],
   "source": [
    "r.set('temperature', 18.5)"
   ]
  },
  {
   "cell_type": "markdown",
   "metadata": {},
   "source": [
    "Note that in Python redis returns strings as _bytes_ (notice the _b_ letter before the number in the output below):"
   ]
  },
  {
   "cell_type": "code",
   "execution_count": 4,
   "metadata": {},
   "outputs": [
    {
     "data": {
      "text/plain": [
       "b'18.5'"
      ]
     },
     "execution_count": 4,
     "metadata": {},
     "output_type": "execute_result"
    }
   ],
   "source": [
    "r.get('temperature')"
   ]
  },
  {
   "cell_type": "code",
   "execution_count": 5,
   "metadata": {},
   "outputs": [
    {
     "name": "stdout",
     "output_type": "stream",
     "text": [
      "Temperature = b'18.5'\n",
      "now sleeping for 6 seconds...\n",
      "Temperature = None\n"
     ]
    }
   ],
   "source": [
    "import time\n",
    "r.flushall() # delete ALL keys in the DB\n",
    "TTL = 5\n",
    "r.set('temperature', 18.5)\n",
    "r.expire('temperature', TTL)  # the key will be deleted after TTL seconds\n",
    "print(\"Temperature =\", r.get('temperature'))\n",
    "print(\"now sleeping for %s seconds...\" % (TTL+1))\n",
    "time.sleep(TTL+1)\n",
    "print(\"Temperature =\", r.get('temperature'))"
   ]
  },
  {
   "cell_type": "markdown",
   "metadata": {},
   "source": [
    "## How fast is it?\n",
    "### Peformance measurements, test #1\n",
    "\n",
    "Simple set and get of string items in Redis."
   ]
  },
  {
   "cell_type": "code",
   "execution_count": 6,
   "metadata": {},
   "outputs": [
    {
     "name": "stdout",
     "output_type": "stream",
     "text": [
      "set: 20000 items in 8.34 seconds (2398.40 items/sec)\n",
      "get: 20000 items in 8.33 seconds (2400.17 items/sec)\n"
     ]
    }
   ],
   "source": [
    "import time\n",
    "r.flushall()  # delete ALL keys in the DB\n",
    "\n",
    "start = time.time()\n",
    "N = 20000\n",
    "for i in range(N):\n",
    "    key = \"key%s\" % i\n",
    "    value = \"value%s\" % i\n",
    "    r.set(key, value)\n",
    "delta = time.time() - start\n",
    "\n",
    "print(\"set: %d items in %.02f seconds\"% (N, delta), end=' ')\n",
    "print(\"(%.02f items/sec)\" % (N/delta))\n",
    "\n",
    "start = time.time()\n",
    "N = 20000\n",
    "for i in range(N):\n",
    "    key = \"key%s\" % i\n",
    "    value = r.get(key)\n",
    "delta = time.time() - start\n",
    "\n",
    "print(\"get: %d items in %.02f seconds\"% (N, delta), end=' ')\n",
    "print(\"(%.02f items/sec)\" % (N/delta))"
   ]
  },
  {
   "cell_type": "markdown",
   "metadata": {},
   "source": [
    "### Performance measurements, test #2\n",
    "\n",
    "A marked improvement (more than an order of magnitude) can be had with _pipelines_."
   ]
  },
  {
   "cell_type": "code",
   "execution_count": 7,
   "metadata": {},
   "outputs": [
    {
     "name": "stdout",
     "output_type": "stream",
     "text": [
      "set: 20000 items in 0.80 seconds (24869.23 items/sec)\n",
      "get: 20000 items in 0.73 seconds (27321.01 items/sec)\n"
     ]
    }
   ],
   "source": [
    "import time\n",
    "r.flushall()  # delete ALL keys in the DB\n",
    "\n",
    "start = time.time()\n",
    "pipe = r.pipeline()\n",
    "N = 20000\n",
    "for i in range(N):\n",
    "    key = \"key%s\" % i\n",
    "    value = \"value%s\" % i\n",
    "    pipe.set(key, value)\n",
    "pipe.execute()\n",
    "delta = time.time() - start\n",
    "\n",
    "print(\"set: %d items in %.02f seconds\"% (N, delta), end=' ')\n",
    "print(\"(%.02f items/sec)\" % (N/delta))\n",
    "\n",
    "start = time.time()\n",
    "pipe = r.pipeline()\n",
    "N = 20000\n",
    "for i in range(N):\n",
    "    key = \"key%s\" % i\n",
    "    value = pipe.get(key)\n",
    "pipe.execute()\n",
    "delta = time.time() - start\n",
    "\n",
    "print(\"get: %d items in %.02f seconds\"% (N, delta), end=' ')\n",
    "print(\"(%.02f items/sec)\" % (N/delta))"
   ]
  },
  {
   "cell_type": "markdown",
   "metadata": {},
   "source": [
    "### Performance measurements, test #3\n",
    "\n",
    "Here we try the same set and get with SQLite, which performs better than the Redis pipeline above. "
   ]
  },
  {
   "cell_type": "code",
   "execution_count": 8,
   "metadata": {},
   "outputs": [
    {
     "name": "stdout",
     "output_type": "stream",
     "text": [
      "SQLite set: 20000 items in 0.44 seconds (45905.51 items/sec)\n",
      "SQLite get: 20000 items in 0.20 seconds (102557.37 items/sec)\n"
     ]
    }
   ],
   "source": [
    "import sqlite3 as sql\n",
    "conn = sql.connect('test_perf.sqlite')\n",
    "cur = conn.cursor()\n",
    "cur.execute('''DROP TABLE IF EXISTS Performance;''')\n",
    "cur.execute('''CREATE TABLE Performance(\n",
    "                key TEXT NOT NULL UNIQUE,\n",
    "                value TEXT NOT NULL);\n",
    "            ''')\n",
    "conn.commit()\n",
    "conn.close()\n",
    "\n",
    "start = time.time()\n",
    "conn = sql.connect('test_perf.sqlite')\n",
    "cur = conn.cursor()\n",
    "N = 20000\n",
    "for i in range(N):\n",
    "    key = \"key%s\" % i\n",
    "    value = \"value%s\" % i\n",
    "    cur.execute('''INSERT INTO Performance VALUES(?, ?)''', (key,value))\n",
    "conn.commit()\n",
    "conn.close()\n",
    "delta = time.time() - start\n",
    "\n",
    "print(\"SQLite set: %d items in %.02f seconds\"% (N, delta), end=' ')\n",
    "print(\"(%.02f items/sec)\" % (N/delta))\n",
    "\n",
    "start = time.time()\n",
    "conn = sql.connect('test_perf.sqlite')\n",
    "cur = conn.cursor()\n",
    "cur.execute('''SELECT * from Performance''')\n",
    "results = cur.fetchall()\n",
    "for res in results:\n",
    "    (key, value) = res\n",
    "conn.close()\n",
    "delta = time.time() - start\n",
    "\n",
    "print(\"SQLite get: %d items in %.02f seconds\"% (N, delta), end=' ')\n",
    "print(\"(%.02f items/sec)\" % (N/delta))"
   ]
  },
  {
   "cell_type": "markdown",
   "metadata": {},
   "source": [
    "### Performance measurements, test #4\n",
    "\n",
    "However, with some wise usage of Redis built-in features (the _mset_ command to set multiple values), Redis outperforms SQLite. "
   ]
  },
  {
   "cell_type": "code",
   "execution_count": 9,
   "metadata": {},
   "outputs": [
    {
     "name": "stdout",
     "output_type": "stream",
     "text": [
      "mset: 20000 items in 0.19 seconds (103120.53 items/sec)\n",
      "mget: 20000 items in 0.16 seconds (124019.55 items/sec)\n"
     ]
    }
   ],
   "source": [
    "import time\n",
    "r.flushall()  # delete ALL keys in the DB\n",
    "\n",
    "start = time.time()\n",
    "N = 20000\n",
    "my_dict = {\"key%s\" % i: \"value%s\" % i for i in range(N)}\n",
    "r.mset(my_dict)\n",
    "delta = time.time() - start\n",
    "\n",
    "print(\"mset: %d items in %.02f seconds\"% (N, delta), end=' ')\n",
    "print(\"(%.02f items/sec)\" % (N/delta))\n",
    "\n",
    "start = time.time()\n",
    "N = 20000\n",
    "keys = [\"key%s\" % i for i in range(N)]\n",
    "values = r.mget(keys)\n",
    "results = list(zip(keys, values))\n",
    "delta = time.time() - start\n",
    "\n",
    "print(\"mget: %d items in %.02f seconds\"% (N, delta), end=' ')\n",
    "print(\"(%.02f items/sec)\" % (N/delta))"
   ]
  },
  {
   "cell_type": "markdown",
   "metadata": {},
   "source": [
    "## Some Redis types\n",
    "\n",
    "Let's see how to set and get some of the Redis data types:"
   ]
  },
  {
   "cell_type": "code",
   "execution_count": 10,
   "metadata": {},
   "outputs": [
    {
     "name": "stdout",
     "output_type": "stream",
     "text": [
      "STRING type in Redis: b'string'\n",
      "  Value: b'18.5'\n",
      "  Type in Python: <class 'bytes'>\n",
      "LIST type in Redis: b'list'\n",
      "  Value: [b'John', b'Paul', b'Peter']\n",
      "  Type in Python: <class 'list'>\n",
      "SET type in Redis: b'set'\n",
      "  Value: {b'Chapter 1', b'Chapter 2'}\n",
      "  Type in Python: <class 'set'>\n",
      "HASH type in Redis: b'hash'\n",
      "  Value: {b'buongiorno': b'buenos dias', b'buonasera': b'buenas noches'}\n",
      "  Type in Python: <class 'dict'>\n"
     ]
    }
   ],
   "source": [
    "# string\n",
    "r.set('Temperature', 18.5)\n",
    "# get the string value\n",
    "get_string = r.get('Temperature')\n",
    "\n",
    "# list\n",
    "# Note that we can create a Redis list directly via a Python list, or passing an explicit list of strings\n",
    "names = ['Peter', 'Paul', 'John']\n",
    "r.delete('Names')\n",
    "r.lpush('Names', *names)\n",
    "# get the list members\n",
    "get_list = r.lrange('Names', start=0, end=-1)\n",
    "\n",
    "# set\n",
    "r.delete('Chapters')\n",
    "r.sadd('Chapters', 'Chapter 1', 'Chapter 2')\n",
    "# same thing, but passing a Python set to sadd\n",
    "r.delete('Chapters')\n",
    "chapters = {'Chapter 1', 'Chapter 2'}\n",
    "r.sadd('Chapters', *chapters)\n",
    "# get the set members\n",
    "get_set = r.smembers('Chapters')\n",
    "\n",
    "# hash\n",
    "my_dict = {'buongiorno':'buenos dias', 'buonasera':'buenas noches'}\n",
    "r.delete('ITES')\n",
    "r.hset('ITES', mapping=my_dict)\n",
    "# get the hash members\n",
    "get_hash = r.hgetall('ITES')\n",
    "\n",
    "# print types and values\n",
    "print(\"STRING type in Redis: %s\" % r.type('Temperature')) \n",
    "print(\"  Value: %s\" % get_string)\n",
    "print(\"  Type in Python: %s\" % type(get_string))\n",
    "\n",
    "print(\"LIST type in Redis: %s\" % r.type('Names'))\n",
    "print(\"  Value: %s\" % get_list)\n",
    "print(\"  Type in Python: %s\" % type(get_list))\n",
    "\n",
    "print(\"SET type in Redis: %s\" % r.type('Chapters'))\n",
    "print(\"  Value: %s\" % get_set)\n",
    "print(\"  Type in Python: %s\" % type(get_set))\n",
    "\n",
    "print(\"HASH type in Redis: %s\" % r.type('ITES'))\n",
    "print(\"  Value: %s\" % get_hash)\n",
    "print(\"  Type in Python: %s\" % type(get_hash))"
   ]
  },
  {
   "cell_type": "markdown",
   "metadata": {},
   "source": [
    "## Introduction to PubSub\n",
    "\n",
    "See the dedicated _Generator_ and _Consumer_ notebooks for a more complete test of PubSub."
   ]
  },
  {
   "cell_type": "code",
   "execution_count": 11,
   "metadata": {},
   "outputs": [
    {
     "name": "stdout",
     "output_type": "stream",
     "text": [
      "First get:  {'type': 'subscribe', 'pattern': None, 'channel': b'bdb', 'data': 1}\n",
      "Second get:  None\n"
     ]
    }
   ],
   "source": [
    "# a subscriber subscribes to the \"bdb\" channel...\n",
    "a_subscriber = redis.Redis(host=\"my_redis\")\n",
    "sub = a_subscriber.pubsub()\n",
    "sub.subscribe('bdb')\n",
    "\n",
    "# ... and then gets messages over that channel\n",
    "print(\"First get: \", sub.get_message())\n",
    "print(\"Second get: \", sub.get_message())"
   ]
  },
  {
   "cell_type": "code",
   "execution_count": 12,
   "metadata": {},
   "outputs": [
    {
     "name": "stdout",
     "output_type": "stream",
     "text": [
      "Third get:  {'type': 'message', 'pattern': None, 'channel': b'bdb', 'data': b'pubsub test'}\n"
     ]
    }
   ],
   "source": [
    "# a publisher publishes something on the \"bdb\" channel\n",
    "a_publisher = redis.Redis(host=\"my_redis\")\n",
    "a_publisher.publish('bdb', 'pubsub test')\n",
    "\n",
    "# the subscriber gets another messsage... this time it can read it\n",
    "print(\"Third get: \", sub.get_message())"
   ]
  },
  {
   "cell_type": "markdown",
   "metadata": {},
   "source": [
    "## Porting SQL to Redis\n",
    "\n",
    "A simple example."
   ]
  },
  {
   "cell_type": "code",
   "execution_count": 13,
   "metadata": {},
   "outputs": [
    {
     "data": {
      "text/plain": [
       "{b'first': b'John', b'last': b'Doe', b'age': b'21', b'email': b'john@doe.com'}"
      ]
     },
     "execution_count": 13,
     "metadata": {},
     "output_type": "execute_result"
    }
   ],
   "source": [
    "# an example of mapping a relational DB to Redis\n",
    "r.hset('id:1', mapping={'first':'John', 'last':'Doe', 'age': 21, 'email':'john@doe.com'})\n",
    "r.hset('id:2', mapping={'first':'Alice', 'last':'Doe', 'age': 22, 'email':'alice@doe.com'})\n",
    "r.hset('id:3', mapping={'first':'Rose', 'last':'Short', 'age': 21, 'email':'rose@short.com'})\n",
    "\n",
    "# the Redis equivalent to the SQL 'SELECT * FROM Students WHERE ID=1' :\n",
    "r.hgetall('id:1')"
   ]
  },
  {
   "cell_type": "code",
   "execution_count": 14,
   "metadata": {},
   "outputs": [
    {
     "name": "stdout",
     "output_type": "stream",
     "text": [
      "all elements: [(b'id:1', 21.0), (b'id:3', 21.0), (b'id:2', 22.0)]\n",
      "age<21: [b'id:1', b'id:3']\n",
      "{b'first': b'John', b'last': b'Doe', b'age': b'21', b'email': b'john@doe.com'}\n",
      "{b'first': b'Rose', b'last': b'Short', b'age': b'21', b'email': b'rose@short.com'}\n"
     ]
    }
   ],
   "source": [
    "# create a sorted set with ages\n",
    "r.zadd('age', mapping={'id:1':21, 'id:2':22, 'id:3':21})\n",
    "print(\"all elements:\", r.zrange('age', start=0, end=-1, withscores=True))\n",
    "\n",
    "# the Redis equivalent to the SQL 'SELECT * FROM Students WHERE Age < 22' :\n",
    "result = r.zrangebyscore('age', min=0, max=21)\n",
    "print(\"age<21:\", result)\n",
    "\n",
    "# now get all info for the returned results:\n",
    "for res in result:\n",
    "    print(r.hgetall(res))"
   ]
  },
  {
   "cell_type": "code",
   "execution_count": null,
   "metadata": {},
   "outputs": [],
   "source": []
  }
 ],
 "metadata": {
  "kernelspec": {
   "display_name": "Python 3",
   "language": "python",
   "name": "python3"
  },
  "language_info": {
   "codemirror_mode": {
    "name": "ipython",
    "version": 3
   },
   "file_extension": ".py",
   "mimetype": "text/x-python",
   "name": "python",
   "nbconvert_exporter": "python",
   "pygments_lexer": "ipython3",
   "version": "3.8.6"
  }
 },
 "nbformat": 4,
 "nbformat_minor": 4
}
