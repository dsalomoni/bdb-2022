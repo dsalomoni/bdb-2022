{
 "cells": [
  {
   "cell_type": "markdown",
   "metadata": {},
   "source": [
    "# Biomedical Data Bases, 2020-2021\n",
    "### NoSQL databases\n",
    "These are notes by prof. Davide Salomoni (d.salomoni@unibo.it) for the Biomedical Data Base course at the University of Bologna, academic year 2020-2021."
   ]
  },
  {
   "cell_type": "markdown",
   "metadata": {},
   "source": [
    "### Install the redis module and try out the first commands\n",
    "\n",
    "Remember that __you should have already started the Redis container__. Look up how to do it in the course slides or in the main README page of this GitHub repository."
   ]
  },
  {
   "cell_type": "code",
   "execution_count": 1,
   "metadata": {},
   "outputs": [
    {
     "name": "stdout",
     "output_type": "stream",
     "text": [
      "Collecting redis\n",
      "  Using cached redis-4.1.0-py3-none-any.whl (171 kB)\n",
      "Requirement already satisfied: packaging>=21.3 in /opt/conda/lib/python3.9/site-packages (from redis) (21.3)\n",
      "Collecting deprecated>=1.2.3\n",
      "  Using cached Deprecated-1.2.13-py2.py3-none-any.whl (9.6 kB)\n",
      "Collecting wrapt<2,>=1.10\n",
      "  Using cached wrapt-1.13.3-cp39-cp39-manylinux_2_5_x86_64.manylinux1_x86_64.manylinux_2_12_x86_64.manylinux2010_x86_64.whl (81 kB)\n",
      "Requirement already satisfied: pyparsing!=3.0.5,>=2.0.2 in /opt/conda/lib/python3.9/site-packages (from packaging>=21.3->redis) (3.0.6)\n",
      "Installing collected packages: wrapt, deprecated, redis\n",
      "Successfully installed deprecated-1.2.13 redis-4.1.0 wrapt-1.13.3\n"
     ]
    }
   ],
   "source": [
    "! pip install redis"
   ]
  },
  {
   "cell_type": "code",
   "execution_count": 2,
   "metadata": {},
   "outputs": [
    {
     "name": "stdout",
     "output_type": "stream",
     "text": [
      "True\n"
     ]
    }
   ],
   "source": [
    "import redis\n",
    "r = redis.Redis(host=\"my_redis\")\n",
    "print(r.ping())"
   ]
  },
  {
   "cell_type": "code",
   "execution_count": 3,
   "metadata": {},
   "outputs": [
    {
     "data": {
      "text/plain": [
       "True"
      ]
     },
     "execution_count": 3,
     "metadata": {},
     "output_type": "execute_result"
    }
   ],
   "source": [
    "r.set('temperature', 18.5)"
   ]
  },
  {
   "cell_type": "markdown",
   "metadata": {},
   "source": [
    "Note that in Python by default redis returns strings as _bytes_ (indicated by the _b_ letter before the number in the output below):"
   ]
  },
  {
   "cell_type": "code",
   "execution_count": 4,
   "metadata": {},
   "outputs": [
    {
     "data": {
      "text/plain": [
       "b'18.5'"
      ]
     },
     "execution_count": 4,
     "metadata": {},
     "output_type": "execute_result"
    }
   ],
   "source": [
    "r.get('temperature')"
   ]
  },
  {
   "cell_type": "markdown",
   "metadata": {},
   "source": [
    "You can convert bytes to strings using _decode_. You could also connect to the Redis server using the parameter _decode_responses=True_ to have all output automatically converted to strings."
   ]
  },
  {
   "cell_type": "code",
   "execution_count": 5,
   "metadata": {},
   "outputs": [
    {
     "data": {
      "text/plain": [
       "'18.5'"
      ]
     },
     "execution_count": 5,
     "metadata": {},
     "output_type": "execute_result"
    }
   ],
   "source": [
    "r.get('temperature').decode()"
   ]
  },
  {
   "cell_type": "markdown",
   "metadata": {},
   "source": [
    "### Time-To-Live applied to keys"
   ]
  },
  {
   "cell_type": "code",
   "execution_count": 6,
   "metadata": {},
   "outputs": [
    {
     "name": "stdout",
     "output_type": "stream",
     "text": [
      "Temperature = b'18.5'\n",
      "now sleeping for 6 seconds...\n",
      "Temperature = None\n"
     ]
    }
   ],
   "source": [
    "import time\n",
    "r.flushall() # delete ALL keys in the DB\n",
    "TTL = 5\n",
    "r.set('temperature', 18.5)\n",
    "r.expire('temperature', TTL)  # the key will be deleted after TTL seconds\n",
    "print(\"Temperature =\", r.get('temperature'))\n",
    "print(\"now sleeping for %s seconds...\" % (TTL+1))\n",
    "time.sleep(TTL+1)\n",
    "print(\"Temperature =\", r.get('temperature'))"
   ]
  },
  {
   "cell_type": "markdown",
   "metadata": {},
   "source": [
    "## Working with some Redis types\n",
    "\n",
    "Let's see how to set and get some of the Redis data types:"
   ]
  },
  {
   "cell_type": "code",
   "execution_count": 11,
   "metadata": {},
   "outputs": [
    {
     "name": "stdout",
     "output_type": "stream",
     "text": [
      "STRING type in Redis\n",
      "  Key: Temperature --> Value: b'18.5'\n",
      "LIST type in Redis\n",
      "  Key: Male_names --> Value: [b'John', b'Paul', b'Peter']\n",
      "  Key: Female_names --> Value: [b'Elizabeth', b'Mary', b'Sarah']\n",
      "SET type in Redis\n",
      "  Key: Chapters1:2 --> Value: {b'Chapter 2', b'Chapter 1'}\n",
      "  Key: Chapters3:4 --> Value: {b'Chapter 4', b'Chapter 3'}\n",
      "HASH type in Redis\n",
      "  Key: Italian:Spanish --> Value: {b'buongiorno': b'buenos dias', b'buonasera': b'buenas noches'}\n"
     ]
    }
   ],
   "source": [
    "r.flushall()  # delete ALL keys in the DB\n",
    "\n",
    "# string or number\n",
    "r.set('Temperature', 18.5)\n",
    "\n",
    "# list, passing a python list\n",
    "males = ['Peter', 'Paul', 'John']\n",
    "r.lpush('Male_names', *males)\n",
    "# we can also create a Redis list passing an explicit list of strings to lpush\n",
    "r.lpush('Female_names', 'Sarah', 'Mary', 'Elizabeth')\n",
    "\n",
    "# set, passing a python set\n",
    "chapters = {'Chapter 1', 'Chapter 2'}\n",
    "r.sadd('Chapters1:2', *chapters)\n",
    "# we can also create a Redis set passing an explicit list of strings to sadd\n",
    "r.sadd('Chapters3:4', 'Chapter 3', 'Chapter 4')\n",
    "\n",
    "# hash (corresponding to a Python dictionary)\n",
    "my_dict = {'buongiorno':'buenos dias', 'buonasera':'buenas noches'}\n",
    "r.hset('Italian:Spanish', mapping=my_dict)\n",
    "\n",
    "# get the different data types from Redis\n",
    "print('STRING type in Redis') \n",
    "print('  Key: %s --> Value: %s' % ('Temperature', r.get('Temperature')))\n",
    "\n",
    "print('LIST type in Redis')\n",
    "print('  Key: %s --> Value: %s' % ('Male_names', r.lrange('Male_names', start=0, end=-1)))\n",
    "print('  Key: %s --> Value: %s' % ('Female_names', r.lrange('Female_names', start=0, end=-1)))\n",
    "\n",
    "print('SET type in Redis')\n",
    "print('  Key: %s --> Value: %s' % ('Chapters1:2', r.smembers('Chapters1:2')))\n",
    "print('  Key: %s --> Value: %s' % ('Chapters3:4', r.smembers('Chapters3:4')))\n",
    "\n",
    "print('HASH type in Redis')\n",
    "print('  Key: %s --> Value: %s' % ('Italian:Spanish', r.hgetall('Italian:Spanish')))"
   ]
  },
  {
   "cell_type": "markdown",
   "metadata": {},
   "source": [
    "### Sorted sets"
   ]
  },
  {
   "cell_type": "code",
   "execution_count": 12,
   "metadata": {},
   "outputs": [
    {
     "data": {
      "text/plain": [
       "True"
      ]
     },
     "execution_count": 12,
     "metadata": {},
     "output_type": "execute_result"
    }
   ],
   "source": [
    "r.flushall()  # delete ALL keys in the DB"
   ]
  },
  {
   "cell_type": "code",
   "execution_count": 13,
   "metadata": {},
   "outputs": [
    {
     "data": {
      "text/plain": [
       "5"
      ]
     },
     "execution_count": 13,
     "metadata": {},
     "output_type": "execute_result"
    }
   ],
   "source": [
    "# create a sorted set with key 'universities'\n",
    "r.zadd('universities', {'MIT':100, 'Stanford':98.4, 'Harvard':97.9, 'Caltech':97, 'Oxford':96.7})"
   ]
  },
  {
   "cell_type": "code",
   "execution_count": 14,
   "metadata": {},
   "outputs": [
    {
     "data": {
      "text/plain": [
       "[b'Oxford', b'Caltech', b'Harvard', b'Stanford', b'MIT']"
      ]
     },
     "execution_count": 14,
     "metadata": {},
     "output_type": "execute_result"
    }
   ],
   "source": [
    "# print the sorted set in ascending order\n",
    "r.zrange('universities', start=0, end=-1)"
   ]
  },
  {
   "cell_type": "code",
   "execution_count": 15,
   "metadata": {},
   "outputs": [
    {
     "data": {
      "text/plain": [
       "[b'MIT', b'Stanford', b'Harvard', b'Caltech', b'Oxford']"
      ]
     },
     "execution_count": 15,
     "metadata": {},
     "output_type": "execute_result"
    }
   ],
   "source": [
    "# print the sorted set in descending order\n",
    "r.zrange('universities', start=0, end=-1, desc=True)"
   ]
  },
  {
   "cell_type": "code",
   "execution_count": 16,
   "metadata": {},
   "outputs": [
    {
     "data": {
      "text/plain": [
       "[(b'MIT', 100.0),\n",
       " (b'Stanford', 98.4),\n",
       " (b'Harvard', 97.9),\n",
       " (b'Caltech', 97.0),\n",
       " (b'Oxford', 96.7)]"
      ]
     },
     "execution_count": 16,
     "metadata": {},
     "output_type": "execute_result"
    }
   ],
   "source": [
    "# print the sorted set in descending order, including also the score associated to each element\n",
    "r.zrange('universities', start=0, end=-1, desc=True, withscores=True)"
   ]
  },
  {
   "cell_type": "code",
   "execution_count": 17,
   "metadata": {},
   "outputs": [
    {
     "data": {
      "text/plain": [
       "[(b'Caltech', 97.0), (b'Harvard', 97.9)]"
      ]
     },
     "execution_count": 17,
     "metadata": {},
     "output_type": "execute_result"
    }
   ],
   "source": [
    "# print the universities with a score between 97 and 98\n",
    "r.zrange('universities', start=97, end=98, withscores=True, byscore=True)"
   ]
  },
  {
   "cell_type": "markdown",
   "metadata": {
    "tags": []
   },
   "source": [
    "## How fast is it?\n",
    "### Peformance measurements, using just _set()_ and _get()_\n",
    "\n",
    "Simple set and get of string items in Redis."
   ]
  },
  {
   "cell_type": "code",
   "execution_count": 7,
   "metadata": {},
   "outputs": [
    {
     "name": "stdout",
     "output_type": "stream",
     "text": [
      "set: 20000 items in 7.51 seconds (2662.52 items/sec)\n",
      "get: 20000 items in 7.44 seconds (2689.17 items/sec)\n"
     ]
    }
   ],
   "source": [
    "import time\n",
    "r.flushall()  # delete ALL keys in the DB\n",
    "\n",
    "start = time.time()\n",
    "N = 20000\n",
    "for i in range(N):\n",
    "    key = \"key%s\" % i\n",
    "    value = \"value%s\" % i\n",
    "    r.set(key, value)\n",
    "delta = time.time() - start\n",
    "\n",
    "print(\"set: %d items in %.02f seconds\"% (N, delta), end=' ')\n",
    "print(\"(%.02f items/sec)\" % (N/delta))\n",
    "\n",
    "start = time.time()\n",
    "N = 20000\n",
    "for i in range(N):\n",
    "    key = \"key%s\" % i\n",
    "    value = r.get(key)\n",
    "delta = time.time() - start\n",
    "\n",
    "print(\"get: %d items in %.02f seconds\"% (N, delta), end=' ')\n",
    "print(\"(%.02f items/sec)\" % (N/delta))"
   ]
  },
  {
   "cell_type": "markdown",
   "metadata": {},
   "source": [
    "### Performance measurements, using pipelines\n",
    "\n",
    "A marked improvement (more than an order of magnitude) can be had with _pipelines_."
   ]
  },
  {
   "cell_type": "code",
   "execution_count": 8,
   "metadata": {},
   "outputs": [
    {
     "name": "stdout",
     "output_type": "stream",
     "text": [
      "set: 20000 items in 0.62 seconds (32508.64 items/sec)\n",
      "get: 20000 items in 0.51 seconds (39208.92 items/sec)\n"
     ]
    }
   ],
   "source": [
    "import time\n",
    "r.flushall()  # delete ALL keys in the DB\n",
    "\n",
    "start = time.time()\n",
    "pipe = r.pipeline()\n",
    "N = 20000\n",
    "for i in range(N):\n",
    "    key = \"key%s\" % i\n",
    "    value = \"value%s\" % i\n",
    "    pipe.set(key, value)\n",
    "pipe.execute()\n",
    "delta = time.time() - start\n",
    "\n",
    "print(\"set: %d items in %.02f seconds\"% (N, delta), end=' ')\n",
    "print(\"(%.02f items/sec)\" % (N/delta))\n",
    "\n",
    "start = time.time()\n",
    "pipe = r.pipeline()\n",
    "N = 20000\n",
    "for i in range(N):\n",
    "    key = \"key%s\" % i\n",
    "    value = pipe.get(key)\n",
    "pipe.execute()\n",
    "delta = time.time() - start\n",
    "\n",
    "print(\"get: %d items in %.02f seconds\"% (N, delta), end=' ')\n",
    "print(\"(%.02f items/sec)\" % (N/delta))"
   ]
  },
  {
   "cell_type": "markdown",
   "metadata": {},
   "source": [
    "### Performance measurements, comparison with SQLite\n",
    "\n",
    "Here we try the same set and get with SQLite, which in this test performs better than the Redis pipeline above. "
   ]
  },
  {
   "cell_type": "code",
   "execution_count": 9,
   "metadata": {},
   "outputs": [
    {
     "name": "stdout",
     "output_type": "stream",
     "text": [
      "SQLite set: 20000 items in 0.21 seconds (95316.21 items/sec)\n",
      "SQLite get: 20000 items in 0.11 seconds (175126.78 items/sec)\n"
     ]
    }
   ],
   "source": [
    "import sqlite3 as sql\n",
    "conn = sql.connect('test_perf.sqlite')\n",
    "cur = conn.cursor()\n",
    "cur.execute('''DROP TABLE IF EXISTS Performance;''')\n",
    "cur.execute('''CREATE TABLE Performance(\n",
    "                key TEXT NOT NULL UNIQUE,\n",
    "                value TEXT NOT NULL);\n",
    "            ''')\n",
    "conn.commit()\n",
    "conn.close()\n",
    "\n",
    "start = time.time()\n",
    "conn = sql.connect('test_perf.sqlite')\n",
    "cur = conn.cursor()\n",
    "N = 20000\n",
    "for i in range(N):\n",
    "    key = \"key%s\" % i\n",
    "    value = \"value%s\" % i\n",
    "    cur.execute('''INSERT INTO Performance VALUES(?, ?)''', (key,value))\n",
    "conn.commit()\n",
    "conn.close()\n",
    "delta = time.time() - start\n",
    "\n",
    "print(\"SQLite set: %d items in %.02f seconds\"% (N, delta), end=' ')\n",
    "print(\"(%.02f items/sec)\" % (N/delta))\n",
    "\n",
    "start = time.time()\n",
    "conn = sql.connect('test_perf.sqlite')\n",
    "cur = conn.cursor()\n",
    "cur.execute('''SELECT * from Performance''')\n",
    "results = cur.fetchall()\n",
    "for res in results:\n",
    "    (key, value) = res\n",
    "conn.close()\n",
    "delta = time.time() - start\n",
    "\n",
    "print(\"SQLite get: %d items in %.02f seconds\"% (N, delta), end=' ')\n",
    "print(\"(%.02f items/sec)\" % (N/delta))"
   ]
  },
  {
   "cell_type": "markdown",
   "metadata": {},
   "source": [
    "### Performance measurements, using _mset()_ and _mget()_\n",
    "\n",
    "However, with some wise usage of Redis built-in features (the _mset_ command to set multiple values), Redis outperforms SQLite. "
   ]
  },
  {
   "cell_type": "code",
   "execution_count": 10,
   "metadata": {},
   "outputs": [
    {
     "name": "stdout",
     "output_type": "stream",
     "text": [
      "mset: 20000 items in 0.11 seconds (177219.37 items/sec)\n",
      "mget: 20000 items in 0.09 seconds (230719.31 items/sec)\n"
     ]
    }
   ],
   "source": [
    "import time\n",
    "r.flushall()  # delete ALL keys in the DB\n",
    "\n",
    "start = time.time()\n",
    "N = 20000\n",
    "my_dict = {\"key%s\" % i: \"value%s\" % i for i in range(N)}\n",
    "r.mset(my_dict)\n",
    "delta = time.time() - start\n",
    "\n",
    "print(\"mset: %d items in %.02f seconds\"% (N, delta), end=' ')\n",
    "print(\"(%.02f items/sec)\" % (N/delta))\n",
    "\n",
    "start = time.time()\n",
    "N = 20000\n",
    "keys = [\"key%s\" % i for i in range(N)]\n",
    "values = r.mget(keys)\n",
    "results = list(zip(keys, values))\n",
    "delta = time.time() - start\n",
    "\n",
    "print(\"mget: %d items in %.02f seconds\"% (N, delta), end=' ')\n",
    "print(\"(%.02f items/sec)\" % (N/delta))"
   ]
  },
  {
   "cell_type": "markdown",
   "metadata": {},
   "source": [
    "## Porting SQL to Redis\n",
    "\n",
    "Let's map a simple relational DB to Redis. Assume we have the following table in a relational DB:\n",
    "\n",
    "<img src=\"https://github.com/dsalomoni/bdb-2022/raw/main/nosql/RDBMS_sample.png\" alt=\"A sample RDBMS table\" style=\"height: 120px;\"/>\n",
    "\n",
    "Note the unique key, represented by the Id column."
   ]
  },
  {
   "cell_type": "code",
   "execution_count": 18,
   "metadata": {},
   "outputs": [
    {
     "data": {
      "text/plain": [
       "{b'first': b'John', b'last': b'Doe', b'age': b'21', b'email': b'john@doe.com'}"
      ]
     },
     "execution_count": 18,
     "metadata": {},
     "output_type": "execute_result"
    }
   ],
   "source": [
    "# create several redis hashes, each one corresponding to an RDBMS row\n",
    "r.hset('id:1', mapping={'first':'John', 'last':'Doe', 'age': 21, 'email':'john@doe.com'})\n",
    "r.hset('id:2', mapping={'first':'Alice', 'last':'Doe', 'age': 22, 'email':'alice@doe.com'})\n",
    "r.hset('id:3', mapping={'first':'Rose', 'last':'Short', 'age': 21, 'email':'rose@short.com'})\n",
    "\n",
    "# the Redis equivalent to the SQL 'SELECT * FROM Students WHERE ID=1' would then be:\n",
    "r.hgetall('id:1')"
   ]
  },
  {
   "cell_type": "code",
   "execution_count": 19,
   "metadata": {},
   "outputs": [
    {
     "name": "stdout",
     "output_type": "stream",
     "text": [
      "all elements: [(b'id:1', 21.0), (b'id:3', 21.0), (b'id:2', 22.0)]\n"
     ]
    }
   ],
   "source": [
    "# create a sorted set with ages, mapping them to the corresponding hash key above\n",
    "r.zadd('age', mapping={'id:1':21, 'id:2':22, 'id:3':21})\n",
    "print(\"all elements:\", r.zrange('age', start=0, end=-1, withscores=True))"
   ]
  },
  {
   "cell_type": "code",
   "execution_count": 20,
   "metadata": {},
   "outputs": [
    {
     "name": "stdout",
     "output_type": "stream",
     "text": [
      "age<21: [b'id:1', b'id:3']\n"
     ]
    }
   ],
   "source": [
    "# the Redis equivalent to the SQL 'SELECT * FROM Students WHERE Age < 22' would then be:\n",
    "result = r.zrange('age', start=0, end=21, byscore=True)\n",
    "print(\"age<21:\", result)"
   ]
  },
  {
   "cell_type": "code",
   "execution_count": 21,
   "metadata": {},
   "outputs": [
    {
     "name": "stdout",
     "output_type": "stream",
     "text": [
      "{b'first': b'John', b'last': b'Doe', b'age': b'21', b'email': b'john@doe.com'}\n",
      "{b'first': b'Rose', b'last': b'Short', b'age': b'21', b'email': b'rose@short.com'}\n"
     ]
    }
   ],
   "source": [
    "# now get all the info for the returned results:\n",
    "for res in result:\n",
    "    print(r.hgetall(res))"
   ]
  },
  {
   "cell_type": "code",
   "execution_count": null,
   "metadata": {},
   "outputs": [],
   "source": []
  }
 ],
 "metadata": {
  "kernelspec": {
   "display_name": "Python 3 (ipykernel)",
   "language": "python",
   "name": "python3"
  },
  "language_info": {
   "codemirror_mode": {
    "name": "ipython",
    "version": 3
   },
   "file_extension": ".py",
   "mimetype": "text/x-python",
   "name": "python",
   "nbconvert_exporter": "python",
   "pygments_lexer": "ipython3",
   "version": "3.9.7"
  }
 },
 "nbformat": 4,
 "nbformat_minor": 4
}
