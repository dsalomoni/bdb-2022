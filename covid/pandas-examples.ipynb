{
 "cells": [
  {
   "cell_type": "markdown",
   "id": "5a63e68d-5f9d-4b06-ad6c-c157b3799b8f",
   "metadata": {},
   "source": [
    "# Biomedical Data Bases, 2021-2022\n",
    "### Pandas examples\n",
    "These are notes by prof. Davide Salomoni (d.salomoni@unibo.it) for the Biomedical Data Base course at the University of Bologna, academic year 2021-2022."
   ]
  },
  {
   "cell_type": "markdown",
   "id": "5a12acf0-acf0-4d5a-8d09-bd18ba0eb71d",
   "metadata": {},
   "source": [
    "## Read CSV data into a Pandas data frame\n",
    "Import pandas, then use _read_csv()_ to create the data frame and print its columns.\n",
    "<br>\n",
    "Click on Run in Jupyter to execute the cell."
   ]
  },
  {
   "cell_type": "code",
   "execution_count": null,
   "id": "498fdf89-0dff-4e18-a80f-1ff24cc6f992",
   "metadata": {},
   "outputs": [],
   "source": [
    "import pandas as pd\n",
    "df = pd.read_csv('COVID-19-sample-BDB2022.csv')"
   ]
  },
  {
   "cell_type": "code",
   "execution_count": null,
   "id": "98874253-f583-4aad-baa2-a184a5a73708",
   "metadata": {},
   "outputs": [],
   "source": [
    "type(df)"
   ]
  },
  {
   "cell_type": "code",
   "execution_count": null,
   "id": "4f427949-0a71-4f02-9098-d518765def65",
   "metadata": {},
   "outputs": [],
   "source": [
    "df.head()"
   ]
  },
  {
   "cell_type": "code",
   "execution_count": null,
   "id": "0910bf68-68f0-491d-be10-5152b82758ee",
   "metadata": {},
   "outputs": [],
   "source": [
    "print(df.columns)"
   ]
  },
  {
   "cell_type": "code",
   "execution_count": null,
   "id": "eae10360-4f71-4920-8b90-952e2a6431f7",
   "metadata": {},
   "outputs": [],
   "source": [
    "# check how many rows and columns we have\n",
    "shape = df.shape\n",
    "print(shape)"
   ]
  },
  {
   "cell_type": "code",
   "execution_count": null,
   "id": "a0908b74-86bd-4381-8c96-8435e6a85853",
   "metadata": {},
   "outputs": [],
   "source": [
    "# how many elements are there in total?\n",
    "# (you could have directly used for that also df.size)\n",
    "print(shape[0] * shape[1])"
   ]
  },
  {
   "cell_type": "markdown",
   "id": "4f60d47f-16cf-4e31-bbf9-e5abe6e7bdf7",
   "metadata": {},
   "source": [
    "## Create a convenience function to map a date to a week number"
   ]
  },
  {
   "cell_type": "code",
   "execution_count": null,
   "id": "da125a12-ffca-46d8-8377-e4393a7b3192",
   "metadata": {},
   "outputs": [],
   "source": [
    "import datetime\n",
    "def week_string(year, month, day):\n",
    "    ''' return a week number in the format yyyy-ww; for example,\n",
    "    2021-45 for the 45th week of the year 2021. '''\n",
    "    week = datetime.date(year, month, day).isocalendar()[1]\n",
    "    return \"%s-%02d\" % (year, week)\n",
    "\n",
    "# example: find the week string for March 1, 2020\n",
    "print(week_string(2020, 3, 1))\n",
    "\n",
    "# example: find the week string for November 30, 2021\n",
    "print(week_string(2021, 11, 30))"
   ]
  },
  {
   "cell_type": "markdown",
   "id": "69729b35-46e3-470c-8a9c-0e8ae0e9f104",
   "metadata": {},
   "source": [
    "## Find cases where 'country' is Italy from March 2020 to November 2021"
   ]
  },
  {
   "cell_type": "code",
   "execution_count": null,
   "id": "abfca12f-af5c-49c3-88eb-a0cd93624378",
   "metadata": {},
   "outputs": [],
   "source": [
    "# we import the time module so we can use time.time()\n",
    "# to find out how long it takes to come to the result\n",
    "import time\n",
    "\n",
    "# convert the start and end date to the corresponding week numbers\n",
    "start_week = week_string(2020, 3, 1)\n",
    "end_week = week_string(2021, 11, 30)"
   ]
  },
  {
   "cell_type": "markdown",
   "id": "52450d66-8cb7-4680-859f-98cd12c8dd2a",
   "metadata": {},
   "source": [
    "### First attempt: the \"brute-force\" way, using iterrows()"
   ]
  },
  {
   "cell_type": "code",
   "execution_count": null,
   "id": "66f47530-abf7-46bb-baba-084fd797d19e",
   "metadata": {},
   "outputs": [],
   "source": [
    "start_time = time.time()\n",
    "\n",
    "# create a dictionary with key = week string, and value = number of cases in that week\n",
    "it_cases = dict()\n",
    "for index,row in df.iterrows():\n",
    "    country = row['country']\n",
    "    if country == 'Italy':\n",
    "        indicator = row['indicator']\n",
    "        if indicator != 'cases':\n",
    "            continue\n",
    "        week = row['year_week']\n",
    "        if (week >= start_week) and (week <= end_week):\n",
    "            cases = row['weekly_count']\n",
    "            it_cases[week] = cases\n",
    "\n",
    "# create a new dataframe out of the it_cases dictionary. It will contain\n",
    "# only cases occurred in Italy between March 2020 and November 2021.\n",
    "df2 = pd.DataFrame(list(it_cases.items()), columns=['week', 'cases'])\n",
    "\n",
    "end_time = time.time()\n",
    "\n",
    "print('The brute-force method took %.2f seconds' % (end_time-start_time))"
   ]
  },
  {
   "cell_type": "code",
   "execution_count": null,
   "id": "edc9b2fb-2518-4810-b15e-2d55ac801aed",
   "metadata": {},
   "outputs": [],
   "source": [
    "# the resulting dataframe only has the two columns week and cases\n",
    "df2.head()"
   ]
  },
  {
   "cell_type": "code",
   "execution_count": null,
   "id": "3fc9ff8a-8331-4481-85ea-096a9e4ec9d7",
   "metadata": {},
   "outputs": [],
   "source": [
    "# plot the cases\n",
    "df2.plot()"
   ]
  },
  {
   "cell_type": "markdown",
   "id": "3de7ad3e-f270-463f-8baf-2d396ff45b8a",
   "metadata": {},
   "source": [
    "### Second attempt: the \"pandas-native\" way, using df.query()"
   ]
  },
  {
   "cell_type": "code",
   "execution_count": null,
   "id": "84e56e6a-f5c3-4fb7-a70c-7ee4748725af",
   "metadata": {},
   "outputs": [],
   "source": [
    "start_time = time.time()\n",
    "\n",
    "# create a new dataframe using df.query(). It will contain\n",
    "# only cases occurred in Italy between March 2020 and November 2021.\n",
    "df3 = df.query('country==\"Italy\" and indicator==\"cases\" and year_week>=\"%s\" and year_week<=\"%s\"' % (start_week, end_week))\n",
    "\n",
    "end_time = time.time()\n",
    "\n",
    "print('The Pandas-native method took %.2f seconds' % (end_time-start_time))"
   ]
  },
  {
   "cell_type": "code",
   "execution_count": null,
   "id": "e61ca451-6082-4b68-b75e-e1a19f3199c6",
   "metadata": {},
   "outputs": [],
   "source": [
    "# the resulting dataframe is simply a filtered version of the original dataframe\n",
    "df3.head()"
   ]
  },
  {
   "cell_type": "code",
   "execution_count": null,
   "id": "242b0f64-09d7-4d80-9f0c-85bb58cda464",
   "metadata": {},
   "outputs": [],
   "source": [
    "# plot the cases (select the \"weekly_count\" column only)\n",
    "df3.plot(y='weekly_count')"
   ]
  },
  {
   "cell_type": "markdown",
   "id": "62ed3379-21fd-4e09-a8d3-c7d81b5ea03f",
   "metadata": {},
   "source": [
    "## Reading an Excel file\n",
    "\n",
    "### Remember that you need to have the openpyxl library installed"
   ]
  },
  {
   "cell_type": "code",
   "execution_count": null,
   "id": "781d1ec7-ad03-4026-af96-221c13df8745",
   "metadata": {},
   "outputs": [],
   "source": [
    "! pip install openpyxl"
   ]
  },
  {
   "cell_type": "code",
   "execution_count": null,
   "id": "5c970e19-1ea1-48b7-906f-38b39a320f29",
   "metadata": {},
   "outputs": [],
   "source": [
    "# create a dataframe from the excel file\n",
    "df = pd.read_excel('COVID-19-sample-BDB2022.xlsx')\n",
    "df3 = df.query('country==\"Italy\" and indicator==\"cases\" and year_week>=\"%s\" and year_week<=\"%s\"' % (start_week, end_week))\n",
    "df3.plot(y='weekly_count')"
   ]
  },
  {
   "cell_type": "code",
   "execution_count": null,
   "id": "4902de94-bd62-42e6-8e0a-bc1b904d7c31",
   "metadata": {},
   "outputs": [],
   "source": [
    "# Note that reading from an excel file is FAR slower than reading from a CSV file:\n",
    "\n",
    "start_time = time.time()\n",
    "df_csv = pd.read_csv('COVID-19-sample-BDB2022.csv')\n",
    "end_time = time.time()\n",
    "print('Reading the CVS file took %.2f seconds' % (end_time-start_time))\n",
    "\n",
    "start_time = time.time()\n",
    "df_excel = pd.read_excel('COVID-19-sample-BDB2022.xlsx')\n",
    "end_time = time.time()\n",
    "print('Reading the excel file took %.2f seconds' % (end_time-start_time))"
   ]
  },
  {
   "cell_type": "markdown",
   "id": "25fe1e78-a6e1-4d69-a7f7-6db258e5511a",
   "metadata": {},
   "source": [
    "## Examples of a few common pandas functions\n",
    "\n",
    "### sum()\n",
    "To compute the sum of all the deaths that are recorded in the COVID-19 DataFrame for Italy.\n",
    "1. Create a new dataframe containing only the records where the country is Italy and the indicator is deaths.\n",
    "2. Call sum() for the weekly_count column on that dataframe.\n",
    "3. Verify that you obtained the right number, checking that it is equal to cumulative_count as reported in the last row of the dataframe."
   ]
  },
  {
   "cell_type": "code",
   "execution_count": null,
   "id": "cc5c947d-8dac-4a88-b012-d4b5aa4513bb",
   "metadata": {},
   "outputs": [],
   "source": [
    "df_italy = df.query('country==\"Italy\" and indicator==\"deaths\"')\n",
    "df_italy['weekly_count'].sum()"
   ]
  },
  {
   "cell_type": "code",
   "execution_count": null,
   "id": "654252c8-db3c-40ee-acf7-da92d9babfc0",
   "metadata": {},
   "outputs": [],
   "source": [
    "df_italy.tail(1)"
   ]
  },
  {
   "cell_type": "markdown",
   "id": "467f1aa8-9db9-48a4-81f4-3d83723a6a79",
   "metadata": {},
   "source": [
    "### describe()\n",
    "Generate simple statistics of the df_italy dataframe."
   ]
  },
  {
   "cell_type": "code",
   "execution_count": null,
   "id": "108ce934-833e-4d13-bdf3-90d7fccbfc7a",
   "metadata": {},
   "outputs": [],
   "source": [
    "df_italy.describe()"
   ]
  },
  {
   "cell_type": "markdown",
   "id": "04114bab-73be-4bd5-a213-ded4b99fc1b8",
   "metadata": {},
   "source": [
    "### nunique()\n",
    "How many countries are recorded in the COVID-19 dataframe?"
   ]
  },
  {
   "cell_type": "code",
   "execution_count": null,
   "id": "d4daa1a7-332a-433b-bf21-8396d5d3344e",
   "metadata": {},
   "outputs": [],
   "source": [
    "df.nunique()"
   ]
  },
  {
   "cell_type": "markdown",
   "id": "160291b8-c336-416e-8d1f-91a7f36d0c8d",
   "metadata": {},
   "source": [
    "### groupby()\n",
    "Group the COVID-19 dataframe by continent, compute the sum of the columns (although logically summing some of the columns does not make sense, think about that). Then plot weekly_count."
   ]
  },
  {
   "cell_type": "code",
   "execution_count": null,
   "id": "1ba8691a-d20d-4ac8-8594-a44b75f2c66f",
   "metadata": {},
   "outputs": [],
   "source": [
    "df_grouped = df.groupby('continent')\n",
    "# by itself, groupby just returns a special type of dataframe, to which you should apply some function.\n",
    "# check the type of the returned dataframe:\n",
    "type(df_grouped)"
   ]
  },
  {
   "cell_type": "code",
   "execution_count": null,
   "id": "e7b625ec-2b42-4b8c-b578-2d8580920575",
   "metadata": {},
   "outputs": [],
   "source": [
    "# now sum the 'grouped' dataframe\n",
    "df_grouped.sum()"
   ]
  },
  {
   "cell_type": "code",
   "execution_count": null,
   "id": "81bdcf72-b568-46ac-a379-6bb7f5e544ae",
   "metadata": {},
   "outputs": [],
   "source": [
    "# plot weekly_count\n",
    "# use a bar plot, set the y-axis label and the title\n",
    "df_grouped.sum()['weekly_count'].plot(kind='bar', ylabel='Total cases', title='COVID-19 cases grouped by continent')"
   ]
  },
  {
   "cell_type": "markdown",
   "id": "6b48dfe2-c4a0-4da6-b41a-cf176416bbeb",
   "metadata": {},
   "source": [
    "Now check which countries are part of the group 'Oceania', using get_group()"
   ]
  },
  {
   "cell_type": "code",
   "execution_count": null,
   "id": "3c195fb8-f60e-49fc-81ee-0a8eacbc2590",
   "metadata": {},
   "outputs": [],
   "source": [
    "df_grouped.get_group('Oceania')"
   ]
  },
  {
   "cell_type": "markdown",
   "id": "1c9168ab-6e1b-4f61-8a10-052890447fde",
   "metadata": {},
   "source": [
    "How many unique countries are there? Use nunique() on the 'country' column to find out."
   ]
  },
  {
   "cell_type": "code",
   "execution_count": null,
   "id": "d93918df-ad7b-4459-a748-113b5f36eccd",
   "metadata": {},
   "outputs": [],
   "source": [
    "df_grouped.get_group('Oceania')['country'].nunique()"
   ]
  },
  {
   "cell_type": "markdown",
   "id": "9565110f-78c1-407b-b8a7-72431b1e89d9",
   "metadata": {},
   "source": [
    "Which countries are in the Oceania group? Use unique() (without the 'n') on the 'country' column to find out."
   ]
  },
  {
   "cell_type": "code",
   "execution_count": null,
   "id": "2633de2a-df8c-4e5d-8da2-eff35057bbd4",
   "metadata": {},
   "outputs": [],
   "source": [
    "df_grouped.get_group('Oceania')['country'].unique()"
   ]
  },
  {
   "cell_type": "code",
   "execution_count": null,
   "id": "47b72c9c-c426-40d3-80aa-75a32cb639ab",
   "metadata": {},
   "outputs": [],
   "source": [
    "# of course in the array above there is exactly the number of countries reported by nunique():\n",
    "print(len(df_grouped.get_group('Oceania')['country'].unique()))"
   ]
  },
  {
   "cell_type": "code",
   "execution_count": null,
   "id": "098e43de-cc0f-4ba6-9462-0dcdd757d5d1",
   "metadata": {},
   "outputs": [],
   "source": [
    "# or, explicitly verify that the two numbers are the same\n",
    "print(\n",
    "    len(df_grouped.get_group('Oceania')['country'].unique()) == \n",
    "    df_grouped.get_group('Oceania')['country'].nunique()\n",
    ")"
   ]
  },
  {
   "cell_type": "markdown",
   "id": "41cec679-3120-4eb2-b837-8b4c99bcb7f2",
   "metadata": {},
   "source": [
    "## Exporting to Excel"
   ]
  },
  {
   "cell_type": "code",
   "execution_count": null,
   "id": "538a62e3-98f8-47ed-9ceb-999818c2bb2a",
   "metadata": {},
   "outputs": [],
   "source": [
    "# export all Italian data to a new Excel file using the to_excel() method\n",
    "df_italy = pd.read_excel('COVID-19-sample-BDB2022.xlsx').query('country == \"Italy\"')\n",
    "df_italy.to_excel('COVID-19-italy-only.xlsx')"
   ]
  },
  {
   "cell_type": "markdown",
   "id": "2bae7868-1cb5-4ae6-a566-4e00726eeac2",
   "metadata": {},
   "source": [
    "## Reading a CSV file from a remote location"
   ]
  },
  {
   "cell_type": "code",
   "execution_count": null,
   "id": "77086fb0-d3cc-401e-a19f-2c1bbba2c92d",
   "metadata": {},
   "outputs": [],
   "source": [
    "df = pd.read_csv('https://github.com/dsalomoni/bdb-2022/raw/main/covid/COVID-19-sample-BDB2022.csv')\n",
    "df_deaths_italy = df.query('country == \"Italy\" and indicator == \"deaths\"')\n",
    "df_deaths_italy['weekly_count'].sum()"
   ]
  }
 ],
 "metadata": {
  "kernelspec": {
   "display_name": "Python 3 (ipykernel)",
   "language": "python",
   "name": "python3"
  },
  "language_info": {
   "codemirror_mode": {
    "name": "ipython",
    "version": 3
   },
   "file_extension": ".py",
   "mimetype": "text/x-python",
   "name": "python",
   "nbconvert_exporter": "python",
   "pygments_lexer": "ipython3",
   "version": "3.9.7"
  }
 },
 "nbformat": 4,
 "nbformat_minor": 5
}
