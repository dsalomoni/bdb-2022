{
 "cells": [
  {
   "cell_type": "markdown",
   "id": "5a63e68d-5f9d-4b06-ad6c-c157b3799b8f",
   "metadata": {},
   "source": [
    "# Biomedical Data Bases, 2021-2022\n",
    "### Pandas examples\n",
    "These are notes by prof. Davide Salomoni (d.salomoni@unibo.it) for the Biomedical Data Base course at the University of Bologna, academic year 2021-2022."
   ]
  },
  {
   "cell_type": "markdown",
   "id": "5a12acf0-acf0-4d5a-8d09-bd18ba0eb71d",
   "metadata": {},
   "source": [
    "## Read CSV data into a Pandas data frame\n",
    "Import pandas, then use _read_csv()_ to create the data frame and print its columns.\n",
    "<br>\n",
    "Click on Run in Jupyter to execute the cell."
   ]
  },
  {
   "cell_type": "code",
   "execution_count": 1,
   "id": "498fdf89-0dff-4e18-a80f-1ff24cc6f992",
   "metadata": {},
   "outputs": [],
   "source": [
    "import pandas as pd\n",
    "df = pd.read_csv('COVID-19-sample-BDB2022.csv')"
   ]
  },
  {
   "cell_type": "code",
   "execution_count": 2,
   "id": "98874253-f583-4aad-baa2-a184a5a73708",
   "metadata": {},
   "outputs": [
    {
     "data": {
      "text/plain": [
       "pandas.core.frame.DataFrame"
      ]
     },
     "execution_count": 2,
     "metadata": {},
     "output_type": "execute_result"
    }
   ],
   "source": [
    "type(df)"
   ]
  },
  {
   "cell_type": "code",
   "execution_count": 3,
   "id": "0910bf68-68f0-491d-be10-5152b82758ee",
   "metadata": {},
   "outputs": [
    {
     "name": "stdout",
     "output_type": "stream",
     "text": [
      "Index(['country', 'country_code', 'continent', 'population', 'indicator',\n",
      "       'weekly_count', 'year_week', 'rate_14_day', 'cumulative_count',\n",
      "       'source'],\n",
      "      dtype='object')\n"
     ]
    }
   ],
   "source": [
    "print(df.columns)"
   ]
  },
  {
   "cell_type": "code",
   "execution_count": 4,
   "id": "eae10360-4f71-4920-8b90-952e2a6431f7",
   "metadata": {},
   "outputs": [
    {
     "name": "stdout",
     "output_type": "stream",
     "text": [
      "(41698, 10)\n"
     ]
    }
   ],
   "source": [
    "# check how many rows and columns we have\n",
    "shape = df.shape\n",
    "print(shape)"
   ]
  },
  {
   "cell_type": "code",
   "execution_count": 5,
   "id": "a0908b74-86bd-4381-8c96-8435e6a85853",
   "metadata": {},
   "outputs": [
    {
     "name": "stdout",
     "output_type": "stream",
     "text": [
      "416980\n"
     ]
    }
   ],
   "source": [
    "# how many elements are there in total?\n",
    "# (you could have directly used for that also df.size)\n",
    "print(shape[0] * shape[1])"
   ]
  },
  {
   "cell_type": "markdown",
   "id": "4f60d47f-16cf-4e31-bbf9-e5abe6e7bdf7",
   "metadata": {},
   "source": [
    "## Create a convenience function to map a date to a week number"
   ]
  },
  {
   "cell_type": "code",
   "execution_count": 6,
   "id": "da125a12-ffca-46d8-8377-e4393a7b3192",
   "metadata": {},
   "outputs": [
    {
     "name": "stdout",
     "output_type": "stream",
     "text": [
      "2020-09\n",
      "2021-48\n"
     ]
    }
   ],
   "source": [
    "import datetime\n",
    "def week_string(year, month, day):\n",
    "    ''' return a week number in the format yyyy-ww; for example,\n",
    "    2021-45 for the 45th week of the year 2021. '''\n",
    "    week = datetime.date(year, month, day).isocalendar()[1]\n",
    "    return \"%s-%02d\" % (year, week)\n",
    "\n",
    "# example: find the week string for March 1, 2020\n",
    "print(week_string(2020, 3, 1))\n",
    "\n",
    "# example: find the week string for November 30, 2021\n",
    "print(week_string(2021, 11, 30))"
   ]
  },
  {
   "cell_type": "markdown",
   "id": "69729b35-46e3-470c-8a9c-0e8ae0e9f104",
   "metadata": {},
   "source": [
    "## Find cases where 'country' is Italy from March 2020 to November 2021"
   ]
  },
  {
   "cell_type": "code",
   "execution_count": 7,
   "id": "abfca12f-af5c-49c3-88eb-a0cd93624378",
   "metadata": {},
   "outputs": [],
   "source": [
    "# we import the time module so we can use time.time()\n",
    "# to find out how long it takes to come to the result\n",
    "import time\n",
    "\n",
    "# convert the start and end date to the corresponding week numbers\n",
    "start_week = week_string(2020, 3, 1)\n",
    "end_week = week_string(2021, 11, 30)"
   ]
  },
  {
   "cell_type": "markdown",
   "id": "52450d66-8cb7-4680-859f-98cd12c8dd2a",
   "metadata": {},
   "source": [
    "### First attempt: the \"brute-force\" way, using iterrows()"
   ]
  },
  {
   "cell_type": "code",
   "execution_count": 8,
   "id": "66f47530-abf7-46bb-baba-084fd797d19e",
   "metadata": {},
   "outputs": [
    {
     "name": "stdout",
     "output_type": "stream",
     "text": [
      "The brute-force method took 1.76 seconds\n"
     ]
    }
   ],
   "source": [
    "start_time = time.time()\n",
    "\n",
    "# create a dictionary with key = week string, and value = number of cases in that week\n",
    "it_cases = dict()\n",
    "for index,row in df.iterrows():\n",
    "    country = row['country']\n",
    "    if country == 'Italy':\n",
    "        indicator = row['indicator']\n",
    "        if indicator != 'cases':\n",
    "            continue\n",
    "        week = row['year_week']\n",
    "        if (week >= start_week) and (week <= end_week):\n",
    "            cases = row['weekly_count']\n",
    "            it_cases[week] = cases\n",
    "\n",
    "# create a new dataframe out of the it_cases dictionary. It will contain\n",
    "# only cases occurred in Italy between March 2020 and November 2021.\n",
    "df2 = pd.DataFrame(list(it_cases.items()), columns=['week', 'cases'])\n",
    "\n",
    "end_time = time.time()\n",
    "\n",
    "print('The brute-force method took %.2f seconds' % (end_time-start_time))"
   ]
  },
  {
   "cell_type": "code",
   "execution_count": 9,
   "id": "3fc9ff8a-8331-4481-85ea-096a9e4ec9d7",
   "metadata": {},
   "outputs": [
    {
     "data": {
      "text/plain": [
       "<AxesSubplot:>"
      ]
     },
     "execution_count": 9,
     "metadata": {},
     "output_type": "execute_result"
    },
    {
     "data": {
      "image/png": "[encoded data removed]",
      "text/plain": [
       "<Figure size 432x288 with 1 Axes>"
      ]
     },
     "metadata": {
      "needs_background": "light"
     },
     "output_type": "display_data"
    }
   ],
   "source": [
    "# plot the cases\n",
    "df2.plot()"
   ]
  },
  {
   "cell_type": "markdown",
   "id": "3de7ad3e-f270-463f-8baf-2d396ff45b8a",
   "metadata": {},
   "source": [
    "### Second attempt: the \"pandas-native\" way, using df.query()"
   ]
  },
  {
   "cell_type": "code",
   "execution_count": 10,
   "id": "84e56e6a-f5c3-4fb7-a70c-7ee4748725af",
   "metadata": {},
   "outputs": [
    {
     "name": "stdout",
     "output_type": "stream",
     "text": [
      "The Pandas-native method took 0.03 seconds\n"
     ]
    }
   ],
   "source": [
    "start_time = time.time()\n",
    "\n",
    "# create a new dataframe using df.query(). It will contain\n",
    "# only cases occurred in Italy between March 2020 and November 2021.\n",
    "df3 = df.query('country==\"Italy\" and indicator==\"cases\" and year_week>=\"%s\" and year_week<=\"%s\"' % (start_week, end_week))\n",
    "\n",
    "end_time = time.time()\n",
    "\n",
    "print('The Pandas-native method took %.2f seconds' % (end_time-start_time))"
   ]
  },
  {
   "cell_type": "code",
   "execution_count": 11,
   "id": "242b0f64-09d7-4d80-9f0c-85bb58cda464",
   "metadata": {},
   "outputs": [
    {
     "data": {
      "text/plain": [
       "<AxesSubplot:>"
      ]
     },
     "execution_count": 11,
     "metadata": {},
     "output_type": "execute_result"
    },
    {
     "data": {
      "image/png": "[encoded data removed]",
      "text/plain": [
       "<Figure size 432x288 with 1 Axes>"
      ]
     },
     "metadata": {
      "needs_background": "light"
     },
     "output_type": "display_data"
    }
   ],
   "source": [
    "# plot the cases (select the \"weekly_count\" column only)\n",
    "df3.plot(y='weekly_count')"
   ]
  },
  {
   "cell_type": "markdown",
   "id": "62ed3379-21fd-4e09-a8d3-c7d81b5ea03f",
   "metadata": {},
   "source": [
    "## Reading an Excel file\n",
    "\n",
    "### Remember that you need to have the openpyxl library installed"
   ]
  },
  {
   "cell_type": "code",
   "execution_count": 12,
   "id": "781d1ec7-ad03-4026-af96-221c13df8745",
   "metadata": {},
   "outputs": [
    {
     "name": "stdout",
     "output_type": "stream",
     "text": [
      "Collecting openpyxl\n",
      "  Using cached openpyxl-3.0.9-py2.py3-none-any.whl (242 kB)\n",
      "Collecting et-xmlfile\n",
      "  Using cached et_xmlfile-1.1.0-py3-none-any.whl (4.7 kB)\n",
      "Installing collected packages: et-xmlfile, openpyxl\n",
      "Successfully installed et-xmlfile-1.1.0 openpyxl-3.0.9\n"
     ]
    }
   ],
   "source": [
    "! pip install openpyxl"
   ]
  },
  {
   "cell_type": "code",
   "execution_count": 13,
   "id": "5c970e19-1ea1-48b7-906f-38b39a320f29",
   "metadata": {},
   "outputs": [
    {
     "data": {
      "text/plain": [
       "<AxesSubplot:>"
      ]
     },
     "execution_count": 13,
     "metadata": {},
     "output_type": "execute_result"
    },
    {
     "data": {
      "image/png": "[encoded data removed]",
      "text/plain": [
       "<Figure size 432x288 with 1 Axes>"
      ]
     },
     "metadata": {
      "needs_background": "light"
     },
     "output_type": "display_data"
    }
   ],
   "source": [
    "# create a dataframe from the excel file\n",
    "df = pd.read_excel('COVID-19-sample-BDB2022.xlsx')\n",
    "df3 = df.query('country==\"Italy\" and indicator==\"cases\" and year_week>=\"%s\" and year_week<=\"%s\"' % (start_week, end_week))\n",
    "df3.plot(y='weekly_count')"
   ]
  },
  {
   "cell_type": "code",
   "execution_count": 14,
   "id": "4902de94-bd62-42e6-8e0a-bc1b904d7c31",
   "metadata": {},
   "outputs": [
    {
     "name": "stdout",
     "output_type": "stream",
     "text": [
      "Reading the CVS file took 0.08 seconds\n",
      "Reading the excel file took 67.60 seconds\n"
     ]
    }
   ],
   "source": [
    "# Note that reading from an excel file is FAR slower than reading from a CSV file:\n",
    "\n",
    "start_time = time.time()\n",
    "df_csv = pd.read_csv('COVID-19-sample-BDB2022.csv')\n",
    "end_time = time.time()\n",
    "print('Reading the CVS file took %.2f seconds' % (end_time-start_time))\n",
    "\n",
    "start_time = time.time()\n",
    "df_excel = pd.read_excel('COVID-19-sample-BDB2022.xlsx')\n",
    "end_time = time.time()\n",
    "print('Reading the excel file took %.2f seconds' % (end_time-start_time))"
   ]
  },
  {
   "cell_type": "markdown",
   "id": "25fe1e78-a6e1-4d69-a7f7-6db258e5511a",
   "metadata": {},
   "source": [
    "## Examples of a few common pandas functions\n",
    "\n",
    "### sum()\n",
    "Compute the sum of all the deaths that are recorded in the COVID-19 DataFrame for Italy.\n",
    "1. Create a new dataframe containing only the records where the country is Italy and the indicator is deaths.\n",
    "2. Call sum() for the weekly_count column on that dataframe.\n",
    "3. Verify that you obtained the right number, checking that it is equal to cumulative_count as reported in the last row of the dataframe."
   ]
  },
  {
   "cell_type": "code",
   "execution_count": 15,
   "id": "cc5c947d-8dac-4a88-b012-d4b5aa4513bb",
   "metadata": {},
   "outputs": [
    {
     "data": {
      "text/plain": [
       "135405"
      ]
     },
     "execution_count": 15,
     "metadata": {},
     "output_type": "execute_result"
    }
   ],
   "source": [
    "df_italy = df.query('country==\"Italy\" and indicator==\"deaths\"')\n",
    "df_italy['weekly_count'].sum()"
   ]
  },
  {
   "cell_type": "code",
   "execution_count": 16,
   "id": "654252c8-db3c-40ee-acf7-da92d9babfc0",
   "metadata": {},
   "outputs": [
    {
     "data": {
      "text/html": [
       "<div>\n",
       "<style scoped>\n",
       "    .dataframe tbody tr th:only-of-type {\n",
       "        vertical-align: middle;\n",
       "    }\n",
       "\n",
       "    .dataframe tbody tr th {\n",
       "        vertical-align: top;\n",
       "    }\n",
       "\n",
       "    .dataframe thead th {\n",
       "        text-align: right;\n",
       "    }\n",
       "</style>\n",
       "<table border=\"1\" class=\"dataframe\">\n",
       "  <thead>\n",
       "    <tr style=\"text-align: right;\">\n",
       "      <th></th>\n",
       "      <th>country</th>\n",
       "      <th>country_code</th>\n",
       "      <th>continent</th>\n",
       "      <th>population</th>\n",
       "      <th>indicator</th>\n",
       "      <th>weekly_count</th>\n",
       "      <th>year_week</th>\n",
       "      <th>rate_14_day</th>\n",
       "      <th>cumulative_count</th>\n",
       "      <th>source</th>\n",
       "    </tr>\n",
       "  </thead>\n",
       "  <tbody>\n",
       "    <tr>\n",
       "      <th>19881</th>\n",
       "      <td>Italy</td>\n",
       "      <td>ITA</td>\n",
       "      <td>Europe</td>\n",
       "      <td>59641488</td>\n",
       "      <td>deaths</td>\n",
       "      <td>452</td>\n",
       "      <td>2021-49</td>\n",
       "      <td>16.230313</td>\n",
       "      <td>135405</td>\n",
       "      <td>TESSy COVID-19</td>\n",
       "    </tr>\n",
       "  </tbody>\n",
       "</table>\n",
       "</div>"
      ],
      "text/plain": [
       "      country country_code continent  population indicator  weekly_count  \\\n",
       "19881   Italy          ITA    Europe    59641488    deaths           452   \n",
       "\n",
       "      year_week  rate_14_day  cumulative_count          source  \n",
       "19881   2021-49    16.230313            135405  TESSy COVID-19  "
      ]
     },
     "execution_count": 16,
     "metadata": {},
     "output_type": "execute_result"
    }
   ],
   "source": [
    "df_italy.tail(1)"
   ]
  },
  {
   "cell_type": "markdown",
   "id": "467f1aa8-9db9-48a4-81f4-3d83723a6a79",
   "metadata": {},
   "source": [
    "### describe()\n",
    "Generate simple statistics of the df_italy dataframe."
   ]
  },
  {
   "cell_type": "code",
   "execution_count": 17,
   "id": "108ce934-833e-4d13-bdf3-90d7fccbfc7a",
   "metadata": {},
   "outputs": [
    {
     "data": {
      "text/html": [
       "<div>\n",
       "<style scoped>\n",
       "    .dataframe tbody tr th:only-of-type {\n",
       "        vertical-align: middle;\n",
       "    }\n",
       "\n",
       "    .dataframe tbody tr th {\n",
       "        vertical-align: top;\n",
       "    }\n",
       "\n",
       "    .dataframe thead th {\n",
       "        text-align: right;\n",
       "    }\n",
       "</style>\n",
       "<table border=\"1\" class=\"dataframe\">\n",
       "  <thead>\n",
       "    <tr style=\"text-align: right;\">\n",
       "      <th></th>\n",
       "      <th>population</th>\n",
       "      <th>weekly_count</th>\n",
       "      <th>rate_14_day</th>\n",
       "      <th>cumulative_count</th>\n",
       "    </tr>\n",
       "  </thead>\n",
       "  <tbody>\n",
       "    <tr>\n",
       "      <th>count</th>\n",
       "      <td>102.0</td>\n",
       "      <td>102.000000</td>\n",
       "      <td>101.000000</td>\n",
       "      <td>102.000000</td>\n",
       "    </tr>\n",
       "    <tr>\n",
       "      <th>mean</th>\n",
       "      <td>59641488.0</td>\n",
       "      <td>1327.500000</td>\n",
       "      <td>44.881709</td>\n",
       "      <td>74391.186275</td>\n",
       "    </tr>\n",
       "    <tr>\n",
       "      <th>std</th>\n",
       "      <td>0.0</td>\n",
       "      <td>1593.087243</td>\n",
       "      <td>52.955588</td>\n",
       "      <td>48743.002666</td>\n",
       "    </tr>\n",
       "    <tr>\n",
       "      <th>min</th>\n",
       "      <td>59641488.0</td>\n",
       "      <td>0.000000</td>\n",
       "      <td>0.000000</td>\n",
       "      <td>0.000000</td>\n",
       "    </tr>\n",
       "    <tr>\n",
       "      <th>25%</th>\n",
       "      <td>59641488.0</td>\n",
       "      <td>132.250000</td>\n",
       "      <td>4.711485</td>\n",
       "      <td>35343.500000</td>\n",
       "    </tr>\n",
       "    <tr>\n",
       "      <th>50%</th>\n",
       "      <td>59641488.0</td>\n",
       "      <td>412.500000</td>\n",
       "      <td>13.363181</td>\n",
       "      <td>74457.500000</td>\n",
       "    </tr>\n",
       "    <tr>\n",
       "      <th>75%</th>\n",
       "      <td>59641488.0</td>\n",
       "      <td>2397.250000</td>\n",
       "      <td>79.223376</td>\n",
       "      <td>128449.000000</td>\n",
       "    </tr>\n",
       "    <tr>\n",
       "      <th>max</th>\n",
       "      <td>59641488.0</td>\n",
       "      <td>5991.000000</td>\n",
       "      <td>182.171847</td>\n",
       "      <td>135405.000000</td>\n",
       "    </tr>\n",
       "  </tbody>\n",
       "</table>\n",
       "</div>"
      ],
      "text/plain": [
       "       population  weekly_count  rate_14_day  cumulative_count\n",
       "count       102.0    102.000000   101.000000        102.000000\n",
       "mean   59641488.0   1327.500000    44.881709      74391.186275\n",
       "std           0.0   1593.087243    52.955588      48743.002666\n",
       "min    59641488.0      0.000000     0.000000          0.000000\n",
       "25%    59641488.0    132.250000     4.711485      35343.500000\n",
       "50%    59641488.0    412.500000    13.363181      74457.500000\n",
       "75%    59641488.0   2397.250000    79.223376     128449.000000\n",
       "max    59641488.0   5991.000000   182.171847     135405.000000"
      ]
     },
     "execution_count": 17,
     "metadata": {},
     "output_type": "execute_result"
    }
   ],
   "source": [
    "df_italy.describe()"
   ]
  },
  {
   "cell_type": "markdown",
   "id": "04114bab-73be-4bd5-a213-ded4b99fc1b8",
   "metadata": {},
   "source": [
    "### nunique()\n",
    "How many countries are recorded in the COVID-19 dataframe?"
   ]
  },
  {
   "cell_type": "code",
   "execution_count": 18,
   "id": "d4daa1a7-332a-433b-bf21-8396d5d3344e",
   "metadata": {},
   "outputs": [
    {
     "data": {
      "text/plain": [
       "country               224\n",
       "country_code          218\n",
       "continent               5\n",
       "population            257\n",
       "indicator               2\n",
       "weekly_count         8894\n",
       "year_week             102\n",
       "rate_14_day         27839\n",
       "cumulative_count    20083\n",
       "source                  3\n",
       "dtype: int64"
      ]
     },
     "execution_count": 18,
     "metadata": {},
     "output_type": "execute_result"
    }
   ],
   "source": [
    "df.nunique()"
   ]
  },
  {
   "cell_type": "markdown",
   "id": "160291b8-c336-416e-8d1f-91a7f36d0c8d",
   "metadata": {},
   "source": [
    "### groupby()\n",
    "Group the COVID-19 dataframe by continent, compute the sum of the columns (although logically summing some of the columns does not make sense, think about that). Then plot weekly_count."
   ]
  },
  {
   "cell_type": "code",
   "execution_count": 19,
   "id": "1ba8691a-d20d-4ac8-8594-a44b75f2c66f",
   "metadata": {},
   "outputs": [
    {
     "data": {
      "text/plain": [
       "pandas.core.groupby.generic.DataFrameGroupBy"
      ]
     },
     "execution_count": 19,
     "metadata": {},
     "output_type": "execute_result"
    }
   ],
   "source": [
    "df_grouped = df.groupby('continent')\n",
    "# by itself, groupby just returns a special type of dataframe, to which you should apply some function.\n",
    "# check the type of the returned dataframe:\n",
    "type(df_grouped)"
   ]
  },
  {
   "cell_type": "code",
   "execution_count": 20,
   "id": "e7b625ec-2b42-4b8c-b578-2d8580920575",
   "metadata": {},
   "outputs": [
    {
     "data": {
      "text/html": [
       "<div>\n",
       "<style scoped>\n",
       "    .dataframe tbody tr th:only-of-type {\n",
       "        vertical-align: middle;\n",
       "    }\n",
       "\n",
       "    .dataframe tbody tr th {\n",
       "        vertical-align: top;\n",
       "    }\n",
       "\n",
       "    .dataframe thead th {\n",
       "        text-align: right;\n",
       "    }\n",
       "</style>\n",
       "<table border=\"1\" class=\"dataframe\">\n",
       "  <thead>\n",
       "    <tr style=\"text-align: right;\">\n",
       "      <th></th>\n",
       "      <th>population</th>\n",
       "      <th>weekly_count</th>\n",
       "      <th>rate_14_day</th>\n",
       "      <th>cumulative_count</th>\n",
       "    </tr>\n",
       "    <tr>\n",
       "      <th>continent</th>\n",
       "      <th></th>\n",
       "      <th></th>\n",
       "      <th></th>\n",
       "      <th></th>\n",
       "    </tr>\n",
       "  </thead>\n",
       "  <tbody>\n",
       "    <tr>\n",
       "      <th>Africa</th>\n",
       "      <td>505057260196</td>\n",
       "      <td>18415112</td>\n",
       "      <td>2.153251e+05</td>\n",
       "      <td>694025932</td>\n",
       "    </tr>\n",
       "    <tr>\n",
       "      <th>America</th>\n",
       "      <td>405718349336</td>\n",
       "      <td>202698788</td>\n",
       "      <td>8.321967e+05</td>\n",
       "      <td>8345036558</td>\n",
       "    </tr>\n",
       "    <tr>\n",
       "      <th>Asia</th>\n",
       "      <td>1818877754824</td>\n",
       "      <td>146719320</td>\n",
       "      <td>4.132303e+05</td>\n",
       "      <td>5246170472</td>\n",
       "    </tr>\n",
       "    <tr>\n",
       "      <th>Europe</th>\n",
       "      <td>433852343596</td>\n",
       "      <td>233376368</td>\n",
       "      <td>1.622570e+06</td>\n",
       "      <td>8058072309</td>\n",
       "    </tr>\n",
       "    <tr>\n",
       "      <th>Oceania</th>\n",
       "      <td>16569714824</td>\n",
       "      <td>834028</td>\n",
       "      <td>1.077630e+05</td>\n",
       "      <td>17120842</td>\n",
       "    </tr>\n",
       "  </tbody>\n",
       "</table>\n",
       "</div>"
      ],
      "text/plain": [
       "              population  weekly_count   rate_14_day  cumulative_count\n",
       "continent                                                             \n",
       "Africa      505057260196      18415112  2.153251e+05         694025932\n",
       "America     405718349336     202698788  8.321967e+05        8345036558\n",
       "Asia       1818877754824     146719320  4.132303e+05        5246170472\n",
       "Europe      433852343596     233376368  1.622570e+06        8058072309\n",
       "Oceania      16569714824        834028  1.077630e+05          17120842"
      ]
     },
     "execution_count": 20,
     "metadata": {},
     "output_type": "execute_result"
    }
   ],
   "source": [
    "# now sum the 'grouped' dataframe\n",
    "df_grouped.sum()"
   ]
  },
  {
   "cell_type": "code",
   "execution_count": 28,
   "id": "81bdcf72-b568-46ac-a379-6bb7f5e544ae",
   "metadata": {},
   "outputs": [
    {
     "data": {
      "text/plain": [
       "<AxesSubplot:title={'center':'COVID-19 cases grouped by continent'}, xlabel='continent', ylabel='Total cases'>"
      ]
     },
     "execution_count": 28,
     "metadata": {},
     "output_type": "execute_result"
    },
    {
     "data": {
      "image/png": "[encoded data removed]",
      "text/plain": [
       "<Figure size 432x288 with 1 Axes>"
      ]
     },
     "metadata": {
      "needs_background": "light"
     },
     "output_type": "display_data"
    }
   ],
   "source": [
    "# plot weekly_count\n",
    "# use a bar plot, set the y-axis label and the title\n",
    "df_grouped.sum()['weekly_count'].plot(kind='bar', ylabel='Total cases', title='COVID-19 cases grouped by continent')"
   ]
  },
  {
   "cell_type": "markdown",
   "id": "6b48dfe2-c4a0-4da6-b41a-cf176416bbeb",
   "metadata": {},
   "source": [
    "Now check which countries are part of the group 'Oceania', using get_group()"
   ]
  },
  {
   "cell_type": "code",
   "execution_count": 22,
   "id": "3c195fb8-f60e-49fc-81ee-0a8eacbc2590",
   "metadata": {},
   "outputs": [
    {
     "data": {
      "text/html": [
       "<div>\n",
       "<style scoped>\n",
       "    .dataframe tbody tr th:only-of-type {\n",
       "        vertical-align: middle;\n",
       "    }\n",
       "\n",
       "    .dataframe tbody tr th {\n",
       "        vertical-align: top;\n",
       "    }\n",
       "\n",
       "    .dataframe thead th {\n",
       "        text-align: right;\n",
       "    }\n",
       "</style>\n",
       "<table border=\"1\" class=\"dataframe\">\n",
       "  <thead>\n",
       "    <tr style=\"text-align: right;\">\n",
       "      <th></th>\n",
       "      <th>country</th>\n",
       "      <th>country_code</th>\n",
       "      <th>continent</th>\n",
       "      <th>population</th>\n",
       "      <th>indicator</th>\n",
       "      <th>weekly_count</th>\n",
       "      <th>year_week</th>\n",
       "      <th>rate_14_day</th>\n",
       "      <th>cumulative_count</th>\n",
       "      <th>source</th>\n",
       "    </tr>\n",
       "  </thead>\n",
       "  <tbody>\n",
       "    <tr>\n",
       "      <th>1002</th>\n",
       "      <td>American Samoa</td>\n",
       "      <td>ASM</td>\n",
       "      <td>Oceania</td>\n",
       "      <td>55197</td>\n",
       "      <td>cases</td>\n",
       "      <td>1</td>\n",
       "      <td>2021-37</td>\n",
       "      <td>NaN</td>\n",
       "      <td>1</td>\n",
       "      <td>Epidemic intelligence national data</td>\n",
       "    </tr>\n",
       "    <tr>\n",
       "      <th>1003</th>\n",
       "      <td>American Samoa</td>\n",
       "      <td>ASM</td>\n",
       "      <td>Oceania</td>\n",
       "      <td>55197</td>\n",
       "      <td>cases</td>\n",
       "      <td>0</td>\n",
       "      <td>2021-38</td>\n",
       "      <td>1.811693</td>\n",
       "      <td>1</td>\n",
       "      <td>Epidemic intelligence national data</td>\n",
       "    </tr>\n",
       "    <tr>\n",
       "      <th>1004</th>\n",
       "      <td>American Samoa</td>\n",
       "      <td>ASM</td>\n",
       "      <td>Oceania</td>\n",
       "      <td>55197</td>\n",
       "      <td>cases</td>\n",
       "      <td>0</td>\n",
       "      <td>2021-39</td>\n",
       "      <td>0.000000</td>\n",
       "      <td>1</td>\n",
       "      <td>Epidemic intelligence national data</td>\n",
       "    </tr>\n",
       "    <tr>\n",
       "      <th>1005</th>\n",
       "      <td>American Samoa</td>\n",
       "      <td>ASM</td>\n",
       "      <td>Oceania</td>\n",
       "      <td>55197</td>\n",
       "      <td>cases</td>\n",
       "      <td>2</td>\n",
       "      <td>2021-40</td>\n",
       "      <td>3.623385</td>\n",
       "      <td>3</td>\n",
       "      <td>Epidemic intelligence national data</td>\n",
       "    </tr>\n",
       "    <tr>\n",
       "      <th>1006</th>\n",
       "      <td>American Samoa</td>\n",
       "      <td>ASM</td>\n",
       "      <td>Oceania</td>\n",
       "      <td>55197</td>\n",
       "      <td>cases</td>\n",
       "      <td>0</td>\n",
       "      <td>2021-41</td>\n",
       "      <td>3.623385</td>\n",
       "      <td>3</td>\n",
       "      <td>Epidemic intelligence national data</td>\n",
       "    </tr>\n",
       "    <tr>\n",
       "      <th>...</th>\n",
       "      <td>...</td>\n",
       "      <td>...</td>\n",
       "      <td>...</td>\n",
       "      <td>...</td>\n",
       "      <td>...</td>\n",
       "      <td>...</td>\n",
       "      <td>...</td>\n",
       "      <td>...</td>\n",
       "      <td>...</td>\n",
       "      <td>...</td>\n",
       "    </tr>\n",
       "    <tr>\n",
       "      <th>40981</th>\n",
       "      <td>Wallis And Futuna</td>\n",
       "      <td>WLF</td>\n",
       "      <td>Oceania</td>\n",
       "      <td>11246</td>\n",
       "      <td>deaths</td>\n",
       "      <td>0</td>\n",
       "      <td>2021-45</td>\n",
       "      <td>0.000000</td>\n",
       "      <td>7</td>\n",
       "      <td>Epidemic intelligence national data</td>\n",
       "    </tr>\n",
       "    <tr>\n",
       "      <th>40982</th>\n",
       "      <td>Wallis And Futuna</td>\n",
       "      <td>WLF</td>\n",
       "      <td>Oceania</td>\n",
       "      <td>11246</td>\n",
       "      <td>deaths</td>\n",
       "      <td>0</td>\n",
       "      <td>2021-46</td>\n",
       "      <td>0.000000</td>\n",
       "      <td>7</td>\n",
       "      <td>Epidemic intelligence national data</td>\n",
       "    </tr>\n",
       "    <tr>\n",
       "      <th>40983</th>\n",
       "      <td>Wallis And Futuna</td>\n",
       "      <td>WLF</td>\n",
       "      <td>Oceania</td>\n",
       "      <td>11246</td>\n",
       "      <td>deaths</td>\n",
       "      <td>0</td>\n",
       "      <td>2021-47</td>\n",
       "      <td>0.000000</td>\n",
       "      <td>7</td>\n",
       "      <td>Epidemic intelligence national data</td>\n",
       "    </tr>\n",
       "    <tr>\n",
       "      <th>40984</th>\n",
       "      <td>Wallis And Futuna</td>\n",
       "      <td>WLF</td>\n",
       "      <td>Oceania</td>\n",
       "      <td>11246</td>\n",
       "      <td>deaths</td>\n",
       "      <td>0</td>\n",
       "      <td>2021-48</td>\n",
       "      <td>0.000000</td>\n",
       "      <td>7</td>\n",
       "      <td>Epidemic intelligence national data</td>\n",
       "    </tr>\n",
       "    <tr>\n",
       "      <th>40985</th>\n",
       "      <td>Wallis And Futuna</td>\n",
       "      <td>WLF</td>\n",
       "      <td>Oceania</td>\n",
       "      <td>11246</td>\n",
       "      <td>deaths</td>\n",
       "      <td>0</td>\n",
       "      <td>2021-49</td>\n",
       "      <td>0.000000</td>\n",
       "      <td>7</td>\n",
       "      <td>Epidemic intelligence national data</td>\n",
       "    </tr>\n",
       "  </tbody>\n",
       "</table>\n",
       "<p>2456 rows × 10 columns</p>\n",
       "</div>"
      ],
      "text/plain": [
       "                 country country_code continent  population indicator  \\\n",
       "1002      American Samoa          ASM   Oceania       55197     cases   \n",
       "1003      American Samoa          ASM   Oceania       55197     cases   \n",
       "1004      American Samoa          ASM   Oceania       55197     cases   \n",
       "1005      American Samoa          ASM   Oceania       55197     cases   \n",
       "1006      American Samoa          ASM   Oceania       55197     cases   \n",
       "...                  ...          ...       ...         ...       ...   \n",
       "40981  Wallis And Futuna          WLF   Oceania       11246    deaths   \n",
       "40982  Wallis And Futuna          WLF   Oceania       11246    deaths   \n",
       "40983  Wallis And Futuna          WLF   Oceania       11246    deaths   \n",
       "40984  Wallis And Futuna          WLF   Oceania       11246    deaths   \n",
       "40985  Wallis And Futuna          WLF   Oceania       11246    deaths   \n",
       "\n",
       "       weekly_count year_week  rate_14_day  cumulative_count  \\\n",
       "1002              1   2021-37          NaN                 1   \n",
       "1003              0   2021-38     1.811693                 1   \n",
       "1004              0   2021-39     0.000000                 1   \n",
       "1005              2   2021-40     3.623385                 3   \n",
       "1006              0   2021-41     3.623385                 3   \n",
       "...             ...       ...          ...               ...   \n",
       "40981             0   2021-45     0.000000                 7   \n",
       "40982             0   2021-46     0.000000                 7   \n",
       "40983             0   2021-47     0.000000                 7   \n",
       "40984             0   2021-48     0.000000                 7   \n",
       "40985             0   2021-49     0.000000                 7   \n",
       "\n",
       "                                    source  \n",
       "1002   Epidemic intelligence national data  \n",
       "1003   Epidemic intelligence national data  \n",
       "1004   Epidemic intelligence national data  \n",
       "1005   Epidemic intelligence national data  \n",
       "1006   Epidemic intelligence national data  \n",
       "...                                    ...  \n",
       "40981  Epidemic intelligence national data  \n",
       "40982  Epidemic intelligence national data  \n",
       "40983  Epidemic intelligence national data  \n",
       "40984  Epidemic intelligence national data  \n",
       "40985  Epidemic intelligence national data  \n",
       "\n",
       "[2456 rows x 10 columns]"
      ]
     },
     "execution_count": 22,
     "metadata": {},
     "output_type": "execute_result"
    }
   ],
   "source": [
    "df_grouped.get_group('Oceania')"
   ]
  },
  {
   "cell_type": "markdown",
   "id": "1c9168ab-6e1b-4f61-8a10-052890447fde",
   "metadata": {},
   "source": [
    "How many unique countries are there? Use nunique() on the 'country' column to find out."
   ]
  },
  {
   "cell_type": "code",
   "execution_count": 23,
   "id": "d93918df-ad7b-4459-a748-113b5f36eccd",
   "metadata": {},
   "outputs": [
    {
     "data": {
      "text/plain": [
       "18"
      ]
     },
     "execution_count": 23,
     "metadata": {},
     "output_type": "execute_result"
    }
   ],
   "source": [
    "df_grouped.get_group('Oceania')['country'].nunique()"
   ]
  },
  {
   "cell_type": "markdown",
   "id": "9565110f-78c1-407b-b8a7-72431b1e89d9",
   "metadata": {},
   "source": [
    "Which countries are in the Oceania group? Use unique() (without the 'n') on the 'country' column to find out."
   ]
  },
  {
   "cell_type": "code",
   "execution_count": 24,
   "id": "2633de2a-df8c-4e5d-8da2-eff35057bbd4",
   "metadata": {},
   "outputs": [
    {
     "data": {
      "text/plain": [
       "array(['American Samoa', 'Australia', 'Fiji', 'French Polynesia', 'Guam',\n",
       "       'Marshall Islands', 'Micronesia (Federated States Of)',\n",
       "       'New Caledonia', 'New Zealand', 'Northern Mariana Islands',\n",
       "       'Oceania (total)', 'Palau', 'Papua New Guinea', 'Samoa',\n",
       "       'Solomon Islands', 'Tonga', 'Vanuatu', 'Wallis And Futuna'],\n",
       "      dtype=object)"
      ]
     },
     "execution_count": 24,
     "metadata": {},
     "output_type": "execute_result"
    }
   ],
   "source": [
    "df_grouped.get_group('Oceania')['country'].unique()"
   ]
  },
  {
   "cell_type": "code",
   "execution_count": 25,
   "id": "47b72c9c-c426-40d3-80aa-75a32cb639ab",
   "metadata": {},
   "outputs": [
    {
     "name": "stdout",
     "output_type": "stream",
     "text": [
      "18\n"
     ]
    }
   ],
   "source": [
    "# of course in the array above there is exactly the number of countries reported by nunique():\n",
    "print(len(df_grouped.get_group('Oceania')['country'].unique()))"
   ]
  },
  {
   "cell_type": "markdown",
   "id": "41cec679-3120-4eb2-b837-8b4c99bcb7f2",
   "metadata": {},
   "source": [
    "## Exporting to Excel"
   ]
  },
  {
   "cell_type": "code",
   "execution_count": 26,
   "id": "538a62e3-98f8-47ed-9ceb-999818c2bb2a",
   "metadata": {},
   "outputs": [],
   "source": [
    "# export all Italian data to a new Excel file using the to_excel() method\n",
    "df_italy = pd.read_excel('COVID-19-sample-BDB2022.xlsx').query('country == \"Italy\"')\n",
    "df_italy.to_excel('COVID-19-italy-only.xlsx')"
   ]
  },
  {
   "cell_type": "markdown",
   "id": "2bae7868-1cb5-4ae6-a566-4e00726eeac2",
   "metadata": {},
   "source": [
    "## Reading a CSV file from a remote location"
   ]
  },
  {
   "cell_type": "code",
   "execution_count": 27,
   "id": "77086fb0-d3cc-401e-a19f-2c1bbba2c92d",
   "metadata": {},
   "outputs": [
    {
     "data": {
      "text/plain": [
       "135405"
      ]
     },
     "execution_count": 27,
     "metadata": {},
     "output_type": "execute_result"
    }
   ],
   "source": [
    "df = pd.read_csv('https://github.com/dsalomoni/bdb-2022/raw/main/covid/COVID-19-sample-BDB2022.csv')\n",
    "df_deaths_italy = df.query('country == \"Italy\" and indicator == \"deaths\"')\n",
    "df_deaths_italy['weekly_count'].sum()"
   ]
  },
  {
   "cell_type": "code",
   "execution_count": null,
   "id": "acd599ba-4d6c-409f-a8ae-c46f37541730",
   "metadata": {},
   "outputs": [],
   "source": []
  }
 ],
 "metadata": {
  "kernelspec": {
   "display_name": "Python 3 (ipykernel)",
   "language": "python",
   "name": "python3"
  },
  "language_info": {
   "codemirror_mode": {
    "name": "ipython",
    "version": 3
   },
   "file_extension": ".py",
   "mimetype": "text/x-python",
   "name": "python",
   "nbconvert_exporter": "python",
   "pygments_lexer": "ipython3",
   "version": "3.9.7"
  }
 },
 "nbformat": 4,
 "nbformat_minor": 5
}
