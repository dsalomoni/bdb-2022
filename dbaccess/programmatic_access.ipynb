{
 "cells": [
  {
   "cell_type": "markdown",
   "metadata": {},
   "source": [
    "# Biomedical Data Bases, 2020-2021\n",
    "### Programmatic Access to Databases\n",
    "These are notes by prof. Davide Salomoni (d.salomoni@unibo.it) for the Biomedical Data Base course at the University of Bologna, academic year 2020-2021.\n",
    "\n",
    "## Running an external script from Python\n",
    "\n",
    "Here we demonstrate the use of the _subprocess_ module."
   ]
  },
  {
   "cell_type": "code",
   "execution_count": null,
   "metadata": {},
   "outputs": [],
   "source": [
    "# An example of running an external program (here: 'ls -l') from Python\n",
    "import subprocess\n",
    "\n",
    "sp = subprocess.run('ls -l', shell=True, capture_output=True, text=True)\n",
    "print(sp.stdout)"
   ]
  },
  {
   "cell_type": "markdown",
   "metadata": {},
   "source": [
    "### Running an external program and processing its output\n",
    "\n",
    "Suppose we have a python program implementing an iterative method to compute the square root of that number, according to the following algorithm (called the _Heron's method_):\n",
    "\n",
    "$$\n",
    "x_0 = 1\n",
    "\\\\\n",
    "x_{n+1} = \\frac{1}{2} (x_n + \\frac{S}{x_n})\n",
    "\\\\\n",
    "\\sqrt{S} = \\lim_{n \\to \\infty} x_n\n",
    "$$\n",
    "\n",
    "If the program is called _sqrt_iterative.py_ (find it in the BDB github repo, or write one yourself) and expects in input the number for which we want to compute the square root and the number of iterations to perform, we could call it from Jupyter with the usual `!` character like this:"
   ]
  },
  {
   "cell_type": "code",
   "execution_count": null,
   "metadata": {},
   "outputs": [],
   "source": [
    "! python3 sqrt_iterative.py 23941 9"
   ]
  },
  {
   "cell_type": "markdown",
   "metadata": {},
   "source": [
    "However, what if we want to capture its output from a Python program? We can use the `subprocess` module like this:"
   ]
  },
  {
   "cell_type": "code",
   "execution_count": null,
   "metadata": {},
   "outputs": [],
   "source": [
    "import subprocess\n",
    "import math\n",
    "\n",
    "number = 23941\n",
    "iterations = 9\n",
    "\n",
    "sp = subprocess.run('python3 sqrt_iterative.py %s %s' % (number, iterations), shell=True, capture_output=True, text=True)\n",
    "result = float(sp.stdout.strip()) # what happens if the result cannot be converted to a float? try!\n",
    "\n",
    "print('After %d iterations, the square root of %d is %f' % (iterations, number, result))\n",
    "print('math.sqrt(%d) returns %f' % (number, math.sqrt(number)))\n",
    "print('The difference with math.sqrt(%d) is %f' % (number, result-math.sqrt(number)))"
   ]
  },
  {
   "cell_type": "markdown",
   "metadata": {},
   "source": [
    "## Using the _requests_ module"
   ]
  },
  {
   "cell_type": "code",
   "execution_count": null,
   "metadata": {},
   "outputs": [],
   "source": [
    "# test the requests module querying Google\n",
    "import requests\n",
    "res = requests.get('http://www.google.com')\n",
    "print(res)"
   ]
  },
  {
   "cell_type": "code",
   "execution_count": null,
   "metadata": {},
   "outputs": [],
   "source": [
    "print(res.status_code)"
   ]
  },
  {
   "cell_type": "code",
   "execution_count": null,
   "metadata": {},
   "outputs": [],
   "source": [
    "# if the requests call succeeded, print the text that was returned.\n",
    "res = requests.get('http://www.google.com')\n",
    "if res.status_code == 200:\n",
    "    print(res.text)"
   ]
  },
  {
   "cell_type": "markdown",
   "metadata": {},
   "source": [
    "### Remember to check the status code"
   ]
  },
  {
   "cell_type": "code",
   "execution_count": null,
   "metadata": {},
   "outputs": [],
   "source": [
    "r = requests.get('https://github.com/timelines.json')\n",
    "print(r.status_code)"
   ]
  },
  {
   "cell_type": "code",
   "execution_count": null,
   "metadata": {},
   "outputs": [],
   "source": [
    "print(r.text)"
   ]
  },
  {
   "cell_type": "markdown",
   "metadata": {},
   "source": [
    "### Query PDB using REST calls\n",
    "\n",
    "Note that when the output is returned in JSON format we can easily parse it using normal Python dictionaries and lists."
   ]
  },
  {
   "cell_type": "code",
   "execution_count": null,
   "metadata": {},
   "outputs": [],
   "source": [
    "# query the PDB using the REST API. It returns JSON output.\n",
    "r = requests.get('https://data.rcsb.org/rest/v1/core/entry/4GYD')\n",
    "\n",
    "# convert the json return value to a Python dictionary\n",
    "data = r.json()\n",
    "\n",
    "# check it is indeed a dictionary\n",
    "type(data)"
   ]
  },
  {
   "cell_type": "code",
   "execution_count": null,
   "metadata": {},
   "outputs": [],
   "source": [
    "# since 'data' is a dictionary, check what are its keys:\n",
    "data.keys()"
   ]
  },
  {
   "cell_type": "code",
   "execution_count": null,
   "metadata": {},
   "outputs": [],
   "source": [
    "# get info from the 'cell' key:\n",
    "data['cell']"
   ]
  },
  {
   "cell_type": "code",
   "execution_count": null,
   "metadata": {},
   "outputs": [],
   "source": [
    "# get info for polymer entity data, providing PDB ID and polymer ID:\n",
    "r = requests.get('https://data.rcsb.org/rest/v1/core/polymer_entity/4GYD/1')\n",
    "data = r.json()\n",
    "data.keys()"
   ]
  },
  {
   "cell_type": "code",
   "execution_count": null,
   "metadata": {},
   "outputs": [],
   "source": [
    "# see what's inside the 'entity_poly' key:\n",
    "data['entity_poly']"
   ]
  },
  {
   "cell_type": "code",
   "execution_count": null,
   "metadata": {},
   "outputs": [],
   "source": [
    "# get annotations\n",
    "r2 = requests.get('https://data.rcsb.org/rest/v1/core/pubmed/4GYD')\n",
    "data2 = r2.json()\n",
    "data2.keys()"
   ]
  },
  {
   "cell_type": "code",
   "execution_count": null,
   "metadata": {
    "scrolled": true
   },
   "outputs": [],
   "source": [
    "# this is the pubmed abstract:\n",
    "data2['rcsb_pubmed_abstract_text']"
   ]
  },
  {
   "cell_type": "markdown",
   "metadata": {},
   "source": [
    "### Chemical component"
   ]
  },
  {
   "cell_type": "code",
   "execution_count": null,
   "metadata": {},
   "outputs": [],
   "source": [
    "r = requests.get('https://data.rcsb.org/rest/v1/core/chemcomp/CFF')\n",
    "data = r.json()"
   ]
  },
  {
   "cell_type": "code",
   "execution_count": null,
   "metadata": {},
   "outputs": [],
   "source": [
    "data.keys()"
   ]
  },
  {
   "cell_type": "code",
   "execution_count": null,
   "metadata": {},
   "outputs": [],
   "source": [
    "data['chem_comp']"
   ]
  },
  {
   "cell_type": "markdown",
   "metadata": {},
   "source": [
    "### Drug Bank"
   ]
  },
  {
   "cell_type": "code",
   "execution_count": null,
   "metadata": {},
   "outputs": [],
   "source": [
    "r = requests.get('https://data.rcsb.org/rest/v1/core/drugbank/CFF')\n",
    "data = r.json()\n",
    "data.keys()"
   ]
  },
  {
   "cell_type": "code",
   "execution_count": null,
   "metadata": {},
   "outputs": [],
   "source": [
    "data['drugbank_info'].keys()"
   ]
  },
  {
   "cell_type": "code",
   "execution_count": null,
   "metadata": {},
   "outputs": [],
   "source": [
    "data['drugbank_info']['description']"
   ]
  },
  {
   "cell_type": "code",
   "execution_count": null,
   "metadata": {},
   "outputs": [],
   "source": [
    "data['drugbank_info']['indication']"
   ]
  },
  {
   "cell_type": "markdown",
   "metadata": {},
   "source": [
    "### Processing multiple files"
   ]
  },
  {
   "cell_type": "code",
   "execution_count": null,
   "metadata": {},
   "outputs": [],
   "source": [
    "protein_ids = ['4GYD', '4H0J', '4H0K']\n",
    "\n",
    "protein_dict = dict()\n",
    "for protein in protein_ids:\n",
    "    r = requests.get('https://data.rcsb.org/rest/v1/core/entry/%s' % protein)\n",
    "    data = r.json()\n",
    "    protein_dict[protein] = data['cell']\n",
    "\n",
    "# now print e.g. length_a, length_b and length_c for all the proteins:\n",
    "for (key,value) in protein_dict.items():\n",
    "    print('Protein %s: a=%f, b=%f, c=%f' % (key, value['length_a'], value['length_b'], value['length_c']))"
   ]
  },
  {
   "cell_type": "markdown",
   "metadata": {},
   "source": [
    "### Getting sequence data in FASTA format\n",
    "\n",
    "Note that in this case the output is returned as regular text, i.e. it is not JSON-formatted."
   ]
  },
  {
   "cell_type": "code",
   "execution_count": null,
   "metadata": {},
   "outputs": [],
   "source": [
    "# print FASTA data for some proteins\n",
    "protein_ids = ['4GYD', '4H0J', '4H0K']\n",
    "\n",
    "for protein in protein_ids:\n",
    "    r = requests.get('https://www.rcsb.org/fasta/entry/%s/download' % protein)\n",
    "    print(r.text)"
   ]
  },
  {
   "cell_type": "markdown",
   "metadata": {},
   "source": [
    "## The PDB Search API"
   ]
  },
  {
   "cell_type": "code",
   "execution_count": null,
   "metadata": {},
   "outputs": [],
   "source": [
    "# a BLAST-like example using the PDB search API\n",
    "fasta = \"MTEYKLVVVGAGGVGKSALTIQLIQNHFVDEYDPTIEDSYRKQVVIDGETCLLDILDTAGQEEYSAMRDQYMRTGEGFLCVFAINNTKSFEDIHQYREQIKRVKDSDDVPMVLVGNKCDLPARTVETRQAQDLARSYGIPYIETSAKTRQGVEDAFYTLVREIRQHKLRKLNPPDESGPGCMNCKCVIS\"\n",
    "my_query = '''{\n",
    "    \"query\": {\n",
    "        \"type\" : \"terminal\",\n",
    "        \"service\" : \"sequence\",\n",
    "        \"parameters\" : {\n",
    "            \"evalue_cutoff\" : 1,\n",
    "            \"identity_cutoff\" : 0.9,\n",
    "            \"target\" : \"pdb_protein_sequence\",\n",
    "            \"value\" : \"%s\"\n",
    "        }\n",
    "    },\n",
    "    \"request_options\" : {\n",
    "        \"scoring_strategy\" : \"sequence\"\n",
    "    },\n",
    "    \"return_type\" : \"polymer_entity\"\n",
    "}''' % fasta\n",
    "r = requests.get('http://search.rcsb.org/rcsbsearch/v1/query?json=%s' % requests.utils.requote_uri(my_query))\n",
    "j = r.json()"
   ]
  },
  {
   "cell_type": "code",
   "execution_count": null,
   "metadata": {},
   "outputs": [],
   "source": [
    "# these are keys of the dictionary:\n",
    "print(j.keys())"
   ]
  },
  {
   "cell_type": "code",
   "execution_count": null,
   "metadata": {},
   "outputs": [],
   "source": [
    "# let's print the results:\n",
    "print(\"We got %s matches\" % j['total_count'])\n",
    "print(\"The first %s results follow:\" % len(j['result_set']))\n",
    "for item in j['result_set']:\n",
    "    print(item['identifier'], \"score =\", item['score'])"
   ]
  },
  {
   "cell_type": "code",
   "execution_count": null,
   "metadata": {},
   "outputs": [],
   "source": [
    "# a sequence motif search\n",
    "# we use here the Zinc finger Cys2His2-like fold group\n",
    "# its PROSITE signature is available at https://prosite.expasy.org/PS00028\n",
    "my_query = '''\n",
    "{\n",
    "  \"query\": {\n",
    "    \"type\": \"terminal\",\n",
    "    \"service\": \"seqmotif\",\n",
    "    \"parameters\": {\n",
    "      \"value\": \"C-x(2,4)-C-x(3)-[LIVMFYWC]-x(8)-H-x(3,5)-H\",\n",
    "      \"pattern_type\": \"prosite\",\n",
    "      \"target\": \"pdb_protein_sequence\"\n",
    "    }\n",
    "  },\n",
    "  \"return_type\": \"polymer_entity\"\n",
    "}\n",
    "'''\n",
    "r = requests.get('http://search.rcsb.org/rcsbsearch/v1/query?json=%s' % requests.utils.requote_uri(my_query))\n",
    "j = r.json()"
   ]
  },
  {
   "cell_type": "code",
   "execution_count": null,
   "metadata": {},
   "outputs": [],
   "source": [
    "j.keys()"
   ]
  },
  {
   "cell_type": "code",
   "execution_count": null,
   "metadata": {},
   "outputs": [],
   "source": [
    "print(\"There are %s results in total, we got back details for the first %s\" % \n",
    "      (j['total_count'], len(j['result_set'])))"
   ]
  },
  {
   "cell_type": "code",
   "execution_count": null,
   "metadata": {},
   "outputs": [],
   "source": [
    "print('This is the detailed info for the first result:')\n",
    "print(j['result_set'][0])\n",
    "print('\\nThe identifiers for the returned results are:')\n",
    "for item in j['result_set']:\n",
    "    print(item['identifier'])"
   ]
  },
  {
   "cell_type": "markdown",
   "metadata": {},
   "source": [
    "## GraphQL "
   ]
  },
  {
   "cell_type": "code",
   "execution_count": null,
   "metadata": {},
   "outputs": [],
   "source": [
    "# a GraphQL query\n",
    "my_query = '''\n",
    "{\n",
    "    entry(entry_id: \"4GYD\") {\n",
    "        cell {\n",
    "            Z_PDB\n",
    "            angle_alpha\n",
    "            angle_beta\n",
    "            angle_gamma\n",
    "            formula_units_Z\n",
    "            length_a\n",
    "            length_b\n",
    "            length_c\n",
    "            pdbx_unique_axis\n",
    "            volume\n",
    "        }\n",
    "    }\n",
    "}\n",
    "'''\n",
    "\n",
    "r = requests.get('https://data.rcsb.org/graphql?query=%s' % requests.utils.requote_uri(my_query))\n",
    "j = r.json()"
   ]
  },
  {
   "cell_type": "code",
   "execution_count": null,
   "metadata": {},
   "outputs": [],
   "source": [
    "# check the keys of the dictionary:\n",
    "j.keys()"
   ]
  },
  {
   "cell_type": "code",
   "execution_count": null,
   "metadata": {},
   "outputs": [],
   "source": [
    "# explore what is in j['data']:\n",
    "j['data']"
   ]
  },
  {
   "cell_type": "code",
   "execution_count": null,
   "metadata": {},
   "outputs": [],
   "source": [
    "# print results with some formatting:\n",
    "params = j['data']['entry']['cell']\n",
    "for key,value in params.items():\n",
    "    print(key, ':', value)"
   ]
  },
  {
   "cell_type": "markdown",
   "metadata": {},
   "source": [
    "## Uniprot"
   ]
  },
  {
   "cell_type": "code",
   "execution_count": null,
   "metadata": {},
   "outputs": [],
   "source": [
    "# get data from Uniprot using the Proteins API\n",
    "# note that we are returned a list, not a dictionary\n",
    "requestURL = \"https://www.ebi.ac.uk/proteins/api/proteins?offset=0&size=10&accession=P0A3X7&reviewed=true\"\n",
    "\n",
    "# note that we must specify that we want JSON output using the 'headers' parameter to requests.get()\n",
    "r = requests.get(requestURL, headers={\"Accept\" : \"application/json\"})\n",
    "j = r.json()\n",
    "type(j)"
   ]
  },
  {
   "cell_type": "code",
   "execution_count": null,
   "metadata": {},
   "outputs": [],
   "source": [
    "# the returned list holds the entries we asked for\n",
    "# note that there is only one entry:\n",
    "len(j)"
   ]
  },
  {
   "cell_type": "code",
   "execution_count": null,
   "metadata": {},
   "outputs": [],
   "source": [
    "# this one entry is actually a dictionary:\n",
    "j[0]"
   ]
  },
  {
   "cell_type": "code",
   "execution_count": null,
   "metadata": {},
   "outputs": [],
   "source": [
    "# check the keys of the dictionary j[0]\n",
    "j[0].keys()"
   ]
  },
  {
   "cell_type": "code",
   "execution_count": null,
   "metadata": {},
   "outputs": [],
   "source": [
    "# these are the entries in the key 'dbReferences'\n",
    "j[0]['dbReferences']"
   ]
  },
  {
   "cell_type": "code",
   "execution_count": null,
   "metadata": {},
   "outputs": [],
   "source": [
    "# print the data we were looking for:\n",
    "print(\"Data for accession %s (ID: %s)\" % (j[0]['accession'], j[0]['id']))\n",
    "print(\"List of Gene Ontologies:\")\n",
    "for item in j[0]['dbReferences']:\n",
    "    if item['type'] == \"GO\":\n",
    "        print(\"  id: %s, term: %s, source: %s\" % (\n",
    "                item['id'],\n",
    "                item['properties']['term'],\n",
    "                item['properties']['source']))\n"
   ]
  },
  {
   "cell_type": "markdown",
   "metadata": {},
   "source": [
    "## NCBI"
   ]
  },
  {
   "cell_type": "code",
   "execution_count": null,
   "metadata": {},
   "outputs": [],
   "source": [
    "headers = {'Accept': 'application/json'}\n",
    "r = requests.get('https://api.ncbi.nlm.nih.gov/datasets/v1alpha/gene/id/%s' % 8291, headers=headers)\n",
    "j = r.json()\n",
    "j"
   ]
  },
  {
   "cell_type": "code",
   "execution_count": null,
   "metadata": {},
   "outputs": [],
   "source": [
    "gene = j['genes'][0]['gene']\n",
    "gene['description']"
   ]
  }
 ],
 "metadata": {
  "kernelspec": {
   "display_name": "Python 3 (ipykernel)",
   "language": "python",
   "name": "python3"
  },
  "language_info": {
   "codemirror_mode": {
    "name": "ipython",
    "version": 3
   },
   "file_extension": ".py",
   "mimetype": "text/x-python",
   "name": "python",
   "nbconvert_exporter": "python",
   "pygments_lexer": "ipython3",
   "version": "3.9.7"
  }
 },
 "nbformat": 4,
 "nbformat_minor": 4
}
