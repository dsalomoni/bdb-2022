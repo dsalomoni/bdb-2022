{
 "cells": [
  {
   "cell_type": "markdown",
   "id": "1e11237f-cdeb-4555-a541-55bc9545cd57",
   "metadata": {},
   "source": [
    "# Biomedical Data Bases, 2021-2022\n",
    "### Web Scraping\n",
    "These are notes by prof. Davide Salomoni (d.salomoni@unibo.it) for the Biomedical Data Base course at the University of Bologna, academic year 2021-2022.\n",
    "\n",
    "We will here demonstrate with a simple example how to fetch and process some data, related in particular to posting of bioinformatics jobs. Study the slides for more details and remember **not to overuse** web scraping."
   ]
  },
  {
   "cell_type": "markdown",
   "id": "c0baaa29-2011-4863-aa8d-24b3cf641f79",
   "metadata": {},
   "source": [
    "## Import all necessary libraries"
   ]
  },
  {
   "cell_type": "code",
   "execution_count": 1,
   "id": "2b7d014b-4231-4f09-9850-4b4abc46f9e7",
   "metadata": {},
   "outputs": [],
   "source": [
    "import re\n",
    "import pandas as pd\n",
    "import requests\n",
    "from bs4 import BeautifulSoup"
   ]
  },
  {
   "cell_type": "markdown",
   "id": "da7d37d9-a19d-417d-a3f6-a1398bf533ea",
   "metadata": {},
   "source": [
    "## Example 1: scraping bioinformatics jobs"
   ]
  },
  {
   "cell_type": "markdown",
   "id": "b56ae472-853a-4076-805a-024e5996451d",
   "metadata": {},
   "source": [
    "### Get the page"
   ]
  },
  {
   "cell_type": "code",
   "execution_count": 2,
   "id": "582592fa-0f72-4d84-a1ed-464624d9781e",
   "metadata": {},
   "outputs": [],
   "source": [
    "LENGTH = 15 # number of jobs to retrieve\n",
    "JOB_URL = 'https://www.bioinformatics.org/jobs/?group_id=101&summaries=1&length=%s' % (LENGTH-1)\n",
    "\n",
    "# get the HTML of the page with requests.get()\n",
    "r = requests.get(JOB_URL)\n",
    "\n",
    "# now pass the page content to bs4\n",
    "soup = BeautifulSoup(r.content)"
   ]
  },
  {
   "cell_type": "markdown",
   "id": "acaaaf20-b7b6-47e7-93f5-18e69053ba9f",
   "metadata": {},
   "source": [
    "### Get the elements that interest us\n",
    "\n",
    "Looking at the HTML of the web page, it turns out that the job opportunities are in some _tables_. But the web page has many tables: how to find the ones that are interesting for us? We notice that the job opportunities are in tables where the text \"Opportunity\" is part of the content.\n",
    "\n",
    "So, we get first all the tables, and then we retain only those with \"Opportunity\" in the content, storing them in a list."
   ]
  },
  {
   "cell_type": "code",
   "execution_count": 3,
   "id": "ada67c1f-664d-4a80-adcd-e9aec95e129f",
   "metadata": {},
   "outputs": [],
   "source": [
    "# get all the tables\n",
    "tables = soup.find_all('table')\n",
    "\n",
    "# store the interesting tables in a list\n",
    "entries = list()\n",
    "for table in tables:\n",
    "    if 'Opportunity' in table.text:\n",
    "        entries.append(table)"
   ]
  },
  {
   "cell_type": "code",
   "execution_count": 4,
   "id": "de4f8498-d3f4-451b-a389-895a0569f17d",
   "metadata": {},
   "outputs": [],
   "source": [
    "# if we look at the list 'entries', we realize that the first two tables are not interesting, so we remove them\n",
    "entries = entries[2:]"
   ]
  },
  {
   "cell_type": "code",
   "execution_count": 5,
   "id": "5b1dfef0-a3db-4dfb-b5e8-5f76011c4a3d",
   "metadata": {},
   "outputs": [
    {
     "data": {
      "text/plain": [
       "<table style=\"border: none; border-collapse: collapse; width: 100%;\">\n",
       "<tr>\n",
       "<td style=\"font-size: small; padding-left: 0.25em; vertical-align: top; width: 100%;\">\n",
       "<div>\n",
       "<strong><a href=\"https://www.bioinformatics.org/forums/forum.php?forum_id=14591\">Opportunity: Research Scientist II / Founding Director of the Computational Informatics Center Core Facility (#F609P) @ University of North Texas -- Denton, TX (US)</a></strong><br/>\n",
       "<span style=\"margin-left: 1rem; font-size: small; font-style: italic;\">Submitted by <a href=\"https://www.bioinformatics.org/people/index.php?user_hash=a9690629558a7696\" title=\"\">Serdar Bozdag</a>; posted on Thursday, January 06, 2022</span> <span style=\"font-size: small;\"></span>\n",
       "</div>\n",
       "</td>\n",
       "</tr>\n",
       "</table>"
      ]
     },
     "execution_count": 5,
     "metadata": {},
     "output_type": "execute_result"
    }
   ],
   "source": [
    "# check what an entry looks like\n",
    "entries[0]"
   ]
  },
  {
   "cell_type": "code",
   "execution_count": 6,
   "id": "c54164e7-7bd3-4ce0-8387-715d27924831",
   "metadata": {},
   "outputs": [
    {
     "data": {
      "text/plain": [
       "bs4.element.Tag"
      ]
     },
     "execution_count": 6,
     "metadata": {},
     "output_type": "execute_result"
    }
   ],
   "source": [
    "# each entry is a BeatifulSoup structure\n",
    "type(entries[0])"
   ]
  },
  {
   "cell_type": "code",
   "execution_count": 7,
   "id": "9daf3d51-a630-4119-98f9-dfc5e601de52",
   "metadata": {},
   "outputs": [
    {
     "data": {
      "text/plain": [
       "'\\n\\n\\n\\nOpportunity: Research Scientist II / Founding Director of the Computational Informatics Center Core Facility (#F609P) @ University of North Texas -- Denton, TX (US)\\nSubmitted by Serdar Bozdag; posted on Thursday,\\xa0January\\xa006,\\xa02022 \\n\\n\\n\\n'"
      ]
     },
     "execution_count": 7,
     "metadata": {},
     "output_type": "execute_result"
    }
   ],
   "source": [
    "# entries[0] looks OK. We can apply several bs4 methods to it. For instance, let's see the text\n",
    "entries[0].text"
   ]
  },
  {
   "cell_type": "code",
   "execution_count": 8,
   "id": "b4222d6b-0be8-43d5-b05b-383b6d822e65",
   "metadata": {},
   "outputs": [
    {
     "data": {
      "text/plain": [
       "[<a href=\"https://www.bioinformatics.org/forums/forum.php?forum_id=14591\">Opportunity: Research Scientist II / Founding Director of the Computational Informatics Center Core Facility (#F609P) @ University of North Texas -- Denton, TX (US)</a>,\n",
       " <a href=\"https://www.bioinformatics.org/people/index.php?user_hash=a9690629558a7696\" title=\"\">Serdar Bozdag</a>]"
      ]
     },
     "execution_count": 8,
     "metadata": {},
     "output_type": "execute_result"
    }
   ],
   "source": [
    "# OK, there is some parsing to do on the text to remove unwanted elements. We will do it later.\n",
    "\n",
    "# Let's now use the bs4 find_all method to find the 'a' HTML tags (identifying links)\n",
    "links = entries[0].find_all('a', href=True)\n",
    "\n",
    "# check what we got\n",
    "links"
   ]
  },
  {
   "cell_type": "code",
   "execution_count": 9,
   "id": "691ddcf9-35c5-4dfe-93bc-cb9f475a3bc9",
   "metadata": {},
   "outputs": [
    {
     "name": "stdout",
     "output_type": "stream",
     "text": [
      "https://www.bioinformatics.org/forums/forum.php?forum_id=14591\n",
      "https://www.bioinformatics.org/people/index.php?user_hash=a9690629558a7696\n"
     ]
    }
   ],
   "source": [
    "# we got a list, of which we will want to retain only the first element (the second refers to the person who posted the job opportunity)\n",
    "\n",
    "# let's print out the \"href\", i.e. the actual link of the HTML tag\n",
    "for link in links:\n",
    "    print(link['href'])"
   ]
  },
  {
   "cell_type": "markdown",
   "id": "91212f1d-b170-4339-83cf-8df6b6812663",
   "metadata": {},
   "source": [
    "### Parse the text and store it in a list\n",
    "\n",
    "Now that we have understood how to process the various elements of the HTML page, let's put everything together.\n",
    "\n",
    "We will parse the text of each entry using some Python constructs, as well as a _regular expression_:\n",
    "- use strip() to remove the \\n characted at the beginning and at the end of each line\n",
    "- the text contained between ':' and '@' is the job title\n",
    "- the text contained between '@' and '\\n' is the job location\n",
    "- the text after 'posted on ' is the publication data. Here we also need to replace \\xa0 with a regular space"
   ]
  },
  {
   "cell_type": "code",
   "execution_count": 10,
   "id": "857dac10-efc5-4169-a9e5-17fe06def29c",
   "metadata": {},
   "outputs": [],
   "source": [
    "data = list()\n",
    "for entry in entries:\n",
    "    link = entry.find_all('a', href=True)[0]['href'] # we keep only the first link (see above)\n",
    "    text = entry.text.strip()\n",
    "    \n",
    "    # parse the text, grouping the interesting parts as explained above\n",
    "    # look up 'regular expressions in Python' if you are not familiar with the re.search syntax \n",
    "    m = re.search('Opportunity: (.+?) @ (.+?)\\n.+?; posted on (.+?)$', text)\n",
    "    \n",
    "    # now extract the various parts of the regexp\n",
    "    title = m.group(1)\n",
    "    location = m.group(2)\n",
    "    date = m.group(3).replace('\\xa0', ' ') # replace also \\xa0 with a space\n",
    "    \n",
    "    # finally, append all the extracted elements to a list\n",
    "    data.append([title, location, date, link])"
   ]
  },
  {
   "cell_type": "code",
   "execution_count": 11,
   "id": "ccf4193a-05c6-4f5e-b80b-7f5fa7059b01",
   "metadata": {},
   "outputs": [
    {
     "data": {
      "text/plain": [
       "[['Research Scientist II / Founding Director of the Computational Informatics Center Core Facility (#F609P)',\n",
       "  'University of North Texas -- Denton, TX (US)',\n",
       "  'Thursday, January 06, 2022',\n",
       "  'https://www.bioinformatics.org/forums/forum.php?forum_id=14591'],\n",
       " ['Bioinformatician (#2108-12755-BIOI-0T4)',\n",
       "  'ASRT, Inc. -- Atlanta, GA (US)',\n",
       "  'Thursday, January 06, 2022',\n",
       "  'https://www.bioinformatics.org/forums/forum.php?forum_id=14590'],\n",
       " ['Flatiron Research Fellow, Center for Computational Biology',\n",
       "  'Simons Foundation -- New York, NY (US)',\n",
       "  'Thursday, January 06, 2022',\n",
       "  'https://www.bioinformatics.org/forums/forum.php?forum_id=14589'],\n",
       " ['Flatiron Research Fellow for the Study of Living Materials (CCB)',\n",
       "  'Simons Foundation -- New York, NY (US)',\n",
       "  'Thursday, January 06, 2022',\n",
       "  'https://www.bioinformatics.org/forums/forum.php?forum_id=14588'],\n",
       " ['Research Assistant Professor, Neuroinformatics',\n",
       "  'The University of Chicago -- Chicago, IL (US)',\n",
       "  'Monday, January 03, 2022',\n",
       "  'https://www.bioinformatics.org/forums/forum.php?forum_id=14586'],\n",
       " ['Staff Scientist/Statistician in Bioinformatics',\n",
       "  'National Institute of Child Health and Human Development -- Bethesda, MD (US)',\n",
       "  'Tuesday, December 21, 2021',\n",
       "  'https://www.bioinformatics.org/forums/forum.php?forum_id=14581'],\n",
       " ['Bioinformatics Engineer (Full-Time)',\n",
       "  'Simons Foundation -- New York, NY (US)',\n",
       "  'Monday, December 20, 2021',\n",
       "  'https://www.bioinformatics.org/forums/forum.php?forum_id=14579'],\n",
       " ['Remote Scientific Programs Manager',\n",
       "  'Susan G. Komen -- Fully Remote (US)',\n",
       "  'Saturday, December 18, 2021 (1 comment)',\n",
       "  'https://www.bioinformatics.org/forums/forum.php?forum_id=14575'],\n",
       " ['Lead Bioinformatics Analyst',\n",
       "  \"St. Jude Children's Research Hospital -- Memphis, TN (US)\",\n",
       "  'Saturday, December 18, 2021',\n",
       "  'https://www.bioinformatics.org/people/index.php?user_hash=ef58f59d8165ded4'],\n",
       " ['Assistant Professor -- Biochemistry and Molecular Biology',\n",
       "  'Penn State College of Medicine -- Hershey, PA (US)',\n",
       "  'Saturday, December 18, 2021',\n",
       "  'https://www.bioinformatics.org/forums/forum.php?forum_id=14577'],\n",
       " ['Biostatistician',\n",
       "  'Oklahoma Medical Research Foundation -- Oklahoma City, OK (US)',\n",
       "  'Friday, December 17, 2021',\n",
       "  'https://www.bioinformatics.org/forums/forum.php?forum_id=14576'],\n",
       " ['Bioinformatics Scientist / Scientific Data Curator',\n",
       "  'Computercraft Corporation -- Bethesda, MD (US)',\n",
       "  'Thursday, December 16, 2021',\n",
       "  'https://www.bioinformatics.org/forums/forum.php?forum_id=14573'],\n",
       " ['User Services Group Leader (#93931)',\n",
       "  'Lawrence Berkeley National Laboratory -- Berkeley, CA (US)',\n",
       "  'Wednesday, December 15, 2021',\n",
       "  'https://www.bioinformatics.org/forums/forum.php?forum_id=14572'],\n",
       " ['Head of Theme for Data Science',\n",
       "  'UK Research and Innovation -- London or Swindon, UK',\n",
       "  'Tuesday, December 14, 2021',\n",
       "  'https://www.bioinformatics.org/forums/forum.php?forum_id=14570'],\n",
       " ['Director of the Center for Biomedical Data Sciences',\n",
       "  'Oklahoma Medical Research Foundation -- Oklahoma City, OK (US)',\n",
       "  'Friday, December 10, 2021',\n",
       "  'https://www.bioinformatics.org/forums/forum.php?forum_id=14569']]"
      ]
     },
     "execution_count": 11,
     "metadata": {},
     "output_type": "execute_result"
    }
   ],
   "source": [
    "# check what we got in the end\n",
    "data"
   ]
  },
  {
   "cell_type": "markdown",
   "id": "5eecb187-03bf-40e1-be92-0c9bb24a64e5",
   "metadata": {},
   "source": [
    "## Example 2: getting hourly weather forecasts\n",
    "\n",
    "This and the following example are provided without many explanations. You should analyze the code, break it down into multiple cells and verify what each operations does. There are also other ways to extract the same info: you are encouraged to find and test them."
   ]
  },
  {
   "cell_type": "code",
   "execution_count": 12,
   "id": "1c1a4a6a-42c0-4ebe-a8f1-0bd0c29bfe21",
   "metadata": {},
   "outputs": [
    {
     "name": "stdout",
     "output_type": "stream",
     "text": [
      "     0              1    2\n",
      "0   16         sereno  5.0\n",
      "1   17  poco nuvoloso  2.8\n",
      "2   18    nubi sparse  2.0\n",
      "3   19    nubi sparse  1.5\n",
      "4   20    nubi sparse  0.8\n",
      "5   21    nubi sparse  0.2\n",
      "6   22        coperto -0.1\n",
      "7   23        coperto -0.3\n",
      "8   24    nubi sparse -0.3\n",
      "9    1  poco nuvoloso -0.5\n",
      "10   2         sereno -1.3\n"
     ]
    },
    {
     "data": {
      "text/plain": [
       "<AxesSubplot:title={'center':'Hourly weather forecast for Bologna'}, xlabel='Hour', ylabel='T (°C)'>"
      ]
     },
     "execution_count": 12,
     "metadata": {},
     "output_type": "execute_result"
    },
    {
     "data": {
      "image/png": "[encoded data removed]",
      "text/plain": [
       "<Figure size 432x288 with 1 Axes>"
      ]
     },
     "metadata": {
      "needs_background": "light"
     },
     "output_type": "display_data"
    }
   ],
   "source": [
    "WEATHER_URL = 'https://www.ilmeteo.it/meteo/Bologna'\n",
    "r = requests.get(WEATHER_URL)\n",
    "soup = BeautifulSoup(r.content) \n",
    "\n",
    "# extract the main table, identified by a class called 'datatable'\n",
    "infos = soup.find_all(class_ = 'datatable')\n",
    "\n",
    "# extract rows and columns of that table, looking at the tags <tr> and <td>\n",
    "data = list()\n",
    "rows = infos[0].find_all('tr')\n",
    "for row in rows:\n",
    "    cols = row.find_all('td')\n",
    "    if len(cols):\n",
    "        # just keep the text of each cell\n",
    "        cols = [i.text.strip() for i in cols]\n",
    "        # put everything in data, removing empty entries\n",
    "        data.append([i for i in cols if i])\n",
    "\n",
    "# note that at the beginning of the data list there are several uniteresting elements\n",
    "# let's keep only the list elements where the first element is a number\n",
    "data = [i for i in data if i[0].isdigit()]\n",
    "\n",
    "# create a Pandas data frame from the data list. Column names will be by default 0, 1, 2, ...\n",
    "df = pd.DataFrame(data)\n",
    "\n",
    "# keep only the column I am interesting in (0, 1, 2) and convert column 2 into float\n",
    "weather = df.iloc[:, [0,1,2]].copy()\n",
    "weather.iloc[:,2] = weather.iloc[:,2].map(lambda x: float(x[:-1]))\n",
    "\n",
    "# see what it looks like\n",
    "print(weather)\n",
    "\n",
    "# plot it \n",
    "weather.plot(x=0, y=2, xlabel='Hour', ylabel='T (°C)', legend=False, title='Hourly weather forecast for Bologna')"
   ]
  },
  {
   "cell_type": "markdown",
   "id": "3280cb7a-e455-42e8-9c38-9883b8004e1d",
   "metadata": {},
   "source": [
    "## Example 3: getting weekly weather forecasts"
   ]
  },
  {
   "cell_type": "code",
   "execution_count": 13,
   "id": "42a0be3f-9f95-4d3d-853e-80616e4159b5",
   "metadata": {},
   "outputs": [
    {
     "name": "stdout",
     "output_type": "stream",
     "text": [
      "      Date  T(min)  T(max)\n",
      "0    Ven 7      -1       6\n",
      "1    Sab 8      -3       5\n",
      "2    Dom 9      -2       5\n",
      "3   Lun 10      -2       6\n",
      "4   Mar 11      -3       6\n",
      "5   Mer 12       0       7\n",
      "6   Gio 13      -2       6\n",
      "7   Ven 14      -3       5\n",
      "8   Sab 15      -1       6\n",
      "9   Dom 16      -1       7\n",
      "10  Lun 17       0       6\n",
      "11  Mar 18       0       5\n",
      "12  Mer 19      -1       6\n",
      "13  Gio 20      -1       6\n",
      "14  Ven 21      -1       6\n",
      "15  Sab 22      -1       6\n"
     ]
    },
    {
     "data": {
      "text/plain": [
       "<AxesSubplot:title={'center':'Weekly weather forecast for Bologna'}, xlabel='Date', ylabel='T (°C)'>"
      ]
     },
     "execution_count": 13,
     "metadata": {},
     "output_type": "execute_result"
    },
    {
     "data": {
      "image/png": "[encoded data removed]",
      "text/plain": [
       "<Figure size 432x288 with 1 Axes>"
      ]
     },
     "metadata": {
      "needs_background": "light"
     },
     "output_type": "display_data"
    }
   ],
   "source": [
    "WEATHER_URL = 'https://www.ilmeteo.it/meteo/Bologna'\n",
    "r = requests.get(WEATHER_URL)\n",
    "soup = BeautifulSoup(r.content)\n",
    "\n",
    "# find all the tags like <ul id='daytabs' ...>\n",
    "infos = soup.find_all('ul', id='daytabs')\n",
    "\n",
    "# find all the HTML lists (tag 'li')\n",
    "entries = infos[0].find_all('li')\n",
    "\n",
    "# looking at the entries, we notice that we must remove those that do not start with a weekday\n",
    "days = ['Lun', 'Mar', 'Mer', 'Gio', 'Ven', 'Sab', 'Dom']\n",
    "data = list()\n",
    "for entry in entries:\n",
    "    text = list(entry.text.split())\n",
    "    if text[0] in days:\n",
    "        data.append(text)\n",
    "\n",
    "# the list now looks almost ok, but in order to plot it we must:\n",
    "# 1) join the first two fields: 'Sab' and '7' should become 'Sab 7' \n",
    "# 2) separate the third field: 19°35° should become '19' and '35'\n",
    "for row in data:\n",
    "    one, two, three = row\n",
    "    tmin, tmax, _ = three.split('°')\n",
    "    row[0] = one + ' ' + two\n",
    "    row[1] = int(tmin)\n",
    "    row[2] = int(tmax)\n",
    "\n",
    "# good, we can now create a Pandas data frame from that list\n",
    "df = pd.DataFrame(data, columns = ['Date', 'T(min)', 'T(max)'])\n",
    "print(df)\n",
    "\n",
    "# and finally plot it\n",
    "df.plot(x='Date', y=['T(min)','T(max)'], rot=45, ylabel='T (°C)', title='Weekly weather forecast for Bologna')"
   ]
  },
  {
   "cell_type": "code",
   "execution_count": null,
   "id": "0e8a2d13-264c-4d94-9d1f-f66021678cdf",
   "metadata": {},
   "outputs": [],
   "source": []
  }
 ],
 "metadata": {
  "kernelspec": {
   "display_name": "Python 3 (ipykernel)",
   "language": "python",
   "name": "python3"
  },
  "language_info": {
   "codemirror_mode": {
    "name": "ipython",
    "version": 3
   },
   "file_extension": ".py",
   "mimetype": "text/x-python",
   "name": "python",
   "nbconvert_exporter": "python",
   "pygments_lexer": "ipython3",
   "version": "3.9.7"
  }
 },
 "nbformat": 4,
 "nbformat_minor": 5
}
