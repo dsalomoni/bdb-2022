{
 "cells": [
  {
   "cell_type": "markdown",
   "metadata": {},
   "source": [
    "# Biomedical Data Bases, 2021-2022\n",
    "### Relational databases\n",
    "These are notes by prof. Davide Salomoni (d.salomoni@unibo.it) for the Biomedical Data Base course at the University of Bologna, academic year 2020-2021."
   ]
  },
  {
   "cell_type": "markdown",
   "metadata": {},
   "source": [
    "## SQLite\n",
    "### Import sqlite3 and connect to the database"
   ]
  },
  {
   "cell_type": "code",
   "execution_count": null,
   "metadata": {},
   "outputs": [],
   "source": [
    "import sqlite3 as sql\n",
    "\n",
    "# create a connection to the DB\n",
    "# if the DB does not exist, it will be created\n",
    "# verify that after this statement you now have the DB file on your system\n",
    "conn = sql.connect('sqlite_demo.db')"
   ]
  },
  {
   "cell_type": "code",
   "execution_count": null,
   "metadata": {},
   "outputs": [],
   "source": [
    "# get a cursor to the connection\n",
    "cur = conn.cursor()"
   ]
  },
  {
   "cell_type": "markdown",
   "metadata": {},
   "source": [
    "### Create some tables and perform basic operations"
   ]
  },
  {
   "cell_type": "code",
   "execution_count": null,
   "metadata": {},
   "outputs": [],
   "source": [
    "# create two tables\n",
    "cur.execute('''DROP TABLE IF EXISTS Students;''')\n",
    "cur.execute('''CREATE TABLE Students(\n",
    "                id INTEGER PRIMARY KEY,\n",
    "                first_name TEXT NOT NULL,\n",
    "                last_name TEXT NOT NULL,\n",
    "                age INTEGER,\n",
    "                email TEXT NOT NULL UNIQUE);\n",
    "            ''')\n",
    "cur.execute('''DROP TABLE IF EXISTS Student_courses;''')\n",
    "cur.execute('''CREATE TABLE Student_courses(\n",
    "                id INTEGER PRIMARY KEY,\n",
    "                student_id INTEGER NOT NULL,\n",
    "                course_id INTEGER,\n",
    "                course_name TEXT NOT NULL,\n",
    "                FOREIGN KEY(student_id) REFERENCES Student(id));\n",
    "            ''')\n",
    "\n",
    "# commit the changes to the DB\n",
    "conn.commit()"
   ]
  },
  {
   "cell_type": "code",
   "execution_count": null,
   "metadata": {},
   "outputs": [],
   "source": [
    "# insert a row\n",
    "cur.execute('''INSERT INTO Students\n",
    "                VALUES (1, 'John', 'Doe', 21, 'john@doe.com');''')"
   ]
  },
  {
   "cell_type": "code",
   "execution_count": null,
   "metadata": {},
   "outputs": [],
   "source": [
    "# insert the SAME row again. It should fail because id is a primary key.\n",
    "cur.execute('''INSERT INTO Students\n",
    "                VALUES (1, 'John', 'Doe', 21, 'john@doe.com');''')"
   ]
  },
  {
   "cell_type": "code",
   "execution_count": null,
   "metadata": {},
   "outputs": [],
   "source": [
    "# delete a record\n",
    "cur.execute('''DELETE FROM Students WHERE id=1;''')"
   ]
  },
  {
   "cell_type": "code",
   "execution_count": null,
   "metadata": {},
   "outputs": [],
   "source": [
    "# create a tuple with the students\n",
    "the_students = (\n",
    "    (1, 'John', 'Doe', 21, 'john@doe.com'),\n",
    "    (2, 'Alice', 'Doe', 22, 'alice@doe.com'),\n",
    "    (3, 'Rose', 'Short', 21, 'rose@short.com')\n",
    ")\n",
    "\n",
    "# and a tuple with the courses they follow\n",
    "the_courses = (\n",
    "    (1, 3, 102, 'BDB'),\n",
    "    (2, 1, 110, 'BDP1'),\n",
    "    (3, 3, 110, 'BDP1')\n",
    ")\n",
    "\n",
    "# now use executemany to insert the values into the tables\n",
    "cur.executemany('''INSERT INTO Students VALUES(?, ?, ?, ?, ?)''', the_students)\n",
    "cur.executemany('''INSERT INTO Student_courses VALUES(?, ?, ?, ?)''', the_courses)"
   ]
  },
  {
   "cell_type": "markdown",
   "metadata": {},
   "source": [
    "### Remember to call commit() after altering the DB\n",
    "Until you call commit() on a certain connection, the operations you have performed have *not* been written to disk. So, make sure you call commit() to end a transaction."
   ]
  },
  {
   "cell_type": "code",
   "execution_count": null,
   "metadata": {},
   "outputs": [],
   "source": [
    "conn.commit()"
   ]
  },
  {
   "cell_type": "markdown",
   "metadata": {},
   "source": [
    "### Query SQLite"
   ]
  },
  {
   "cell_type": "code",
   "execution_count": null,
   "metadata": {},
   "outputs": [],
   "source": [
    "cur.execute('SELECT * FROM Students')"
   ]
  },
  {
   "cell_type": "code",
   "execution_count": null,
   "metadata": {},
   "outputs": [],
   "source": [
    "print(cur.fetchall())"
   ]
  },
  {
   "cell_type": "code",
   "execution_count": null,
   "metadata": {},
   "outputs": [],
   "source": [
    "# note that if you call fetchall() again, you will get an empty list\n",
    "print(cur.fetchall())"
   ]
  },
  {
   "cell_type": "code",
   "execution_count": null,
   "metadata": {},
   "outputs": [],
   "source": [
    "cur.execute('SELECT * FROM Student_courses')"
   ]
  },
  {
   "cell_type": "code",
   "execution_count": null,
   "metadata": {},
   "outputs": [],
   "source": [
    "print(cur.fetchall())"
   ]
  },
  {
   "cell_type": "code",
   "execution_count": null,
   "metadata": {},
   "outputs": [],
   "source": [
    "# select records based on some condition\n",
    "cur.execute('SELECT * FROM Students WHERE id=3')\n",
    "print(cur.fetchall())"
   ]
  },
  {
   "cell_type": "markdown",
   "metadata": {},
   "source": [
    "### Closing the connection\n",
    "Remember to close a connection when you are done operating with the DB."
   ]
  },
  {
   "cell_type": "code",
   "execution_count": null,
   "metadata": {},
   "outputs": [],
   "source": [
    "conn.close()"
   ]
  },
  {
   "cell_type": "markdown",
   "metadata": {},
   "source": [
    "### Catching exceptions"
   ]
  },
  {
   "cell_type": "code",
   "execution_count": null,
   "metadata": {},
   "outputs": [],
   "source": [
    "# a better way to handle sqlite calls in python\n",
    "try:\n",
    "    conn = sql.connect('sqlite_demo.db')\n",
    "    cur = conn.cursor()\n",
    "    print(\"Connection successful\")\n",
    "    # put here all your DB processing stuff - do not forget to commit after changes to the db\n",
    "    cur.execute('SELECT * FROM Students')\n",
    "    print(cur.fetchall())\n",
    "    # closing a _cursor_ is a good idea to reclaim memory\n",
    "    cur.close()\n",
    "except sql.Error as error:\n",
    "    print(\"Error in SQLite:\", error)\n",
    "finally:\n",
    "    # whatever happens, close the connection\n",
    "    conn.close()"
   ]
  },
  {
   "cell_type": "markdown",
   "metadata": {},
   "source": [
    "## Perform data analysis with pandas\n",
    "\n",
    "First, copy the sample data set from GitHub and to put it in your bdb directory.\n",
    "\n",
    "### Import the SQLite DB into a pandas dataframe"
   ]
  },
  {
   "cell_type": "code",
   "execution_count": null,
   "metadata": {},
   "outputs": [],
   "source": [
    "import pandas as pd\n",
    "conn = sql.connect('gubbio_env_2018.sqlite')\n",
    "df = pd.read_sql_query('SELECT * FROM gubbio', conn)\n",
    "df.info()"
   ]
  },
  {
   "cell_type": "code",
   "execution_count": null,
   "metadata": {},
   "outputs": [],
   "source": [
    "df.head()"
   ]
  },
  {
   "cell_type": "markdown",
   "metadata": {},
   "source": [
    "### Using df.loc[]"
   ]
  },
  {
   "cell_type": "code",
   "execution_count": null,
   "metadata": {},
   "outputs": [],
   "source": [
    "# you can use loc to select data based on the index, like this:\n",
    "df.loc[1:2]"
   ]
  },
  {
   "cell_type": "code",
   "execution_count": null,
   "metadata": {},
   "outputs": [],
   "source": [
    "# here, however, we use loc to select data based on some condition:\n",
    "# how many NO2 entries are there with negative readings?\n",
    "print(df.loc[df.NO2<0, 'NO2'])"
   ]
  },
  {
   "cell_type": "code",
   "execution_count": null,
   "metadata": {},
   "outputs": [],
   "source": [
    "# if you omit the second argument to loc[], you will get all columns\n",
    "print(df.loc[df['NO2']<0])"
   ]
  },
  {
   "cell_type": "code",
   "execution_count": null,
   "metadata": {},
   "outputs": [],
   "source": [
    "# use loc[] to set the environmental readings to 0 if they are negative\n",
    "df.loc[df.NO2<0, 'NO2'] = 0.0\n",
    "df.loc[df.O3<0, 'O3'] = 0.0\n",
    "df.loc[df.PM10<0, 'PM10'] = 0.0\n",
    "df.loc[df.PM25<0, 'PM25'] = 0.0"
   ]
  },
  {
   "cell_type": "code",
   "execution_count": null,
   "metadata": {},
   "outputs": [],
   "source": [
    "# verify that now there are no NO2 readings < 0\n",
    "print(df.loc[df.NO2<0, 'NO2'])"
   ]
  },
  {
   "cell_type": "markdown",
   "metadata": {},
   "source": [
    "### Augmenting and plotting data"
   ]
  },
  {
   "cell_type": "code",
   "execution_count": null,
   "metadata": {},
   "outputs": [],
   "source": [
    "# an example of how the to_datetime function works,\n",
    "# applied to the year, month, day, and hour columns.\n",
    "# Note how datetime creates a series of values:\n",
    "pd.to_datetime(df[['year', 'month', 'day', 'hour']])"
   ]
  },
  {
   "cell_type": "code",
   "execution_count": null,
   "metadata": {},
   "outputs": [],
   "source": [
    "# add a 'timerep' columns of type \"datetime\"\n",
    "# combining the year, month, day, hour columns of the dataframe.\n",
    "# Then check that it was created:\n",
    "df['timerep'] = pd.to_datetime(df[['year', 'month', 'day', 'hour']])\n",
    "df.head()"
   ]
  },
  {
   "cell_type": "code",
   "execution_count": null,
   "metadata": {},
   "outputs": [],
   "source": [
    "# this is the current data frame:\n",
    "df.info()"
   ]
  },
  {
   "cell_type": "code",
   "execution_count": null,
   "metadata": {},
   "outputs": [],
   "source": [
    "# set the timerep column to be an index\n",
    "# and then look what the dataframe looks like:\n",
    "df.set_index('timerep', inplace=True)\n",
    "df.info()"
   ]
  },
  {
   "cell_type": "code",
   "execution_count": null,
   "metadata": {},
   "outputs": [],
   "source": [
    "# now plot data\n",
    "df.plot(y=['NO2'])\n",
    "df.plot(y=['O3'])"
   ]
  },
  {
   "cell_type": "markdown",
   "metadata": {},
   "source": [
    "Check out yourself how the plots for NO<sub>2</sub>, O<sub>3</sub>, PM<sub>10</sub> and PM<sub>2.5</sub> look like, using the original data set, i.e. without removing the -999 values."
   ]
  },
  {
   "cell_type": "markdown",
   "metadata": {},
   "source": [
    "### Resampling data"
   ]
  },
  {
   "cell_type": "code",
   "execution_count": null,
   "metadata": {},
   "outputs": [],
   "source": [
    "# check how resample() works, aggregating by day, then computing the mean of the resampled values for the PM25 column.\n",
    "df.resample('D').mean()[['PM25']]"
   ]
  },
  {
   "cell_type": "code",
   "execution_count": null,
   "metadata": {},
   "outputs": [],
   "source": [
    "# find all days where PM10>50. The following line does the following:\n",
    "# 1) resample by day\n",
    "# 2) take the mean\n",
    "# 3) perform a query with the condition to get only the rows where the PM10 value is > 50\n",
    "# 4) show only the PM10 column\n",
    "df.resample('D').mean().query('PM10>50')[['PM10']]"
   ]
  },
  {
   "cell_type": "code",
   "execution_count": null,
   "metadata": {},
   "outputs": [],
   "source": [
    "# find all days where PM25>24\n",
    "df.resample('D').mean().query('PM25>24')[['PM25']]"
   ]
  },
  {
   "cell_type": "code",
   "execution_count": null,
   "metadata": {},
   "outputs": [],
   "source": [
    "# you could also save the days where PM25>24 to a dictionary:\n",
    "bad_pm25 = df.resample('D').mean().query('PM25>24').to_dict()\n",
    "bad_pm25['PM25']"
   ]
  },
  {
   "cell_type": "code",
   "execution_count": null,
   "metadata": {},
   "outputs": [],
   "source": [
    "# find the yearly PM10 mean: resample by year, using the argument 'A'\n",
    "df.resample('A').mean()[['PM10']]"
   ]
  },
  {
   "cell_type": "code",
   "execution_count": null,
   "metadata": {},
   "outputs": [],
   "source": [
    "# let's get just the first entry:\n",
    "df.resample('A').mean()[['PM10']].head(1)"
   ]
  },
  {
   "cell_type": "code",
   "execution_count": null,
   "metadata": {},
   "outputs": [],
   "source": [
    "# or, you could use loc to get the same, show here for all columns\n",
    "df.resample('A').mean().loc['2018-12-31']"
   ]
  },
  {
   "cell_type": "code",
   "execution_count": null,
   "metadata": {},
   "outputs": [],
   "source": [
    "# and you could get just the PM10 value with\n",
    "df.resample('A').mean().loc['2018-12-31'].at['PM10']"
   ]
  },
  {
   "cell_type": "code",
   "execution_count": null,
   "metadata": {},
   "outputs": [],
   "source": [
    "# find the yearly PM25 mean, resampling by year\n",
    "df.resample('A').mean()[['PM25']]"
   ]
  },
  {
   "cell_type": "code",
   "execution_count": null,
   "metadata": {},
   "outputs": [],
   "source": [
    "# again, let's get just the first entry:\n",
    "df.resample('A').mean()[['PM25']].head(1)"
   ]
  },
  {
   "cell_type": "markdown",
   "metadata": {
    "tags": []
   },
   "source": [
    "### Saving to SQLite and reading the DB back"
   ]
  },
  {
   "cell_type": "code",
   "execution_count": null,
   "metadata": {},
   "outputs": [],
   "source": [
    "# close the previous connection before moving on.\n",
    "conn.close()"
   ]
  },
  {
   "cell_type": "code",
   "execution_count": null,
   "metadata": {},
   "outputs": [],
   "source": [
    "# write the data frame to a new SQLite database\n",
    "conn = sql.connect('gubbio_env_2018_custom.sqlite')\n",
    "df.to_sql('gubbio', conn, if_exists='replace')\n",
    "conn.close()"
   ]
  },
  {
   "cell_type": "code",
   "execution_count": null,
   "metadata": {},
   "outputs": [],
   "source": [
    "# read it back\n",
    "conn = sql.connect('gubbio_env_2018_custom.sqlite')\n",
    "df2 = pd.read_sql('SELECT * FROM gubbio', conn)\n",
    "conn.close()"
   ]
  },
  {
   "cell_type": "code",
   "execution_count": null,
   "metadata": {},
   "outputs": [],
   "source": [
    "# check what the data frame looks like\n",
    "df2.info(memory_usage='deep')"
   ]
  },
  {
   "cell_type": "code",
   "execution_count": null,
   "metadata": {},
   "outputs": [],
   "source": [
    "# the x-axis does not look right...\n",
    "df2.plot(y=['NO2'])"
   ]
  },
  {
   "cell_type": "code",
   "execution_count": null,
   "metadata": {},
   "outputs": [],
   "source": [
    "# write the data frame to a new SQLite database again,\n",
    "# but this time tell pandas to write an index to the DB\n",
    "conn = sql.connect('gubbio_env_2018_custom.sqlite')\n",
    "df.to_sql('gubbio', conn, if_exists='replace', index=True, index_label='timerep')\n",
    "conn.close()"
   ]
  },
  {
   "cell_type": "code",
   "execution_count": null,
   "metadata": {},
   "outputs": [],
   "source": [
    "# read it back, but this time tell pandas that there is\n",
    "# an index in the column 'timerep', of type datetime\n",
    "conn = sql.connect('gubbio_env_2018_custom.sqlite')\n",
    "df2 = pd.read_sql('SELECT * FROM gubbio', conn, index_col='timerep', parse_dates=['timerep'])\n",
    "conn.close()"
   ]
  },
  {
   "cell_type": "code",
   "execution_count": null,
   "metadata": {},
   "outputs": [],
   "source": [
    "# check what the data frame looks like now\n",
    "df2.info(memory_usage='deep')"
   ]
  },
  {
   "cell_type": "code",
   "execution_count": null,
   "metadata": {},
   "outputs": [],
   "source": [
    "# the x-axis is now correct\n",
    "df2.plot(y=['NO2'])"
   ]
  }
 ],
 "metadata": {
  "kernelspec": {
   "display_name": "Python 3 (ipykernel)",
   "language": "python",
   "name": "python3"
  },
  "language_info": {
   "codemirror_mode": {
    "name": "ipython",
    "version": 3
   },
   "file_extension": ".py",
   "mimetype": "text/x-python",
   "name": "python",
   "nbconvert_exporter": "python",
   "pygments_lexer": "ipython3",
   "version": "3.9.7"
  }
 },
 "nbformat": 4,
 "nbformat_minor": 4
}
