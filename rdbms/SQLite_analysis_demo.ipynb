{
 "cells": [
  {
   "cell_type": "markdown",
   "metadata": {},
   "source": [
    "# Biomedical Data Bases, 2021-2022\n",
    "### Relational databases\n",
    "These are notes by prof. Davide Salomoni (d.salomoni@unibo.it) for the Biomedical Data Base course at the University of Bologna, academic year 2020-2021."
   ]
  },
  {
   "cell_type": "markdown",
   "metadata": {},
   "source": [
    "## SQLite\n",
    "### Import sqlite3 and connect to the database"
   ]
  },
  {
   "cell_type": "code",
   "execution_count": 1,
   "metadata": {},
   "outputs": [],
   "source": [
    "import sqlite3 as sql\n",
    "\n",
    "# create a connection to the DB\n",
    "# if the DB does not exist, it will be created\n",
    "# verify that after this statement you now have the DB file on your system\n",
    "conn = sql.connect('sqlite_demo.db')"
   ]
  },
  {
   "cell_type": "code",
   "execution_count": 2,
   "metadata": {},
   "outputs": [],
   "source": [
    "# get a cursor to the connection\n",
    "cur = conn.cursor()"
   ]
  },
  {
   "cell_type": "markdown",
   "metadata": {},
   "source": [
    "### Create some tables and perform basic operations"
   ]
  },
  {
   "cell_type": "code",
   "execution_count": 3,
   "metadata": {},
   "outputs": [],
   "source": [
    "# create two tables\n",
    "cur.execute('''DROP TABLE IF EXISTS Students;''')\n",
    "cur.execute('''CREATE TABLE Students(\n",
    "                id INTEGER PRIMARY KEY,\n",
    "                first_name TEXT NOT NULL,\n",
    "                last_name TEXT NOT NULL,\n",
    "                age INTEGER,\n",
    "                email TEXT NOT NULL UNIQUE);\n",
    "            ''')\n",
    "cur.execute('''DROP TABLE IF EXISTS Student_courses;''')\n",
    "cur.execute('''CREATE TABLE Student_courses(\n",
    "                id INTEGER PRIMARY KEY,\n",
    "                student_id INTEGER NOT NULL,\n",
    "                course_id INTEGER,\n",
    "                course_name TEXT NOT NULL,\n",
    "                FOREIGN KEY(student_id) REFERENCES Student(id));\n",
    "            ''')\n",
    "\n",
    "# commit the changes to the DB\n",
    "conn.commit()"
   ]
  },
  {
   "cell_type": "code",
   "execution_count": 4,
   "metadata": {},
   "outputs": [
    {
     "data": {
      "text/plain": [
       "<sqlite3.Cursor at 0x7f34402b5490>"
      ]
     },
     "execution_count": 4,
     "metadata": {},
     "output_type": "execute_result"
    }
   ],
   "source": [
    "# insert a row\n",
    "cur.execute('''INSERT INTO Students\n",
    "                VALUES (1, 'John', 'Doe', 21, 'john@doe.com');''')"
   ]
  },
  {
   "cell_type": "code",
   "execution_count": 5,
   "metadata": {},
   "outputs": [
    {
     "ename": "IntegrityError",
     "evalue": "UNIQUE constraint failed: Students.id",
     "output_type": "error",
     "traceback": [
      "\u001b[0;31m---------------------------------------------------------------------------\u001b[0m",
      "\u001b[0;31mIntegrityError\u001b[0m                            Traceback (most recent call last)",
      "\u001b[0;32m/tmp/ipykernel_128/3884093861.py\u001b[0m in \u001b[0;36m<module>\u001b[0;34m\u001b[0m\n\u001b[1;32m      1\u001b[0m \u001b[0;31m# insert the _same_ row again. It should fail because id is a primary key.\u001b[0m\u001b[0;34m\u001b[0m\u001b[0;34m\u001b[0m\u001b[0m\n\u001b[0;32m----> 2\u001b[0;31m cur.execute('''INSERT INTO Students\n\u001b[0m\u001b[1;32m      3\u001b[0m                 VALUES (1, 'John', 'Doe', 21, 'john@doe.com');''')\n",
      "\u001b[0;31mIntegrityError\u001b[0m: UNIQUE constraint failed: Students.id"
     ]
    }
   ],
   "source": [
    "# insert the _same_ row again. It should fail because id is a primary key.\n",
    "cur.execute('''INSERT INTO Students\n",
    "                VALUES (1, 'John', 'Doe', 21, 'john@doe.com');''')"
   ]
  },
  {
   "cell_type": "code",
   "execution_count": 6,
   "metadata": {},
   "outputs": [
    {
     "data": {
      "text/plain": [
       "<sqlite3.Cursor at 0x7f34402b5490>"
      ]
     },
     "execution_count": 6,
     "metadata": {},
     "output_type": "execute_result"
    }
   ],
   "source": [
    "# delete a record\n",
    "cur.execute('''DELETE FROM Students WHERE id=1;''')"
   ]
  },
  {
   "cell_type": "code",
   "execution_count": 7,
   "metadata": {},
   "outputs": [
    {
     "data": {
      "text/plain": [
       "<sqlite3.Cursor at 0x7f34402b5490>"
      ]
     },
     "execution_count": 7,
     "metadata": {},
     "output_type": "execute_result"
    }
   ],
   "source": [
    "# create a tuple with the students\n",
    "the_students = (\n",
    "    (1, 'John', 'Doe', 21, 'john@doe.com'),\n",
    "    (2, 'Alice', 'Doe', 22, 'alice@doe.com'),\n",
    "    (3, 'Rose', 'Short', 21, 'rose@short.com')\n",
    ")\n",
    "\n",
    "# and a tuple with the courses they follow\n",
    "the_courses = (\n",
    "    (1, 3, 102, 'BDB'),\n",
    "    (2, 1, 110, 'BDP1'),\n",
    "    (3, 3, 110, 'BDP1')\n",
    ")\n",
    "\n",
    "# now use executemany to insert the values into the tables\n",
    "cur.executemany('''INSERT INTO Students VALUES(?, ?, ?, ?, ?)''', the_students)\n",
    "cur.executemany('''INSERT INTO Student_courses VALUES(?, ?, ?, ?)''', the_courses)"
   ]
  },
  {
   "cell_type": "markdown",
   "metadata": {},
   "source": [
    "### Remember to call commit() after altering the DB\n",
    "Until you call commit() on a certain connection, the operations you have performed are *not* written to disk. So, make sure you call commit() to end a transaction."
   ]
  },
  {
   "cell_type": "code",
   "execution_count": 8,
   "metadata": {},
   "outputs": [],
   "source": [
    "conn.commit()"
   ]
  },
  {
   "cell_type": "markdown",
   "metadata": {},
   "source": [
    "### Query SQLite"
   ]
  },
  {
   "cell_type": "code",
   "execution_count": 9,
   "metadata": {},
   "outputs": [
    {
     "data": {
      "text/plain": [
       "<sqlite3.Cursor at 0x7f34402b5490>"
      ]
     },
     "execution_count": 9,
     "metadata": {},
     "output_type": "execute_result"
    }
   ],
   "source": [
    "cur.execute('SELECT * FROM Students')"
   ]
  },
  {
   "cell_type": "code",
   "execution_count": 10,
   "metadata": {},
   "outputs": [
    {
     "name": "stdout",
     "output_type": "stream",
     "text": [
      "[(1, 'John', 'Doe', 21, 'john@doe.com'), (2, 'Alice', 'Doe', 22, 'alice@doe.com'), (3, 'Rose', 'Short', 21, 'rose@short.com')]\n"
     ]
    }
   ],
   "source": [
    "print(cur.fetchall())"
   ]
  },
  {
   "cell_type": "code",
   "execution_count": 11,
   "metadata": {},
   "outputs": [
    {
     "data": {
      "text/plain": [
       "<sqlite3.Cursor at 0x7f34402b5490>"
      ]
     },
     "execution_count": 11,
     "metadata": {},
     "output_type": "execute_result"
    }
   ],
   "source": [
    "cur.execute('SELECT * FROM Student_courses')"
   ]
  },
  {
   "cell_type": "code",
   "execution_count": 12,
   "metadata": {},
   "outputs": [
    {
     "name": "stdout",
     "output_type": "stream",
     "text": [
      "[(1, 3, 102, 'BDB'), (2, 1, 110, 'BDP1'), (3, 3, 110, 'BDP1')]\n"
     ]
    }
   ],
   "source": [
    "print(cur.fetchall())"
   ]
  },
  {
   "cell_type": "code",
   "execution_count": 13,
   "metadata": {},
   "outputs": [
    {
     "name": "stdout",
     "output_type": "stream",
     "text": [
      "[(3, 'Rose', 'Short', 21, 'rose@short.com')]\n"
     ]
    }
   ],
   "source": [
    "# select records based on some condition\n",
    "cur.execute('SELECT * FROM Students WHERE id=3')\n",
    "print(cur.fetchall())"
   ]
  },
  {
   "cell_type": "markdown",
   "metadata": {},
   "source": [
    "### Closing the connection\n",
    "Remember to close a connection when you are done operating with the DB."
   ]
  },
  {
   "cell_type": "code",
   "execution_count": 14,
   "metadata": {},
   "outputs": [],
   "source": [
    "conn.close()"
   ]
  },
  {
   "cell_type": "markdown",
   "metadata": {},
   "source": [
    "### Catching exceptions"
   ]
  },
  {
   "cell_type": "code",
   "execution_count": 15,
   "metadata": {},
   "outputs": [
    {
     "name": "stdout",
     "output_type": "stream",
     "text": [
      "Connection successful\n",
      "[(1, 'John', 'Doe', 21, 'john@doe.com'), (2, 'Alice', 'Doe', 22, 'alice@doe.com'), (3, 'Rose', 'Short', 21, 'rose@short.com')]\n"
     ]
    }
   ],
   "source": [
    "# a better way to handle sqlite calls in python\n",
    "try:\n",
    "    conn = sql.connect('sqlite_demo.db')\n",
    "    cur = conn.cursor()\n",
    "    print(\"Connection successful\")\n",
    "    # put here all your DB processing stuff - do not forget to commit after changes to the db\n",
    "    cur.execute('SELECT * FROM Students')\n",
    "    print(cur.fetchall())\n",
    "    # closing a _cursor_ is a good idea to reclaim memory\n",
    "    cur.close()\n",
    "except sql.Error as error:\n",
    "    print(\"Error in SQLite:\", error)\n",
    "finally:\n",
    "    # whatever happens, close the connection\n",
    "    conn.close()"
   ]
  },
  {
   "cell_type": "markdown",
   "metadata": {},
   "source": [
    "## Perform data analysis with pandas\n",
    "\n",
    "First, copy the sample data set from GitHub and to put it in your bdb directory.\n",
    "\n",
    "### Import the SQLite DB into a pandas dataframe"
   ]
  },
  {
   "cell_type": "code",
   "execution_count": 16,
   "metadata": {},
   "outputs": [
    {
     "name": "stdout",
     "output_type": "stream",
     "text": [
      "<class 'pandas.core.frame.DataFrame'>\n",
      "RangeIndex: 8760 entries, 0 to 8759\n",
      "Data columns (total 8 columns):\n",
      " #   Column  Non-Null Count  Dtype  \n",
      "---  ------  --------------  -----  \n",
      " 0   year    8760 non-null   int64  \n",
      " 1   month   8760 non-null   int64  \n",
      " 2   day     8760 non-null   int64  \n",
      " 3   hour    8760 non-null   int64  \n",
      " 4   NO2     8760 non-null   float64\n",
      " 5   O3      8760 non-null   float64\n",
      " 6   PM10    8760 non-null   float64\n",
      " 7   PM25    8760 non-null   float64\n",
      "dtypes: float64(4), int64(4)\n",
      "memory usage: 547.6 KB\n"
     ]
    }
   ],
   "source": [
    "import pandas as pd\n",
    "conn = sql.connect('gubbio_env_2018.sqlite')\n",
    "df = pd.read_sql_query('SELECT * FROM gubbio', conn)\n",
    "df.info(memory_usage=\"deep\")"
   ]
  },
  {
   "cell_type": "code",
   "execution_count": 17,
   "metadata": {},
   "outputs": [
    {
     "data": {
      "text/html": [
       "<div>\n",
       "<style scoped>\n",
       "    .dataframe tbody tr th:only-of-type {\n",
       "        vertical-align: middle;\n",
       "    }\n",
       "\n",
       "    .dataframe tbody tr th {\n",
       "        vertical-align: top;\n",
       "    }\n",
       "\n",
       "    .dataframe thead th {\n",
       "        text-align: right;\n",
       "    }\n",
       "</style>\n",
       "<table border=\"1\" class=\"dataframe\">\n",
       "  <thead>\n",
       "    <tr style=\"text-align: right;\">\n",
       "      <th></th>\n",
       "      <th>year</th>\n",
       "      <th>month</th>\n",
       "      <th>day</th>\n",
       "      <th>hour</th>\n",
       "      <th>NO2</th>\n",
       "      <th>O3</th>\n",
       "      <th>PM10</th>\n",
       "      <th>PM25</th>\n",
       "    </tr>\n",
       "  </thead>\n",
       "  <tbody>\n",
       "    <tr>\n",
       "      <th>0</th>\n",
       "      <td>2018</td>\n",
       "      <td>1</td>\n",
       "      <td>1</td>\n",
       "      <td>1</td>\n",
       "      <td>20.595107</td>\n",
       "      <td>12.170429</td>\n",
       "      <td>23.5</td>\n",
       "      <td>11.74986</td>\n",
       "    </tr>\n",
       "    <tr>\n",
       "      <th>1</th>\n",
       "      <td>2018</td>\n",
       "      <td>1</td>\n",
       "      <td>1</td>\n",
       "      <td>2</td>\n",
       "      <td>-999.000000</td>\n",
       "      <td>11.423779</td>\n",
       "      <td>23.5</td>\n",
       "      <td>11.74986</td>\n",
       "    </tr>\n",
       "    <tr>\n",
       "      <th>2</th>\n",
       "      <td>2018</td>\n",
       "      <td>1</td>\n",
       "      <td>1</td>\n",
       "      <td>3</td>\n",
       "      <td>24.490770</td>\n",
       "      <td>8.431690</td>\n",
       "      <td>23.5</td>\n",
       "      <td>11.74986</td>\n",
       "    </tr>\n",
       "    <tr>\n",
       "      <th>3</th>\n",
       "      <td>2018</td>\n",
       "      <td>1</td>\n",
       "      <td>1</td>\n",
       "      <td>4</td>\n",
       "      <td>20.789195</td>\n",
       "      <td>10.564102</td>\n",
       "      <td>23.5</td>\n",
       "      <td>11.74986</td>\n",
       "    </tr>\n",
       "    <tr>\n",
       "      <th>4</th>\n",
       "      <td>2018</td>\n",
       "      <td>1</td>\n",
       "      <td>1</td>\n",
       "      <td>5</td>\n",
       "      <td>15.802340</td>\n",
       "      <td>16.109878</td>\n",
       "      <td>23.5</td>\n",
       "      <td>11.74986</td>\n",
       "    </tr>\n",
       "  </tbody>\n",
       "</table>\n",
       "</div>"
      ],
      "text/plain": [
       "   year  month  day  hour         NO2         O3  PM10      PM25\n",
       "0  2018      1    1     1   20.595107  12.170429  23.5  11.74986\n",
       "1  2018      1    1     2 -999.000000  11.423779  23.5  11.74986\n",
       "2  2018      1    1     3   24.490770   8.431690  23.5  11.74986\n",
       "3  2018      1    1     4   20.789195  10.564102  23.5  11.74986\n",
       "4  2018      1    1     5   15.802340  16.109878  23.5  11.74986"
      ]
     },
     "execution_count": 17,
     "metadata": {},
     "output_type": "execute_result"
    }
   ],
   "source": [
    "df.head()"
   ]
  },
  {
   "cell_type": "markdown",
   "metadata": {},
   "source": [
    "### Using df.loc[]"
   ]
  },
  {
   "cell_type": "code",
   "execution_count": 18,
   "metadata": {},
   "outputs": [
    {
     "name": "stdout",
     "output_type": "stream",
     "text": [
      "1      -999.0\n",
      "25     -999.0\n",
      "49     -999.0\n",
      "73     -999.0\n",
      "97     -999.0\n",
      "        ...  \n",
      "8646   -999.0\n",
      "8671   -999.0\n",
      "8696   -999.0\n",
      "8721   -999.0\n",
      "8746   -999.0\n",
      "Name: NO2, Length: 626, dtype: float64\n"
     ]
    }
   ],
   "source": [
    "# how many NO2 entries are there with negative readings?\n",
    "print(df.loc[df.NO2<0, 'NO2'])"
   ]
  },
  {
   "cell_type": "code",
   "execution_count": 19,
   "metadata": {},
   "outputs": [
    {
     "name": "stdout",
     "output_type": "stream",
     "text": [
      "      year  month  day  hour    NO2         O3       PM10       PM25\n",
      "1     2018      1    1     2 -999.0  11.423779  23.500000  11.749860\n",
      "25    2018      1    2     2 -999.0  24.760084  17.100000  11.167830\n",
      "49    2018      1    3     2 -999.0   3.832930  28.000000  18.746210\n",
      "73    2018      1    4     2 -999.0  10.214067  26.200001  17.284430\n",
      "97    2018      1    5     2 -999.0  16.688705  35.500000  19.055281\n",
      "...    ...    ...  ...   ...    ...        ...        ...        ...\n",
      "8646  2018     12   27     7 -999.0   2.099532  51.299992  34.871761\n",
      "8671  2018     12   28     8 -999.0   1.835805  68.300003  44.026741\n",
      "8696  2018     12   29     9 -999.0  16.994901  51.799992  34.696430\n",
      "8721  2018     12   30    10 -999.0   3.545913  50.900002  36.281281\n",
      "8746  2018     12   31    11 -999.0   8.005961  42.200001  21.329750\n",
      "\n",
      "[626 rows x 8 columns]\n"
     ]
    }
   ],
   "source": [
    "# if you omit the second argument to loc[], you will get all columns\n",
    "print(df.loc[df['NO2']<0])"
   ]
  },
  {
   "cell_type": "code",
   "execution_count": 20,
   "metadata": {},
   "outputs": [],
   "source": [
    "# use loc[] to set the environmental readings to 0 if they are negative\n",
    "df.loc[df.NO2<0, 'NO2'] = 0.0\n",
    "df.loc[df.O3<0, 'O3'] = 0.0\n",
    "df.loc[df.PM10<0, 'PM10'] = 0.0\n",
    "df.loc[df.PM25<0, 'PM25'] = 0.0"
   ]
  },
  {
   "cell_type": "code",
   "execution_count": 21,
   "metadata": {},
   "outputs": [
    {
     "name": "stdout",
     "output_type": "stream",
     "text": [
      "Series([], Name: NO2, dtype: float64)\n"
     ]
    }
   ],
   "source": [
    "# verify that now there are no NO2 readings < 0\n",
    "print(df.loc[df.NO2<0, 'NO2'])"
   ]
  },
  {
   "cell_type": "markdown",
   "metadata": {},
   "source": [
    "### Augmenting and plotting data"
   ]
  },
  {
   "cell_type": "code",
   "execution_count": 22,
   "metadata": {},
   "outputs": [
    {
     "data": {
      "text/plain": [
       "0      2018-01-01 01:00:00\n",
       "1      2018-01-01 02:00:00\n",
       "2      2018-01-01 03:00:00\n",
       "3      2018-01-01 04:00:00\n",
       "4      2018-01-01 05:00:00\n",
       "               ...        \n",
       "8755   2018-12-31 20:00:00\n",
       "8756   2018-12-31 21:00:00\n",
       "8757   2018-12-31 22:00:00\n",
       "8758   2018-12-31 23:00:00\n",
       "8759   2019-01-01 00:00:00\n",
       "Length: 8760, dtype: datetime64[ns]"
      ]
     },
     "execution_count": 22,
     "metadata": {},
     "output_type": "execute_result"
    }
   ],
   "source": [
    "# an example of how the to_datetime function works,\n",
    "# applied to the year, month, day, and hour columns.\n",
    "# Note how datetime creates a series of values:\n",
    "pd.to_datetime(df[['year', 'month', 'day', 'hour']])"
   ]
  },
  {
   "cell_type": "code",
   "execution_count": 23,
   "metadata": {},
   "outputs": [
    {
     "data": {
      "text/html": [
       "<div>\n",
       "<style scoped>\n",
       "    .dataframe tbody tr th:only-of-type {\n",
       "        vertical-align: middle;\n",
       "    }\n",
       "\n",
       "    .dataframe tbody tr th {\n",
       "        vertical-align: top;\n",
       "    }\n",
       "\n",
       "    .dataframe thead th {\n",
       "        text-align: right;\n",
       "    }\n",
       "</style>\n",
       "<table border=\"1\" class=\"dataframe\">\n",
       "  <thead>\n",
       "    <tr style=\"text-align: right;\">\n",
       "      <th></th>\n",
       "      <th>year</th>\n",
       "      <th>month</th>\n",
       "      <th>day</th>\n",
       "      <th>hour</th>\n",
       "      <th>NO2</th>\n",
       "      <th>O3</th>\n",
       "      <th>PM10</th>\n",
       "      <th>PM25</th>\n",
       "      <th>timerep</th>\n",
       "    </tr>\n",
       "  </thead>\n",
       "  <tbody>\n",
       "    <tr>\n",
       "      <th>0</th>\n",
       "      <td>2018</td>\n",
       "      <td>1</td>\n",
       "      <td>1</td>\n",
       "      <td>1</td>\n",
       "      <td>20.595107</td>\n",
       "      <td>12.170429</td>\n",
       "      <td>23.5</td>\n",
       "      <td>11.74986</td>\n",
       "      <td>2018-01-01 01:00:00</td>\n",
       "    </tr>\n",
       "    <tr>\n",
       "      <th>1</th>\n",
       "      <td>2018</td>\n",
       "      <td>1</td>\n",
       "      <td>1</td>\n",
       "      <td>2</td>\n",
       "      <td>0.000000</td>\n",
       "      <td>11.423779</td>\n",
       "      <td>23.5</td>\n",
       "      <td>11.74986</td>\n",
       "      <td>2018-01-01 02:00:00</td>\n",
       "    </tr>\n",
       "    <tr>\n",
       "      <th>2</th>\n",
       "      <td>2018</td>\n",
       "      <td>1</td>\n",
       "      <td>1</td>\n",
       "      <td>3</td>\n",
       "      <td>24.490770</td>\n",
       "      <td>8.431690</td>\n",
       "      <td>23.5</td>\n",
       "      <td>11.74986</td>\n",
       "      <td>2018-01-01 03:00:00</td>\n",
       "    </tr>\n",
       "    <tr>\n",
       "      <th>3</th>\n",
       "      <td>2018</td>\n",
       "      <td>1</td>\n",
       "      <td>1</td>\n",
       "      <td>4</td>\n",
       "      <td>20.789195</td>\n",
       "      <td>10.564102</td>\n",
       "      <td>23.5</td>\n",
       "      <td>11.74986</td>\n",
       "      <td>2018-01-01 04:00:00</td>\n",
       "    </tr>\n",
       "    <tr>\n",
       "      <th>4</th>\n",
       "      <td>2018</td>\n",
       "      <td>1</td>\n",
       "      <td>1</td>\n",
       "      <td>5</td>\n",
       "      <td>15.802340</td>\n",
       "      <td>16.109878</td>\n",
       "      <td>23.5</td>\n",
       "      <td>11.74986</td>\n",
       "      <td>2018-01-01 05:00:00</td>\n",
       "    </tr>\n",
       "  </tbody>\n",
       "</table>\n",
       "</div>"
      ],
      "text/plain": [
       "   year  month  day  hour        NO2         O3  PM10      PM25  \\\n",
       "0  2018      1    1     1  20.595107  12.170429  23.5  11.74986   \n",
       "1  2018      1    1     2   0.000000  11.423779  23.5  11.74986   \n",
       "2  2018      1    1     3  24.490770   8.431690  23.5  11.74986   \n",
       "3  2018      1    1     4  20.789195  10.564102  23.5  11.74986   \n",
       "4  2018      1    1     5  15.802340  16.109878  23.5  11.74986   \n",
       "\n",
       "              timerep  \n",
       "0 2018-01-01 01:00:00  \n",
       "1 2018-01-01 02:00:00  \n",
       "2 2018-01-01 03:00:00  \n",
       "3 2018-01-01 04:00:00  \n",
       "4 2018-01-01 05:00:00  "
      ]
     },
     "execution_count": 23,
     "metadata": {},
     "output_type": "execute_result"
    }
   ],
   "source": [
    "# add a 'timerep' columns of type \"datetime\"\n",
    "# combining the year, month, day, hour columns of the dataframe.\n",
    "# Then check that it was created:\n",
    "df['timerep'] = pd.to_datetime(df[['year', 'month', 'day', 'hour']])\n",
    "df.head()"
   ]
  },
  {
   "cell_type": "code",
   "execution_count": 24,
   "metadata": {},
   "outputs": [
    {
     "name": "stdout",
     "output_type": "stream",
     "text": [
      "<class 'pandas.core.frame.DataFrame'>\n",
      "RangeIndex: 8760 entries, 0 to 8759\n",
      "Data columns (total 9 columns):\n",
      " #   Column   Non-Null Count  Dtype         \n",
      "---  ------   --------------  -----         \n",
      " 0   year     8760 non-null   int64         \n",
      " 1   month    8760 non-null   int64         \n",
      " 2   day      8760 non-null   int64         \n",
      " 3   hour     8760 non-null   int64         \n",
      " 4   NO2      8760 non-null   float64       \n",
      " 5   O3       8760 non-null   float64       \n",
      " 6   PM10     8760 non-null   float64       \n",
      " 7   PM25     8760 non-null   float64       \n",
      " 8   timerep  8760 non-null   datetime64[ns]\n",
      "dtypes: datetime64[ns](1), float64(4), int64(4)\n",
      "memory usage: 616.1 KB\n"
     ]
    }
   ],
   "source": [
    "# this is the current data frame:\n",
    "df.info()"
   ]
  },
  {
   "cell_type": "code",
   "execution_count": 25,
   "metadata": {},
   "outputs": [
    {
     "name": "stdout",
     "output_type": "stream",
     "text": [
      "<class 'pandas.core.frame.DataFrame'>\n",
      "DatetimeIndex: 8760 entries, 2018-01-01 01:00:00 to 2019-01-01 00:00:00\n",
      "Data columns (total 8 columns):\n",
      " #   Column  Non-Null Count  Dtype  \n",
      "---  ------  --------------  -----  \n",
      " 0   year    8760 non-null   int64  \n",
      " 1   month   8760 non-null   int64  \n",
      " 2   day     8760 non-null   int64  \n",
      " 3   hour    8760 non-null   int64  \n",
      " 4   NO2     8760 non-null   float64\n",
      " 5   O3      8760 non-null   float64\n",
      " 6   PM10    8760 non-null   float64\n",
      " 7   PM25    8760 non-null   float64\n",
      "dtypes: float64(4), int64(4)\n",
      "memory usage: 615.9 KB\n"
     ]
    }
   ],
   "source": [
    "# set the timerep column to be an index\n",
    "# and then look what the dataframe looks like:\n",
    "df.set_index('timerep', inplace=True)\n",
    "df.info()"
   ]
  },
  {
   "cell_type": "code",
   "execution_count": 26,
   "metadata": {},
   "outputs": [
    {
     "data": {
      "text/plain": [
       "<AxesSubplot:xlabel='timerep'>"
      ]
     },
     "execution_count": 26,
     "metadata": {},
     "output_type": "execute_result"
    },
    {
     "data": {
      "image/png": "[encoded data removed]",
      "text/plain": [
       "<Figure size 432x288 with 1 Axes>"
      ]
     },
     "metadata": {
      "needs_background": "light"
     },
     "output_type": "display_data"
    },
    {
     "data": {
      "image/png": "[encoded data removed]",
      "text/plain": [
       "<Figure size 432x288 with 1 Axes>"
      ]
     },
     "metadata": {
      "needs_background": "light"
     },
     "output_type": "display_data"
    }
   ],
   "source": [
    "# now plot data\n",
    "df.plot(y=['NO2'])\n",
    "df.plot(y=['O3'])"
   ]
  },
  {
   "cell_type": "markdown",
   "metadata": {},
   "source": [
    "Check out yourself how the plots for NO<sub>2</sub>, O<sub>3</sub>, PM<sub>10</sub> and PM<sub>2.5</sub> look like, using the original data set, i.e. without removing the -999 values."
   ]
  },
  {
   "cell_type": "markdown",
   "metadata": {},
   "source": [
    "### Resampling data"
   ]
  },
  {
   "cell_type": "code",
   "execution_count": 27,
   "metadata": {},
   "outputs": [
    {
     "data": {
      "text/html": [
       "<div>\n",
       "<style scoped>\n",
       "    .dataframe tbody tr th:only-of-type {\n",
       "        vertical-align: middle;\n",
       "    }\n",
       "\n",
       "    .dataframe tbody tr th {\n",
       "        vertical-align: top;\n",
       "    }\n",
       "\n",
       "    .dataframe thead th {\n",
       "        text-align: right;\n",
       "    }\n",
       "</style>\n",
       "<table border=\"1\" class=\"dataframe\">\n",
       "  <thead>\n",
       "    <tr style=\"text-align: right;\">\n",
       "      <th></th>\n",
       "      <th>PM25</th>\n",
       "    </tr>\n",
       "    <tr>\n",
       "      <th>timerep</th>\n",
       "      <th></th>\n",
       "    </tr>\n",
       "  </thead>\n",
       "  <tbody>\n",
       "    <tr>\n",
       "      <th>2018-01-01</th>\n",
       "      <td>11.749860</td>\n",
       "    </tr>\n",
       "    <tr>\n",
       "      <th>2018-01-02</th>\n",
       "      <td>11.192082</td>\n",
       "    </tr>\n",
       "    <tr>\n",
       "      <th>2018-01-03</th>\n",
       "      <td>18.430444</td>\n",
       "    </tr>\n",
       "    <tr>\n",
       "      <th>2018-01-04</th>\n",
       "      <td>17.345337</td>\n",
       "    </tr>\n",
       "    <tr>\n",
       "      <th>2018-01-05</th>\n",
       "      <td>18.981495</td>\n",
       "    </tr>\n",
       "    <tr>\n",
       "      <th>...</th>\n",
       "      <td>...</td>\n",
       "    </tr>\n",
       "    <tr>\n",
       "      <th>2018-12-28</th>\n",
       "      <td>43.645284</td>\n",
       "    </tr>\n",
       "    <tr>\n",
       "      <th>2018-12-29</th>\n",
       "      <td>35.085193</td>\n",
       "    </tr>\n",
       "    <tr>\n",
       "      <th>2018-12-30</th>\n",
       "      <td>36.215245</td>\n",
       "    </tr>\n",
       "    <tr>\n",
       "      <th>2018-12-31</th>\n",
       "      <td>21.952730</td>\n",
       "    </tr>\n",
       "    <tr>\n",
       "      <th>2019-01-01</th>\n",
       "      <td>21.329750</td>\n",
       "    </tr>\n",
       "  </tbody>\n",
       "</table>\n",
       "<p>366 rows × 1 columns</p>\n",
       "</div>"
      ],
      "text/plain": [
       "                 PM25\n",
       "timerep              \n",
       "2018-01-01  11.749860\n",
       "2018-01-02  11.192082\n",
       "2018-01-03  18.430444\n",
       "2018-01-04  17.345337\n",
       "2018-01-05  18.981495\n",
       "...               ...\n",
       "2018-12-28  43.645284\n",
       "2018-12-29  35.085193\n",
       "2018-12-30  36.215245\n",
       "2018-12-31  21.952730\n",
       "2019-01-01  21.329750\n",
       "\n",
       "[366 rows x 1 columns]"
      ]
     },
     "execution_count": 27,
     "metadata": {},
     "output_type": "execute_result"
    }
   ],
   "source": [
    "# check how resample() works, aggregating by day, then computing the mean of the resampled values for the PM25 column.\n",
    "df.resample('D').mean()[['PM25']]"
   ]
  },
  {
   "cell_type": "code",
   "execution_count": 28,
   "metadata": {},
   "outputs": [
    {
     "data": {
      "text/html": [
       "<div>\n",
       "<style scoped>\n",
       "    .dataframe tbody tr th:only-of-type {\n",
       "        vertical-align: middle;\n",
       "    }\n",
       "\n",
       "    .dataframe tbody tr th {\n",
       "        vertical-align: top;\n",
       "    }\n",
       "\n",
       "    .dataframe thead th {\n",
       "        text-align: right;\n",
       "    }\n",
       "</style>\n",
       "<table border=\"1\" class=\"dataframe\">\n",
       "  <thead>\n",
       "    <tr style=\"text-align: right;\">\n",
       "      <th></th>\n",
       "      <th>PM10</th>\n",
       "    </tr>\n",
       "    <tr>\n",
       "      <th>timerep</th>\n",
       "      <th></th>\n",
       "    </tr>\n",
       "  </thead>\n",
       "  <tbody>\n",
       "    <tr>\n",
       "      <th>2018-01-08</th>\n",
       "      <td>58.075001</td>\n",
       "    </tr>\n",
       "    <tr>\n",
       "      <th>2018-01-25</th>\n",
       "      <td>60.983334</td>\n",
       "    </tr>\n",
       "    <tr>\n",
       "      <th>2018-01-26</th>\n",
       "      <td>52.020825</td>\n",
       "    </tr>\n",
       "    <tr>\n",
       "      <th>2018-04-16</th>\n",
       "      <td>52.054168</td>\n",
       "    </tr>\n",
       "    <tr>\n",
       "      <th>2018-04-17</th>\n",
       "      <td>54.837502</td>\n",
       "    </tr>\n",
       "    <tr>\n",
       "      <th>2018-11-30</th>\n",
       "      <td>55.775001</td>\n",
       "    </tr>\n",
       "    <tr>\n",
       "      <th>2018-12-02</th>\n",
       "      <td>56.258334</td>\n",
       "    </tr>\n",
       "    <tr>\n",
       "      <th>2018-12-27</th>\n",
       "      <td>50.329159</td>\n",
       "    </tr>\n",
       "    <tr>\n",
       "      <th>2018-12-28</th>\n",
       "      <td>67.591669</td>\n",
       "    </tr>\n",
       "    <tr>\n",
       "      <th>2018-12-29</th>\n",
       "      <td>52.487492</td>\n",
       "    </tr>\n",
       "    <tr>\n",
       "      <th>2018-12-30</th>\n",
       "      <td>50.937501</td>\n",
       "    </tr>\n",
       "  </tbody>\n",
       "</table>\n",
       "</div>"
      ],
      "text/plain": [
       "                 PM10\n",
       "timerep              \n",
       "2018-01-08  58.075001\n",
       "2018-01-25  60.983334\n",
       "2018-01-26  52.020825\n",
       "2018-04-16  52.054168\n",
       "2018-04-17  54.837502\n",
       "2018-11-30  55.775001\n",
       "2018-12-02  56.258334\n",
       "2018-12-27  50.329159\n",
       "2018-12-28  67.591669\n",
       "2018-12-29  52.487492\n",
       "2018-12-30  50.937501"
      ]
     },
     "execution_count": 28,
     "metadata": {},
     "output_type": "execute_result"
    }
   ],
   "source": [
    "# find all days where PM10>50. The following line does the following:\n",
    "# 1) resample by day\n",
    "# 2) take the mean\n",
    "# 3) perform a query with the condition to get only the rows where the PM10 value is > 50\n",
    "# 4) show only the PM10 column\n",
    "df.resample('D').mean().query('PM10>50')[['PM10']]"
   ]
  },
  {
   "cell_type": "code",
   "execution_count": 29,
   "metadata": {},
   "outputs": [
    {
     "data": {
      "text/html": [
       "<div>\n",
       "<style scoped>\n",
       "    .dataframe tbody tr th:only-of-type {\n",
       "        vertical-align: middle;\n",
       "    }\n",
       "\n",
       "    .dataframe tbody tr th {\n",
       "        vertical-align: top;\n",
       "    }\n",
       "\n",
       "    .dataframe thead th {\n",
       "        text-align: right;\n",
       "    }\n",
       "</style>\n",
       "<table border=\"1\" class=\"dataframe\">\n",
       "  <thead>\n",
       "    <tr style=\"text-align: right;\">\n",
       "      <th></th>\n",
       "      <th>PM25</th>\n",
       "    </tr>\n",
       "    <tr>\n",
       "      <th>timerep</th>\n",
       "      <th></th>\n",
       "    </tr>\n",
       "  </thead>\n",
       "  <tbody>\n",
       "    <tr>\n",
       "      <th>2018-01-07</th>\n",
       "      <td>31.444522</td>\n",
       "    </tr>\n",
       "    <tr>\n",
       "      <th>2018-01-08</th>\n",
       "      <td>32.166135</td>\n",
       "    </tr>\n",
       "    <tr>\n",
       "      <th>2018-01-25</th>\n",
       "      <td>32.424501</td>\n",
       "    </tr>\n",
       "    <tr>\n",
       "      <th>2018-01-26</th>\n",
       "      <td>30.520891</td>\n",
       "    </tr>\n",
       "    <tr>\n",
       "      <th>2018-01-29</th>\n",
       "      <td>29.445154</td>\n",
       "    </tr>\n",
       "    <tr>\n",
       "      <th>2018-01-30</th>\n",
       "      <td>25.206212</td>\n",
       "    </tr>\n",
       "    <tr>\n",
       "      <th>2018-02-16</th>\n",
       "      <td>24.072378</td>\n",
       "    </tr>\n",
       "    <tr>\n",
       "      <th>2018-04-16</th>\n",
       "      <td>27.824665</td>\n",
       "    </tr>\n",
       "    <tr>\n",
       "      <th>2018-04-17</th>\n",
       "      <td>27.290950</td>\n",
       "    </tr>\n",
       "    <tr>\n",
       "      <th>2018-10-29</th>\n",
       "      <td>24.909322</td>\n",
       "    </tr>\n",
       "    <tr>\n",
       "      <th>2018-11-23</th>\n",
       "      <td>32.190535</td>\n",
       "    </tr>\n",
       "    <tr>\n",
       "      <th>2018-11-30</th>\n",
       "      <td>32.365248</td>\n",
       "    </tr>\n",
       "    <tr>\n",
       "      <th>2018-12-01</th>\n",
       "      <td>28.190742</td>\n",
       "    </tr>\n",
       "    <tr>\n",
       "      <th>2018-12-02</th>\n",
       "      <td>34.407870</td>\n",
       "    </tr>\n",
       "    <tr>\n",
       "      <th>2018-12-19</th>\n",
       "      <td>26.808877</td>\n",
       "    </tr>\n",
       "    <tr>\n",
       "      <th>2018-12-27</th>\n",
       "      <td>34.304445</td>\n",
       "    </tr>\n",
       "    <tr>\n",
       "      <th>2018-12-28</th>\n",
       "      <td>43.645284</td>\n",
       "    </tr>\n",
       "    <tr>\n",
       "      <th>2018-12-29</th>\n",
       "      <td>35.085193</td>\n",
       "    </tr>\n",
       "    <tr>\n",
       "      <th>2018-12-30</th>\n",
       "      <td>36.215245</td>\n",
       "    </tr>\n",
       "  </tbody>\n",
       "</table>\n",
       "</div>"
      ],
      "text/plain": [
       "                 PM25\n",
       "timerep              \n",
       "2018-01-07  31.444522\n",
       "2018-01-08  32.166135\n",
       "2018-01-25  32.424501\n",
       "2018-01-26  30.520891\n",
       "2018-01-29  29.445154\n",
       "2018-01-30  25.206212\n",
       "2018-02-16  24.072378\n",
       "2018-04-16  27.824665\n",
       "2018-04-17  27.290950\n",
       "2018-10-29  24.909322\n",
       "2018-11-23  32.190535\n",
       "2018-11-30  32.365248\n",
       "2018-12-01  28.190742\n",
       "2018-12-02  34.407870\n",
       "2018-12-19  26.808877\n",
       "2018-12-27  34.304445\n",
       "2018-12-28  43.645284\n",
       "2018-12-29  35.085193\n",
       "2018-12-30  36.215245"
      ]
     },
     "execution_count": 29,
     "metadata": {},
     "output_type": "execute_result"
    }
   ],
   "source": [
    "# find all days where PM25>24\n",
    "df.resample('D').mean().query('PM25>24')[['PM25']]"
   ]
  },
  {
   "cell_type": "code",
   "execution_count": 30,
   "metadata": {},
   "outputs": [
    {
     "data": {
      "text/html": [
       "<div>\n",
       "<style scoped>\n",
       "    .dataframe tbody tr th:only-of-type {\n",
       "        vertical-align: middle;\n",
       "    }\n",
       "\n",
       "    .dataframe tbody tr th {\n",
       "        vertical-align: top;\n",
       "    }\n",
       "\n",
       "    .dataframe thead th {\n",
       "        text-align: right;\n",
       "    }\n",
       "</style>\n",
       "<table border=\"1\" class=\"dataframe\">\n",
       "  <thead>\n",
       "    <tr style=\"text-align: right;\">\n",
       "      <th></th>\n",
       "      <th>PM10</th>\n",
       "    </tr>\n",
       "    <tr>\n",
       "      <th>timerep</th>\n",
       "      <th></th>\n",
       "    </tr>\n",
       "  </thead>\n",
       "  <tbody>\n",
       "    <tr>\n",
       "      <th>2018-12-31</th>\n",
       "      <td>20.273660</td>\n",
       "    </tr>\n",
       "    <tr>\n",
       "      <th>2019-12-31</th>\n",
       "      <td>42.200001</td>\n",
       "    </tr>\n",
       "  </tbody>\n",
       "</table>\n",
       "</div>"
      ],
      "text/plain": [
       "                 PM10\n",
       "timerep              \n",
       "2018-12-31  20.273660\n",
       "2019-12-31  42.200001"
      ]
     },
     "execution_count": 30,
     "metadata": {},
     "output_type": "execute_result"
    }
   ],
   "source": [
    "# find the yearly PM10 mean: resample by year, using the argument 'A'\n",
    "df.resample('A').mean()[['PM10']]"
   ]
  },
  {
   "cell_type": "code",
   "execution_count": 31,
   "metadata": {},
   "outputs": [
    {
     "data": {
      "text/html": [
       "<div>\n",
       "<style scoped>\n",
       "    .dataframe tbody tr th:only-of-type {\n",
       "        vertical-align: middle;\n",
       "    }\n",
       "\n",
       "    .dataframe tbody tr th {\n",
       "        vertical-align: top;\n",
       "    }\n",
       "\n",
       "    .dataframe thead th {\n",
       "        text-align: right;\n",
       "    }\n",
       "</style>\n",
       "<table border=\"1\" class=\"dataframe\">\n",
       "  <thead>\n",
       "    <tr style=\"text-align: right;\">\n",
       "      <th></th>\n",
       "      <th>PM10</th>\n",
       "    </tr>\n",
       "    <tr>\n",
       "      <th>timerep</th>\n",
       "      <th></th>\n",
       "    </tr>\n",
       "  </thead>\n",
       "  <tbody>\n",
       "    <tr>\n",
       "      <th>2018-12-31</th>\n",
       "      <td>20.27366</td>\n",
       "    </tr>\n",
       "  </tbody>\n",
       "</table>\n",
       "</div>"
      ],
      "text/plain": [
       "                PM10\n",
       "timerep             \n",
       "2018-12-31  20.27366"
      ]
     },
     "execution_count": 31,
     "metadata": {},
     "output_type": "execute_result"
    }
   ],
   "source": [
    "# let's get just the first entry:\n",
    "df.resample('A').mean()[['PM10']].head(1)"
   ]
  },
  {
   "cell_type": "code",
   "execution_count": 32,
   "metadata": {},
   "outputs": [
    {
     "data": {
      "text/html": [
       "<div>\n",
       "<style scoped>\n",
       "    .dataframe tbody tr th:only-of-type {\n",
       "        vertical-align: middle;\n",
       "    }\n",
       "\n",
       "    .dataframe tbody tr th {\n",
       "        vertical-align: top;\n",
       "    }\n",
       "\n",
       "    .dataframe thead th {\n",
       "        text-align: right;\n",
       "    }\n",
       "</style>\n",
       "<table border=\"1\" class=\"dataframe\">\n",
       "  <thead>\n",
       "    <tr style=\"text-align: right;\">\n",
       "      <th></th>\n",
       "      <th>PM25</th>\n",
       "    </tr>\n",
       "    <tr>\n",
       "      <th>timerep</th>\n",
       "      <th></th>\n",
       "    </tr>\n",
       "  </thead>\n",
       "  <tbody>\n",
       "    <tr>\n",
       "      <th>2018-12-31</th>\n",
       "      <td>11.179227</td>\n",
       "    </tr>\n",
       "    <tr>\n",
       "      <th>2019-12-31</th>\n",
       "      <td>21.329750</td>\n",
       "    </tr>\n",
       "  </tbody>\n",
       "</table>\n",
       "</div>"
      ],
      "text/plain": [
       "                 PM25\n",
       "timerep              \n",
       "2018-12-31  11.179227\n",
       "2019-12-31  21.329750"
      ]
     },
     "execution_count": 32,
     "metadata": {},
     "output_type": "execute_result"
    }
   ],
   "source": [
    "# find the yearly PM25 mean, resampling by year\n",
    "df.resample('A').mean()[['PM25']]"
   ]
  },
  {
   "cell_type": "code",
   "execution_count": 33,
   "metadata": {},
   "outputs": [
    {
     "data": {
      "text/html": [
       "<div>\n",
       "<style scoped>\n",
       "    .dataframe tbody tr th:only-of-type {\n",
       "        vertical-align: middle;\n",
       "    }\n",
       "\n",
       "    .dataframe tbody tr th {\n",
       "        vertical-align: top;\n",
       "    }\n",
       "\n",
       "    .dataframe thead th {\n",
       "        text-align: right;\n",
       "    }\n",
       "</style>\n",
       "<table border=\"1\" class=\"dataframe\">\n",
       "  <thead>\n",
       "    <tr style=\"text-align: right;\">\n",
       "      <th></th>\n",
       "      <th>PM25</th>\n",
       "    </tr>\n",
       "    <tr>\n",
       "      <th>timerep</th>\n",
       "      <th></th>\n",
       "    </tr>\n",
       "  </thead>\n",
       "  <tbody>\n",
       "    <tr>\n",
       "      <th>2018-12-31</th>\n",
       "      <td>11.179227</td>\n",
       "    </tr>\n",
       "  </tbody>\n",
       "</table>\n",
       "</div>"
      ],
      "text/plain": [
       "                 PM25\n",
       "timerep              \n",
       "2018-12-31  11.179227"
      ]
     },
     "execution_count": 33,
     "metadata": {},
     "output_type": "execute_result"
    }
   ],
   "source": [
    "# again, let's get just the first entry:\n",
    "df.resample('A').mean()[['PM25']].head(1)"
   ]
  },
  {
   "cell_type": "markdown",
   "metadata": {
    "tags": []
   },
   "source": [
    "### Saving to SQLite and reading the DB back"
   ]
  },
  {
   "cell_type": "code",
   "execution_count": 34,
   "metadata": {},
   "outputs": [],
   "source": [
    "# close the previous connection before moving on.\n",
    "conn.close()"
   ]
  },
  {
   "cell_type": "code",
   "execution_count": 35,
   "metadata": {},
   "outputs": [],
   "source": [
    "# write the data frame to a new SQLite database\n",
    "conn = sql.connect('gubbio_env_2018_custom.sqlite')\n",
    "df.to_sql('gubbio', conn, if_exists='replace')\n",
    "conn.close()"
   ]
  },
  {
   "cell_type": "code",
   "execution_count": 36,
   "metadata": {},
   "outputs": [],
   "source": [
    "# read it back\n",
    "conn = sql.connect('gubbio_env_2018_custom.sqlite')\n",
    "df2 = pd.read_sql('SELECT * FROM gubbio', conn)\n",
    "conn.close()"
   ]
  },
  {
   "cell_type": "code",
   "execution_count": 37,
   "metadata": {},
   "outputs": [
    {
     "name": "stdout",
     "output_type": "stream",
     "text": [
      "<class 'pandas.core.frame.DataFrame'>\n",
      "RangeIndex: 8760 entries, 0 to 8759\n",
      "Data columns (total 9 columns):\n",
      " #   Column   Non-Null Count  Dtype  \n",
      "---  ------   --------------  -----  \n",
      " 0   timerep  8760 non-null   object \n",
      " 1   year     8760 non-null   int64  \n",
      " 2   month    8760 non-null   int64  \n",
      " 3   day      8760 non-null   int64  \n",
      " 4   hour     8760 non-null   int64  \n",
      " 5   NO2      8760 non-null   float64\n",
      " 6   O3       8760 non-null   float64\n",
      " 7   PM10     8760 non-null   float64\n",
      " 8   PM25     8760 non-null   float64\n",
      "dtypes: float64(4), int64(4), object(1)\n",
      "memory usage: 1.2 MB\n"
     ]
    }
   ],
   "source": [
    "# check what the data frame looks like\n",
    "df2.info(memory_usage='deep')"
   ]
  },
  {
   "cell_type": "code",
   "execution_count": 38,
   "metadata": {},
   "outputs": [
    {
     "data": {
      "text/plain": [
       "<AxesSubplot:>"
      ]
     },
     "execution_count": 38,
     "metadata": {},
     "output_type": "execute_result"
    },
    {
     "data": {
      "image/png": "[encoded data removed]",
      "text/plain": [
       "<Figure size 432x288 with 1 Axes>"
      ]
     },
     "metadata": {
      "needs_background": "light"
     },
     "output_type": "display_data"
    }
   ],
   "source": [
    "# the x-axis does not look right...\n",
    "df2.plot(y=['NO2'])"
   ]
  },
  {
   "cell_type": "code",
   "execution_count": 39,
   "metadata": {},
   "outputs": [],
   "source": [
    "# write the data frame to a new SQLite database again,\n",
    "# but this time tell pandas to write an index to the DB\n",
    "conn = sql.connect('gubbio_env_2018_custom.sqlite')\n",
    "df.to_sql('gubbio', conn, if_exists='replace', index=True, index_label='timerep')\n",
    "conn.close()"
   ]
  },
  {
   "cell_type": "code",
   "execution_count": 40,
   "metadata": {},
   "outputs": [],
   "source": [
    "# read it back, but this time tell pandas that there is\n",
    "# an index in the column 'timerep', of type datetime\n",
    "conn = sql.connect('gubbio_env_2018_custom.sqlite')\n",
    "df2 = pd.read_sql('SELECT * FROM gubbio', conn, index_col='timerep', parse_dates=['timerep'])\n",
    "conn.close()"
   ]
  },
  {
   "cell_type": "code",
   "execution_count": 41,
   "metadata": {},
   "outputs": [
    {
     "name": "stdout",
     "output_type": "stream",
     "text": [
      "<class 'pandas.core.frame.DataFrame'>\n",
      "DatetimeIndex: 8760 entries, 2018-01-01 01:00:00 to 2019-01-01 00:00:00\n",
      "Data columns (total 8 columns):\n",
      " #   Column  Non-Null Count  Dtype  \n",
      "---  ------  --------------  -----  \n",
      " 0   year    8760 non-null   int64  \n",
      " 1   month   8760 non-null   int64  \n",
      " 2   day     8760 non-null   int64  \n",
      " 3   hour    8760 non-null   int64  \n",
      " 4   NO2     8760 non-null   float64\n",
      " 5   O3      8760 non-null   float64\n",
      " 6   PM10    8760 non-null   float64\n",
      " 7   PM25    8760 non-null   float64\n",
      "dtypes: float64(4), int64(4)\n",
      "memory usage: 615.9 KB\n"
     ]
    }
   ],
   "source": [
    "# check what the data frame looks like now\n",
    "df2.info(memory_usage='deep')"
   ]
  },
  {
   "cell_type": "code",
   "execution_count": 42,
   "metadata": {},
   "outputs": [
    {
     "data": {
      "text/plain": [
       "<AxesSubplot:xlabel='timerep'>"
      ]
     },
     "execution_count": 42,
     "metadata": {},
     "output_type": "execute_result"
    },
    {
     "data": {
      "image/png": "[encoded data removed]",
      "text/plain": [
       "<Figure size 432x288 with 1 Axes>"
      ]
     },
     "metadata": {
      "needs_background": "light"
     },
     "output_type": "display_data"
    }
   ],
   "source": [
    "# the x-axis is now correct\n",
    "df2.plot(y=['NO2'])"
   ]
  },
  {
   "cell_type": "code",
   "execution_count": null,
   "metadata": {},
   "outputs": [],
   "source": []
  }
 ],
 "metadata": {
  "kernelspec": {
   "display_name": "Python 3 (ipykernel)",
   "language": "python",
   "name": "python3"
  },
  "language_info": {
   "codemirror_mode": {
    "name": "ipython",
    "version": 3
   },
   "file_extension": ".py",
   "mimetype": "text/x-python",
   "name": "python",
   "nbconvert_exporter": "python",
   "pygments_lexer": "ipython3",
   "version": "3.9.7"
  }
 },
 "nbformat": 4,
 "nbformat_minor": 4
}
